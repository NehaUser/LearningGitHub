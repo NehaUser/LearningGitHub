{
 "cells": [
  {
   "cell_type": "markdown",
   "id": "dba6c442-bce7-4862-900b-7cf03a190849",
   "metadata": {},
   "source": [
    "# Python Variable Types"
   ]
  },
  {
   "cell_type": "code",
   "execution_count": 1,
   "id": "5efab48b-2a26-40f5-87da-204e93a458fe",
   "metadata": {},
   "outputs": [
    {
     "data": {
      "text/html": [
       "\n",
       "        <iframe\n",
       "            width=\"720\"\n",
       "            height=\"480\"\n",
       "            src=\"https://player.vimeo.com/video/638046292\"\n",
       "            frameborder=\"0\"\n",
       "            allowfullscreen\n",
       "            \n",
       "        ></iframe>\n",
       "        "
      ],
      "text/plain": [
       "<IPython.lib.display.VimeoVideo at 0x108b4f790>"
      ]
     },
     "execution_count": 1,
     "metadata": {},
     "output_type": "execute_result"
    }
   ],
   "source": [
    "from IPython.display import VimeoVideo\n",
    "# Tutorial Video Name: Introduction to Python\n",
    "VimeoVideo('638046292', width=720, height=480)"
   ]
  },
  {
   "cell_type": "markdown",
   "id": "6e9d8bec-d379-4d35-852f-d9273c39717e",
   "metadata": {},
   "source": [
    "https://vimeo.com/638046292"
   ]
  },
  {
   "cell_type": "markdown",
   "id": "586f0bfd-172b-4600-a9a2-4faaa52969ca",
   "metadata": {},
   "source": [
    "## Basic data types\n",
    "\n",
    "* [String](https://docs.python.org/3/library/string.html?highlight=string#module-string)\n",
    "* [Integer](https://docs.python.org/3/library/stdtypes.html?highlight=integer)\n",
    "* [Float](https://docs.python.org/3/library/stdtypes.html?highlight=float)"
   ]
  },
  {
   "cell_type": "code",
   "execution_count": 1,
   "id": "68089b99-2da5-4c93-9cc9-0a28702f4df6",
   "metadata": {},
   "outputs": [],
   "source": [
    "my_str = \"This is a string!\""
   ]
  },
  {
   "cell_type": "code",
   "execution_count": 2,
   "id": "ef06bb86-4a21-40e8-8d25-f7f3b2befb9d",
   "metadata": {},
   "outputs": [],
   "source": [
    "my_int = 42"
   ]
  },
  {
   "cell_type": "code",
   "execution_count": 3,
   "id": "cee8032c-ed67-4034-b519-c28720ae0975",
   "metadata": {},
   "outputs": [],
   "source": [
    "my_float = 42.00"
   ]
  },
  {
   "cell_type": "code",
   "execution_count": 4,
   "id": "af0cd84c-5384-42f7-927d-df508f2f7a24",
   "metadata": {},
   "outputs": [
    {
     "data": {
      "text/plain": [
       "str"
      ]
     },
     "execution_count": 4,
     "metadata": {},
     "output_type": "execute_result"
    }
   ],
   "source": [
    "type(my_str)"
   ]
  },
  {
   "cell_type": "code",
   "execution_count": 5,
   "id": "4fb3ac87-9399-4621-b643-179407613f4d",
   "metadata": {},
   "outputs": [
    {
     "data": {
      "text/plain": [
       "int"
      ]
     },
     "execution_count": 5,
     "metadata": {},
     "output_type": "execute_result"
    }
   ],
   "source": [
    "type(my_int)"
   ]
  },
  {
   "cell_type": "code",
   "execution_count": 6,
   "id": "b09edd8d-8386-4374-afbe-f1d12bae733c",
   "metadata": {},
   "outputs": [
    {
     "data": {
      "text/plain": [
       "float"
      ]
     },
     "execution_count": 6,
     "metadata": {},
     "output_type": "execute_result"
    }
   ],
   "source": [
    "type(my_float)"
   ]
  },
  {
   "cell_type": "code",
   "execution_count": 7,
   "id": "ceee6102-0e97-4721-96ec-557e1aa55fad",
   "metadata": {},
   "outputs": [
    {
     "data": {
      "text/plain": [
       "True"
      ]
     },
     "execution_count": 7,
     "metadata": {},
     "output_type": "execute_result"
    }
   ],
   "source": [
    "my_int == my_float"
   ]
  },
  {
   "cell_type": "code",
   "execution_count": 8,
   "id": "55e9270c-6714-4b71-823e-c52a9a2f1c41",
   "metadata": {},
   "outputs": [
    {
     "data": {
      "text/plain": [
       "\u001b[0;31mType:\u001b[0m        str\n",
       "\u001b[0;31mString form:\u001b[0m This is a string!\n",
       "\u001b[0;31mLength:\u001b[0m      17\n",
       "\u001b[0;31mDocstring:\u001b[0m  \n",
       "str(object='') -> str\n",
       "str(bytes_or_buffer[, encoding[, errors]]) -> str\n",
       "\n",
       "Create a new string object from the given object. If encoding or\n",
       "errors is specified, then the object must expose a data buffer\n",
       "that will be decoded using the given encoding and error handler.\n",
       "Otherwise, returns the result of object.__str__() (if defined)\n",
       "or repr(object).\n",
       "encoding defaults to sys.getdefaultencoding().\n",
       "errors defaults to 'strict'.\n"
      ]
     },
     "metadata": {},
     "output_type": "display_data"
    }
   ],
   "source": [
    "my_str?"
   ]
  },
  {
   "cell_type": "code",
   "execution_count": 9,
   "id": "7d694187-3cfe-4738-b357-315132071da1",
   "metadata": {},
   "outputs": [
    {
     "data": {
      "text/plain": [
       "\u001b[0;31mType:\u001b[0m        int\n",
       "\u001b[0;31mString form:\u001b[0m 42\n",
       "\u001b[0;31mDocstring:\u001b[0m  \n",
       "int([x]) -> integer\n",
       "int(x, base=10) -> integer\n",
       "\n",
       "Convert a number or string to an integer, or return 0 if no arguments\n",
       "are given.  If x is a number, return x.__int__().  For floating point\n",
       "numbers, this truncates towards zero.\n",
       "\n",
       "If x is not a number or if base is given, then x must be a string,\n",
       "bytes, or bytearray instance representing an integer literal in the\n",
       "given base.  The literal can be preceded by '+' or '-' and be surrounded\n",
       "by whitespace.  The base defaults to 10.  Valid bases are 0 and 2-36.\n",
       "Base 0 means to interpret the base from the string as an integer literal.\n",
       ">>> int('0b100', base=0)\n",
       "4\n"
      ]
     },
     "metadata": {},
     "output_type": "display_data"
    }
   ],
   "source": [
    "my_int?"
   ]
  },
  {
   "cell_type": "code",
   "execution_count": 10,
   "id": "3c403a9f-8085-4c1d-974d-bdab1653b8b8",
   "metadata": {},
   "outputs": [
    {
     "data": {
      "text/plain": [
       "\u001b[0;31mType:\u001b[0m        float\n",
       "\u001b[0;31mString form:\u001b[0m 42.0\n",
       "\u001b[0;31mDocstring:\u001b[0m   Convert a string or number to a floating point number, if possible.\n"
      ]
     },
     "metadata": {},
     "output_type": "display_data"
    }
   ],
   "source": [
    "my_float?"
   ]
  },
  {
   "cell_type": "markdown",
   "id": "8c38f20a-e8a7-4744-9f2a-c2d991726bf8",
   "metadata": {},
   "source": [
    "## Converting Data Types"
   ]
  },
  {
   "cell_type": "code",
   "execution_count": 11,
   "id": "497e8200-4475-40db-8986-22d44cdeb4a8",
   "metadata": {},
   "outputs": [
    {
     "name": "stdout",
     "output_type": "stream",
     "text": [
      "42\n"
     ]
    }
   ],
   "source": [
    "str_of_int = str(my_int)\n",
    "print(str_of_int)"
   ]
  },
  {
   "cell_type": "code",
   "execution_count": 12,
   "id": "178ac50d-497e-4789-ae79-ad700e993dfc",
   "metadata": {},
   "outputs": [
    {
     "data": {
      "text/plain": [
       "False"
      ]
     },
     "execution_count": 12,
     "metadata": {},
     "output_type": "execute_result"
    }
   ],
   "source": [
    "str_of_int == my_int"
   ]
  },
  {
   "cell_type": "code",
   "execution_count": 13,
   "id": "3b73a26e-6316-41c6-a68e-14ba684162b5",
   "metadata": {},
   "outputs": [
    {
     "name": "stdout",
     "output_type": "stream",
     "text": [
      "42\n"
     ]
    }
   ],
   "source": [
    "int_of_float = int(my_float)\n",
    "print(int_of_float)"
   ]
  },
  {
   "cell_type": "code",
   "execution_count": 14,
   "id": "3c2ed59b-af3f-472c-899c-ff14100a42d3",
   "metadata": {},
   "outputs": [
    {
     "name": "stdout",
     "output_type": "stream",
     "text": [
      "42.0\n"
     ]
    }
   ],
   "source": [
    "float_of_int = float(my_int)\n",
    "print(float_of_int)"
   ]
  },
  {
   "cell_type": "markdown",
   "id": "39260fe6-bfe8-4fb6-baab-ab725f66832f",
   "metadata": {},
   "source": [
    "## Advanced Data Types\n",
    "\n",
    "* [List](https://docs.python.org/3/tutorial/datastructures.html?highlight=list)\n",
    "* [Dictionary](https://docs.python.org/3/c-api/dict.html?highlight=dictionary)\n",
    "* [Boolean](https://docs.python.org/3/c-api/bool.html?highlight=boolean)"
   ]
  },
  {
   "cell_type": "code",
   "execution_count": 16,
   "id": "ecab7578-87d0-49d4-8eb9-9302354c7fdd",
   "metadata": {},
   "outputs": [
    {
     "name": "stdout",
     "output_type": "stream",
     "text": [
      "['This', 'list', 'has', 'multiple', 'data', 'types', 1, 0.5, '!']\n"
     ]
    }
   ],
   "source": [
    "my_list = ['This', 'list', 'has', 'multiple', 'data', 'types', 1, 0.5, '!']\n",
    "print(my_list)"
   ]
  },
  {
   "cell_type": "code",
   "execution_count": 17,
   "id": "8ec58611-b317-43a0-9133-b47f9c0ca08a",
   "metadata": {},
   "outputs": [
    {
     "data": {
      "text/plain": [
       "list"
      ]
     },
     "execution_count": 17,
     "metadata": {},
     "output_type": "execute_result"
    }
   ],
   "source": [
    "type(my_list)"
   ]
  },
  {
   "cell_type": "code",
   "execution_count": 18,
   "id": "db77a62e-255d-41a3-addd-3ca39cca81bf",
   "metadata": {},
   "outputs": [
    {
     "data": {
      "text/plain": [
       "\u001b[0;31mType:\u001b[0m        list\n",
       "\u001b[0;31mString form:\u001b[0m ['This', 'list', 'has', 'multiple', 'data', 'types', 1, 0.5, '!']\n",
       "\u001b[0;31mLength:\u001b[0m      9\n",
       "\u001b[0;31mDocstring:\u001b[0m  \n",
       "Built-in mutable sequence.\n",
       "\n",
       "If no argument is given, the constructor creates a new empty list.\n",
       "The argument must be an iterable if specified.\n"
      ]
     },
     "metadata": {},
     "output_type": "display_data"
    }
   ],
   "source": [
    "my_list?"
   ]
  },
  {
   "cell_type": "code",
   "execution_count": 19,
   "id": "7d4d879e-722e-416c-8b3e-4b6708468501",
   "metadata": {},
   "outputs": [
    {
     "name": "stdout",
     "output_type": "stream",
     "text": [
      "{'key1': 'value1', 'key2': 'value2'}\n"
     ]
    }
   ],
   "source": [
    "my_dict = {'key1': 'value1', 'key2': 'value2'}\n",
    "print(my_dict)"
   ]
  },
  {
   "cell_type": "code",
   "execution_count": 20,
   "id": "997a7a94-d28b-475d-8ef9-c417d020aadd",
   "metadata": {},
   "outputs": [
    {
     "name": "stdout",
     "output_type": "stream",
     "text": [
      "key1\n",
      "value1\n",
      "key2\n",
      "value2\n"
     ]
    }
   ],
   "source": [
    "for k, v in my_dict.items():\n",
    "    print(k)\n",
    "    print(v)"
   ]
  },
  {
   "cell_type": "code",
   "execution_count": 21,
   "id": "9152c960-2651-4ee5-b5f0-4874050dff84",
   "metadata": {},
   "outputs": [
    {
     "data": {
      "text/plain": [
       "dict"
      ]
     },
     "execution_count": 21,
     "metadata": {},
     "output_type": "execute_result"
    }
   ],
   "source": [
    "type(my_dict)"
   ]
  },
  {
   "cell_type": "code",
   "execution_count": 22,
   "id": "0578433c-b93f-4e3a-82e9-eb58533ece7c",
   "metadata": {},
   "outputs": [
    {
     "data": {
      "text/plain": [
       "\u001b[0;31mType:\u001b[0m        dict\n",
       "\u001b[0;31mString form:\u001b[0m {'key1': 'value1', 'key2': 'value2'}\n",
       "\u001b[0;31mLength:\u001b[0m      2\n",
       "\u001b[0;31mDocstring:\u001b[0m  \n",
       "dict() -> new empty dictionary\n",
       "dict(mapping) -> new dictionary initialized from a mapping object's\n",
       "    (key, value) pairs\n",
       "dict(iterable) -> new dictionary initialized as if via:\n",
       "    d = {}\n",
       "    for k, v in iterable:\n",
       "        d[k] = v\n",
       "dict(**kwargs) -> new dictionary initialized with the name=value pairs\n",
       "    in the keyword argument list.  For example:  dict(one=1, two=2)\n"
      ]
     },
     "metadata": {},
     "output_type": "display_data"
    }
   ],
   "source": [
    "my_dict?"
   ]
  },
  {
   "cell_type": "code",
   "execution_count": 26,
   "id": "b12093d4-f162-4f6e-a245-8c456f3c20b6",
   "metadata": {},
   "outputs": [
    {
     "name": "stdout",
     "output_type": "stream",
     "text": [
      "True\n",
      "False\n"
     ]
    }
   ],
   "source": [
    "# Booleans can be either True or False\n",
    "my_bool = True\n",
    "my_other_bool = False\n",
    "print(my_bool)\n",
    "print(my_other_bool)"
   ]
  },
  {
   "cell_type": "code",
   "execution_count": 24,
   "id": "01a8a947-d4a4-4d35-997b-351bff0754a1",
   "metadata": {},
   "outputs": [
    {
     "data": {
      "text/plain": [
       "bool"
      ]
     },
     "execution_count": 24,
     "metadata": {},
     "output_type": "execute_result"
    }
   ],
   "source": [
    "type(my_bool)"
   ]
  },
  {
   "cell_type": "code",
   "execution_count": 25,
   "id": "5a897b2a-66a5-4b14-9b2e-096982ce09e5",
   "metadata": {},
   "outputs": [
    {
     "data": {
      "text/plain": [
       "\u001b[0;31mType:\u001b[0m        bool\n",
       "\u001b[0;31mString form:\u001b[0m True\n",
       "\u001b[0;31mDocstring:\u001b[0m  \n",
       "bool(x) -> bool\n",
       "\n",
       "Returns True when the argument x is true, False otherwise.\n",
       "The builtins True and False are the only two instances of the class bool.\n",
       "The class bool is a subclass of the class int, and cannot be subclassed.\n"
      ]
     },
     "metadata": {},
     "output_type": "display_data"
    }
   ],
   "source": [
    "my_bool?"
   ]
  },
  {
   "cell_type": "code",
   "execution_count": null,
   "id": "4ef668b9-c6a7-4793-8f9e-9d49c0ed3bc8",
   "metadata": {},
   "outputs": [],
   "source": []
  }
 ],
 "metadata": {
  "kernelspec": {
   "display_name": "Python 3 (ipykernel)",
   "language": "python",
   "name": "python3"
  },
  "language_info": {
   "codemirror_mode": {
    "name": "ipython",
    "version": 3
   },
   "file_extension": ".py",
   "mimetype": "text/x-python",
   "name": "python",
   "nbconvert_exporter": "python",
   "pygments_lexer": "ipython3",
   "version": "3.9.7"
  }
 },
 "nbformat": 4,
 "nbformat_minor": 5
}
