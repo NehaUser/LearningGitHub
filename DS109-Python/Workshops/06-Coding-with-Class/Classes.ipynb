{
 "cells": [
  {
   "cell_type": "markdown",
   "id": "0a9b844c-ff12-40c2-94b9-3d7a925a4092",
   "metadata": {},
   "source": [
    "# Classes in Python"
   ]
  },
  {
   "cell_type": "code",
   "execution_count": 1,
   "id": "bfce7bab-2dca-4d96-8c33-8ffafe2ef13d",
   "metadata": {},
   "outputs": [
    {
     "data": {
      "text/html": [
       "\n",
       "        <iframe\n",
       "            width=\"720\"\n",
       "            height=\"480\"\n",
       "            src=\"https://player.vimeo.com/video/653059048\"\n",
       "            frameborder=\"0\"\n",
       "            allowfullscreen\n",
       "            \n",
       "        ></iframe>\n",
       "        "
      ],
      "text/plain": [
       "<IPython.lib.display.VimeoVideo at 0x10653f4f0>"
      ]
     },
     "execution_count": 1,
     "metadata": {},
     "output_type": "execute_result"
    }
   ],
   "source": [
    "from IPython.display import VimeoVideo\n",
    "# Tutorial Video Name: Classes in Python\n",
    "VimeoVideo('653059048', width=720, height=480)"
   ]
  },
  {
   "cell_type": "markdown",
   "id": "793fb53f-6219-4853-b8b0-6a7e28f26793",
   "metadata": {},
   "source": [
    "https://vimeo.com/653059048"
   ]
  },
  {
   "cell_type": "code",
   "execution_count": 1,
   "id": "7398e939-e57c-47bc-8a01-ed886077d066",
   "metadata": {},
   "outputs": [],
   "source": [
    "# Let's set up classes for a video game.  They have different types of characters you can play. Barbarian! \n",
    "\n",
    "# Define the barbarian class\n",
    "\n",
    "class Barbarian: \n",
    "    '''This is a class for warriors!\n",
    "    It helps tell tales of great victories!\n",
    "    It has a doc string to help tell others what it's for\n",
    "    '''\n",
    "    # This is my initialization statement\n",
    "    def __init__ (self, name, can_read, weapon, enemies_vanquished, tribe=None):\n",
    "        self.name = name\n",
    "        self.can_read = can_read\n",
    "        self.weapon = weapon\n",
    "        self.enemies_vanquished = enemies_vanquished\n",
    "        self.tribe = tribe\n",
    "    # This is a function\n",
    "    def victory(self):\n",
    "        print(self.name + \" the barbarian has had victory over \" + self.enemies_vanquished + \" enemies with a \" + self.weapon + \"!\")\n",
    "    # This is another function\n",
    "    def educated(self):\n",
    "        if self.can_read ==True:\n",
    "            print(\"Wow! I can't believe \" + self.name + \" can read!\")"
   ]
  },
  {
   "cell_type": "markdown",
   "id": "294bae59-cc7f-4d91-9a66-814537278322",
   "metadata": {},
   "source": [
    "## Create an instance of that class"
   ]
  },
  {
   "cell_type": "code",
   "execution_count": 2,
   "id": "1eee6730-d600-454a-b4a4-837c9eef22c0",
   "metadata": {},
   "outputs": [],
   "source": [
    "Conan = Barbarian(\"Conan\", True, \"sword\", \"721\")"
   ]
  },
  {
   "cell_type": "code",
   "execution_count": 3,
   "id": "b7d41d5b-2a9b-4c7b-949f-607b134aded7",
   "metadata": {},
   "outputs": [],
   "source": [
    "Barbarella = Barbarian(\"Barbarella\", False, \"spear\", \"100\")"
   ]
  },
  {
   "cell_type": "markdown",
   "id": "4bcf0707-626d-42b3-be1a-8d02424956f3",
   "metadata": {},
   "source": [
    "## Accessing Attributes"
   ]
  },
  {
   "cell_type": "code",
   "execution_count": 4,
   "id": "726a2fb4-a5f6-4b60-b9fe-c86f56c77f2d",
   "metadata": {},
   "outputs": [
    {
     "data": {
      "text/plain": [
       "'sword'"
      ]
     },
     "execution_count": 4,
     "metadata": {},
     "output_type": "execute_result"
    }
   ],
   "source": [
    "Conan.weapon"
   ]
  },
  {
   "cell_type": "code",
   "execution_count": 5,
   "id": "139a2afd-527a-46a8-a00e-d8308d68e2a8",
   "metadata": {},
   "outputs": [
    {
     "data": {
      "text/plain": [
       "'100'"
      ]
     },
     "execution_count": 5,
     "metadata": {},
     "output_type": "execute_result"
    }
   ],
   "source": [
    "Barbarella.enemies_vanquished"
   ]
  },
  {
   "cell_type": "markdown",
   "id": "dcf7f302-62ff-4493-aaad-655212858716",
   "metadata": {},
   "source": [
    "## Class functions"
   ]
  },
  {
   "cell_type": "code",
   "execution_count": 6,
   "id": "597a9ee5-2c63-4a5a-9512-8d6e8b5a7a60",
   "metadata": {},
   "outputs": [
    {
     "name": "stdout",
     "output_type": "stream",
     "text": [
      "Conan the barbarian has had victory over 721 enemies with a sword!\n"
     ]
    }
   ],
   "source": [
    "Conan.victory()"
   ]
  },
  {
   "cell_type": "code",
   "execution_count": 7,
   "id": "cbcfb0cc-3639-4d2f-a1b7-75ff298ab3c6",
   "metadata": {},
   "outputs": [
    {
     "name": "stdout",
     "output_type": "stream",
     "text": [
      "Wow! I can't believe Conan can read!\n"
     ]
    }
   ],
   "source": [
    "Conan.educated()"
   ]
  },
  {
   "cell_type": "code",
   "execution_count": 8,
   "id": "b3193236-0b92-4947-b1df-36e19efc408e",
   "metadata": {},
   "outputs": [
    {
     "name": "stdout",
     "output_type": "stream",
     "text": [
      "Barbarella the barbarian has had victory over 100 enemies with a spear!\n"
     ]
    }
   ],
   "source": [
    "Barbarella.victory()"
   ]
  },
  {
   "cell_type": "code",
   "execution_count": 9,
   "id": "d96b5752-b05c-4729-8e60-e8ba20beac95",
   "metadata": {},
   "outputs": [],
   "source": [
    "Barbarella.educated()"
   ]
  },
  {
   "cell_type": "markdown",
   "id": "51bc1f66-3bed-4152-9686-f766261f383e",
   "metadata": {},
   "source": [
    "## Add Attributes"
   ]
  },
  {
   "cell_type": "code",
   "execution_count": 10,
   "id": "7f27be81-91f0-4f84-b88d-d81e0344ad43",
   "metadata": {},
   "outputs": [],
   "source": [
    "Conan.tribe = 'IronFist'"
   ]
  },
  {
   "cell_type": "code",
   "execution_count": 11,
   "id": "5e504e2c-a37d-4b20-8245-73b408bc87f6",
   "metadata": {},
   "outputs": [
    {
     "data": {
      "text/plain": [
       "'IronFist'"
      ]
     },
     "execution_count": 11,
     "metadata": {},
     "output_type": "execute_result"
    }
   ],
   "source": [
    "Conan.tribe"
   ]
  },
  {
   "cell_type": "code",
   "execution_count": 12,
   "id": "3becc067-fb95-4766-98f6-f61a98ab4366",
   "metadata": {},
   "outputs": [],
   "source": [
    "Barbarella.tribe = 'Amazon'"
   ]
  },
  {
   "cell_type": "code",
   "execution_count": 13,
   "id": "bfd5e83d-d02c-4087-bcdf-31346655417d",
   "metadata": {},
   "outputs": [
    {
     "data": {
      "text/plain": [
       "'Amazon'"
      ]
     },
     "execution_count": 13,
     "metadata": {},
     "output_type": "execute_result"
    }
   ],
   "source": [
    "Barbarella.tribe"
   ]
  },
  {
   "cell_type": "code",
   "execution_count": 14,
   "id": "a1fdfcec-cd62-4b66-a047-6d9ec701a82f",
   "metadata": {},
   "outputs": [],
   "source": [
    "def describe_barbarian(barbarian):\n",
    "    desc = f'{barbarian.name} of the {barbarian.tribe} wields a mighty {barbarian.weapon}!'\n",
    "    print(desc)"
   ]
  },
  {
   "cell_type": "code",
   "execution_count": 15,
   "id": "8f5e1160-00e0-4f79-a4e3-4767806234e2",
   "metadata": {},
   "outputs": [
    {
     "name": "stdout",
     "output_type": "stream",
     "text": [
      "Conan of the IronFist wields a mighty sword!\n"
     ]
    }
   ],
   "source": [
    "describe_barbarian(Conan)"
   ]
  },
  {
   "cell_type": "code",
   "execution_count": 16,
   "id": "d9a2c0d8-fca1-4a83-b79f-3e3bd556b392",
   "metadata": {},
   "outputs": [
    {
     "name": "stdout",
     "output_type": "stream",
     "text": [
      "Barbarella of the Amazon wields a mighty spear!\n"
     ]
    }
   ],
   "source": [
    "describe_barbarian(Barbarella)"
   ]
  },
  {
   "cell_type": "markdown",
   "id": "331fd381-10e0-4bd2-9b74-044a1d3f290e",
   "metadata": {},
   "source": [
    "## Update attributes"
   ]
  },
  {
   "cell_type": "code",
   "execution_count": 17,
   "id": "0698d0d8-21e5-4ea2-bb53-72cbcd6387d4",
   "metadata": {},
   "outputs": [
    {
     "data": {
      "text/plain": [
       "{'name': 'Conan',\n",
       " 'can_read': True,\n",
       " 'weapon': 'sword',\n",
       " 'enemies_vanquished': '721',\n",
       " 'tribe': 'IronFist'}"
      ]
     },
     "execution_count": 17,
     "metadata": {},
     "output_type": "execute_result"
    }
   ],
   "source": [
    "Conan.__dict__"
   ]
  },
  {
   "cell_type": "code",
   "execution_count": 18,
   "id": "5e9814b6-5d61-4961-a713-1a1414c7ae53",
   "metadata": {},
   "outputs": [],
   "source": [
    "Conan.weapon = 'teacup'"
   ]
  },
  {
   "cell_type": "code",
   "execution_count": 19,
   "id": "351e729a-cfc0-4c5b-bbe8-2790efff603a",
   "metadata": {},
   "outputs": [
    {
     "name": "stdout",
     "output_type": "stream",
     "text": [
      "Conan of the IronFist wields a mighty teacup!\n"
     ]
    }
   ],
   "source": [
    "describe_barbarian(Conan)"
   ]
  },
  {
   "cell_type": "code",
   "execution_count": 20,
   "id": "c9540362-969b-432b-a39a-b2eb761f304a",
   "metadata": {},
   "outputs": [
    {
     "data": {
      "text/plain": [
       "{'name': 'Conan',\n",
       " 'can_read': True,\n",
       " 'weapon': 'teacup',\n",
       " 'enemies_vanquished': '721',\n",
       " 'tribe': 'IronFist'}"
      ]
     },
     "execution_count": 20,
     "metadata": {},
     "output_type": "execute_result"
    }
   ],
   "source": [
    "Conan.__dict__"
   ]
  },
  {
   "cell_type": "markdown",
   "id": "217ea797-3592-4656-9b86-3373d1296bb7",
   "metadata": {},
   "source": [
    "## Exploring the class"
   ]
  },
  {
   "cell_type": "code",
   "execution_count": 21,
   "id": "40554181-752d-4299-ab14-146be483f2aa",
   "metadata": {},
   "outputs": [
    {
     "data": {
      "text/plain": [
       "['__class__',\n",
       " '__delattr__',\n",
       " '__dict__',\n",
       " '__dir__',\n",
       " '__doc__',\n",
       " '__eq__',\n",
       " '__format__',\n",
       " '__ge__',\n",
       " '__getattribute__',\n",
       " '__gt__',\n",
       " '__hash__',\n",
       " '__init__',\n",
       " '__init_subclass__',\n",
       " '__le__',\n",
       " '__lt__',\n",
       " '__module__',\n",
       " '__ne__',\n",
       " '__new__',\n",
       " '__reduce__',\n",
       " '__reduce_ex__',\n",
       " '__repr__',\n",
       " '__setattr__',\n",
       " '__sizeof__',\n",
       " '__str__',\n",
       " '__subclasshook__',\n",
       " '__weakref__',\n",
       " 'can_read',\n",
       " 'educated',\n",
       " 'enemies_vanquished',\n",
       " 'name',\n",
       " 'tribe',\n",
       " 'victory',\n",
       " 'weapon']"
      ]
     },
     "execution_count": 21,
     "metadata": {},
     "output_type": "execute_result"
    }
   ],
   "source": [
    "dir(Conan)"
   ]
  },
  {
   "cell_type": "code",
   "execution_count": 22,
   "id": "f3b288c3-db35-4348-a14f-fd27c56db89f",
   "metadata": {},
   "outputs": [
    {
     "data": {
      "text/plain": [
       "\"This is a class for warriors!\\n    It helps tell tales of great victories!\\n    It has a doc string to help tell others what it's for\\n    \""
      ]
     },
     "execution_count": 22,
     "metadata": {},
     "output_type": "execute_result"
    }
   ],
   "source": [
    "Conan.__doc__"
   ]
  },
  {
   "cell_type": "code",
   "execution_count": 23,
   "id": "c31d58e2-55b6-4ece-b31c-c9256128b9d6",
   "metadata": {},
   "outputs": [
    {
     "data": {
      "text/plain": [
       "\u001b[0;31mInit signature:\u001b[0m \u001b[0mBarbarian\u001b[0m\u001b[0;34m(\u001b[0m\u001b[0mname\u001b[0m\u001b[0;34m,\u001b[0m \u001b[0mcan_read\u001b[0m\u001b[0;34m,\u001b[0m \u001b[0mweapon\u001b[0m\u001b[0;34m,\u001b[0m \u001b[0menemies_vanquished\u001b[0m\u001b[0;34m,\u001b[0m \u001b[0mtribe\u001b[0m\u001b[0;34m=\u001b[0m\u001b[0;32mNone\u001b[0m\u001b[0;34m)\u001b[0m\u001b[0;34m\u001b[0m\u001b[0;34m\u001b[0m\u001b[0m\n",
       "\u001b[0;31mDocstring:\u001b[0m     \n",
       "This is a class for warriors!\n",
       "It helps tell tales of great victories!\n",
       "It has a doc string to help tell others what it's for\n",
       "\u001b[0;31mType:\u001b[0m           type\n",
       "\u001b[0;31mSubclasses:\u001b[0m     \n"
      ]
     },
     "metadata": {},
     "output_type": "display_data"
    }
   ],
   "source": [
    "Barbarian?"
   ]
  },
  {
   "cell_type": "markdown",
   "id": "22fe3b1c-2421-4be2-86fa-96f331b5323c",
   "metadata": {},
   "source": [
    "# The Bard"
   ]
  },
  {
   "cell_type": "code",
   "execution_count": 30,
   "id": "0e53df33-e2e6-495e-8d70-b1ba0c40fcf4",
   "metadata": {},
   "outputs": [],
   "source": [
    "# Define the Bard class\n",
    "\n",
    "class Bard: \n",
    "    '''This is a class for story tellers!\n",
    "    They know songs and myths relying on instruments instead of weapons!\n",
    "    '''\n",
    "    # This is my initialization statement\n",
    "    def __init__ (self, name, favorite_song, instruments, can_read=True, tribe=None):\n",
    "        self.name = name\n",
    "        self.favorite_song = favorite_song\n",
    "        self.instruments = instruments\n",
    "        self.can_read = can_read\n",
    "        self.tribe = tribe\n",
    "    # This is a function\n",
    "    def song_of_glory(self):\n",
    "        print(self.name + \" the bard sings \" + self.favorite_song + \"!\")\n",
    "    # This is another function\n",
    "    def practice_instrument(self, instrument):\n",
    "        if instrument in self.instruments:\n",
    "            print(f'{self.name} practices the {instrument}!')\n",
    "        else:\n",
    "            print(f'Alas, {self.name} does not have a {instrument}!')\n",
    "    \n",
    "    def add_instrument(self, instrument):\n",
    "        self.instruments.append(instrument)"
   ]
  },
  {
   "cell_type": "code",
   "execution_count": 31,
   "id": "51ea7d53-95eb-494c-bab2-91da5726df59",
   "metadata": {},
   "outputs": [],
   "source": [
    "Bardo = Bard('Bardo', 'Wheels on the Bus', ['flute', 'harp'], can_read=True, tribe='Traveling Wilburys')"
   ]
  },
  {
   "cell_type": "code",
   "execution_count": 32,
   "id": "54faa923-055e-44b1-a7da-03138c67eb29",
   "metadata": {},
   "outputs": [
    {
     "name": "stdout",
     "output_type": "stream",
     "text": [
      "Bardo the bard sings Wheels on the Bus!\n"
     ]
    }
   ],
   "source": [
    "Bardo.song_of_glory()"
   ]
  },
  {
   "cell_type": "code",
   "execution_count": 33,
   "id": "fc62cf85-eb27-4fcf-a62e-9495e3afe92b",
   "metadata": {},
   "outputs": [
    {
     "name": "stdout",
     "output_type": "stream",
     "text": [
      "Bardo practices the flute!\n"
     ]
    }
   ],
   "source": [
    "Bardo.practice_instrument('flute')"
   ]
  },
  {
   "cell_type": "code",
   "execution_count": 34,
   "id": "fc703f4b-6498-4326-8655-0263c388b49c",
   "metadata": {},
   "outputs": [
    {
     "name": "stdout",
     "output_type": "stream",
     "text": [
      "Alas, Bardo does not have a guitar!\n"
     ]
    }
   ],
   "source": [
    "Bardo.practice_instrument('guitar')"
   ]
  },
  {
   "cell_type": "code",
   "execution_count": 35,
   "id": "a5c29d95-8976-4197-aa01-a940e849b06c",
   "metadata": {},
   "outputs": [],
   "source": [
    "Bardo.add_instrument('guitar')"
   ]
  },
  {
   "cell_type": "code",
   "execution_count": 36,
   "id": "20aa5b21-2a5b-4fae-b080-b47701eacd2c",
   "metadata": {},
   "outputs": [
    {
     "name": "stdout",
     "output_type": "stream",
     "text": [
      "Bardo practices the guitar!\n"
     ]
    }
   ],
   "source": [
    "Bardo.practice_instrument('guitar')"
   ]
  },
  {
   "cell_type": "code",
   "execution_count": 58,
   "id": "5aef4d0a-3b16-45cf-8c54-1b252f826a4f",
   "metadata": {},
   "outputs": [],
   "source": [
    "class Squad:\n",
    "    \"\"\"Class to join warriors and bards into a team\n",
    "    \"\"\"\n",
    "    def __init__(self, barbarian, bard):\n",
    "        self.barbarian = barbarian\n",
    "        self.bard = bard\n",
    "        \n",
    "    def fight_and_sing(self):\n",
    "        print(f'{self.barbarian.name} defends {self.bard.name} from trollocs with his {self.barbarian.weapon} while he sings {self.bard.favorite_song}!')\n",
    "        \n",
    "    def teach_reading(self):\n",
    "        if self.barbarian.can_read:\n",
    "            print(f'{self.bard.name} tries to teach {self.barbarian.name} to read, but {self.barbarian.name} scoffs at the attempt!')\n",
    "        else:\n",
    "            print(f'{self.bard.name} tries to teach {self.barbarian.name} to read, but {self.barbarian.name} would rather hone a {self.barbarian.weapon}!')"
   ]
  },
  {
   "cell_type": "code",
   "execution_count": 59,
   "id": "d67cc589-20f0-423c-9daf-cae803ca3bc3",
   "metadata": {},
   "outputs": [],
   "source": [
    "GoonSquad = Squad(Conan, Bardo)"
   ]
  },
  {
   "cell_type": "code",
   "execution_count": 60,
   "id": "ecf3480e-11b0-413d-9c79-194289efebd6",
   "metadata": {},
   "outputs": [
    {
     "name": "stdout",
     "output_type": "stream",
     "text": [
      "Conan defends Bardo from trollocs with his teacup while he sings Wheels on the Bus!\n"
     ]
    }
   ],
   "source": [
    "GoonSquad.fight_and_sing()"
   ]
  },
  {
   "cell_type": "code",
   "execution_count": 61,
   "id": "7e2b7f76-bbf5-4b4d-9898-5c0a3b3f4b4f",
   "metadata": {},
   "outputs": [
    {
     "name": "stdout",
     "output_type": "stream",
     "text": [
      "Bardo tries to teach Conan to read, but Conan scoffs at the attempt!\n"
     ]
    }
   ],
   "source": [
    "GoonSquad.teach_reading()"
   ]
  },
  {
   "cell_type": "code",
   "execution_count": 62,
   "id": "41b9e2fb-01c7-41a1-b0a8-42f501755528",
   "metadata": {},
   "outputs": [],
   "source": [
    "ToonSquad = Squad(Barbarella, Bardo)"
   ]
  },
  {
   "cell_type": "code",
   "execution_count": 63,
   "id": "95417604-7a7e-4bd2-af72-b9d4ae43a609",
   "metadata": {},
   "outputs": [
    {
     "name": "stdout",
     "output_type": "stream",
     "text": [
      "Barbarella defends Bardo from trollocs with his spear while he sings Wheels on the Bus!\n"
     ]
    }
   ],
   "source": [
    "ToonSquad.fight_and_sing()"
   ]
  },
  {
   "cell_type": "code",
   "execution_count": 64,
   "id": "cd20aa43-78b5-4241-90f7-aa6ddd5bbd3f",
   "metadata": {},
   "outputs": [
    {
     "name": "stdout",
     "output_type": "stream",
     "text": [
      "Bardo tries to teach Barbarella to read, but Barbarella would rather hone a spear!\n"
     ]
    }
   ],
   "source": [
    "ToonSquad.teach_reading()"
   ]
  },
  {
   "cell_type": "code",
   "execution_count": null,
   "id": "6bcfc2ad-eaed-4b4b-9b0b-10f3f1725ccc",
   "metadata": {},
   "outputs": [],
   "source": []
  }
 ],
 "metadata": {
  "kernelspec": {
   "display_name": "Python 3 (ipykernel)",
   "language": "python",
   "name": "python3"
  },
  "language_info": {
   "codemirror_mode": {
    "name": "ipython",
    "version": 3
   },
   "file_extension": ".py",
   "mimetype": "text/x-python",
   "name": "python",
   "nbconvert_exporter": "python",
   "pygments_lexer": "ipython3",
   "version": "3.9.9"
  }
 },
 "nbformat": 4,
 "nbformat_minor": 5
}
