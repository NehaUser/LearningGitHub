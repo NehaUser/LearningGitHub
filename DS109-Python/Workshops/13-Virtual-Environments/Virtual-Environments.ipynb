{
 "cells": [
  {
   "cell_type": "markdown",
   "id": "dca8ab76-8b49-41c1-8a51-bacf103d42e0",
   "metadata": {},
   "source": [
    "# Creating Virtual Environments"
   ]
  },
  {
   "cell_type": "markdown",
   "id": "eaac27ee-5d9f-418d-9e4d-fbb939e59cb1",
   "metadata": {},
   "source": [
    "Creating virtual environments are very important especially when you are:\n",
    "\n",
    "1. Working on multiple projects on the same computer\n",
    "    a. Each project can have different requirements and dependencies that may not work with each other.\n",
    "    b. Two versions of the same module can't be installed in the same environment.\n",
    "2. Working on a project that needs to be identical to a production server, so you need to create that same environment on your laptop.\n",
    "\n",
    "We can do this by using the virtualenv module, that creates the virtual environment.\n",
    "\n",
    "\n",
    "In Python3, the virtualenv tool is installed automatically.\n",
    "\n",
    "\n",
    "To create a new virtual environment, do the following:\n",
    "\n",
    "Go to the main directory that contains the project.\n",
    "Type the following command:\n",
    "\n",
    "```shell\n",
    "python3 -m venv .venv\n",
    "```\n",
    "\n",
    "This creates a subdirectory called .venv that contains the virtual environment.\n",
    "\n",
    "Before activating the virtual environment, check the version installed in pip. \n",
    "\n",
    "```shell\n",
    "pip --version\n",
    "which python3 #!which python3 in this notebook\n",
    "```\n"
   ]
  },
  {
   "cell_type": "code",
   "execution_count": 1,
   "id": "b0427353-a11b-4fe3-8ff1-526a6ae91dd7",
   "metadata": {},
   "outputs": [
    {
     "name": "stdout",
     "output_type": "stream",
     "text": [
      "pip 21.3.1 from /usr/local/lib/python3.9/site-packages/pip (python 3.9)\n",
      "Note: you may need to restart the kernel to use updated packages.\n"
     ]
    }
   ],
   "source": [
    "pip --version"
   ]
  },
  {
   "cell_type": "code",
   "execution_count": 3,
   "id": "d8793884-7387-483b-bafc-b8641968d54c",
   "metadata": {},
   "outputs": [
    {
     "name": "stdout",
     "output_type": "stream",
     "text": [
      "/usr/local/bin/python3\n"
     ]
    }
   ],
   "source": [
    "!which python3"
   ]
  },
  {
   "cell_type": "code",
   "execution_count": 6,
   "id": "fdf0899c-2397-4542-9023-5bd67032963d",
   "metadata": {},
   "outputs": [],
   "source": [
    "!python3 -m venv .venv"
   ]
  },
  {
   "cell_type": "code",
   "execution_count": 7,
   "id": "88972e53-8766-4565-b0b2-4106795a2821",
   "metadata": {},
   "outputs": [],
   "source": [
    "#Activate the virtual environment by running this:\n",
    "!source .venv/bin/activate"
   ]
  },
  {
   "cell_type": "code",
   "execution_count": 8,
   "id": "1fb99e15-b560-49fe-b341-e4626f2d9fd2",
   "metadata": {},
   "outputs": [
    {
     "name": "stdout",
     "output_type": "stream",
     "text": [
      "/usr/local/bin/python3\n"
     ]
    }
   ],
   "source": [
    "!which python3"
   ]
  },
  {
   "cell_type": "code",
   "execution_count": null,
   "id": "d64cd9e1-6f86-4067-9c3f-e7d46458d371",
   "metadata": {},
   "outputs": [],
   "source": []
  }
 ],
 "metadata": {
  "kernelspec": {
   "display_name": "Python 3 (ipykernel)",
   "language": "python",
   "name": "python3"
  },
  "language_info": {
   "codemirror_mode": {
    "name": "ipython",
    "version": 3
   },
   "file_extension": ".py",
   "mimetype": "text/x-python",
   "name": "python",
   "nbconvert_exporter": "python",
   "pygments_lexer": "ipython3",
   "version": "3.9.10"
  }
 },
 "nbformat": 4,
 "nbformat_minor": 5
}
