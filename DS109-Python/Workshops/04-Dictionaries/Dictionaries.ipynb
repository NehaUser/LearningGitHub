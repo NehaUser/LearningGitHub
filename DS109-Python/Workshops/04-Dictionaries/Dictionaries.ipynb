{
 "cells": [
  {
   "cell_type": "markdown",
   "id": "f78dd300-9d52-4ddc-b3a8-3e528032df89",
   "metadata": {},
   "source": [
    "# Dictionaries in Python Workshop"
   ]
  },
  {
   "cell_type": "code",
   "execution_count": 1,
   "id": "00410230-3a17-4c6c-8ffb-f4d650853856",
   "metadata": {},
   "outputs": [
    {
     "name": "stdout",
     "output_type": "stream",
     "text": [
      "{'Name': 'Nerds', 'Sweetness': 5, 'Sour': 7, 'EatenToday': False, 'NumberEaten': 50}\n"
     ]
    }
   ],
   "source": [
    "FavoriteCandy = {\n",
    " \"Name\" : \"Nerds\",\n",
    " \"Sweetness\" : 5,\n",
    " \"Sour\" : 7,\n",
    " \"EatenToday\" : False,\n",
    " \"NumberEaten\" : 50\n",
    " }\n",
    "\n",
    "print(FavoriteCandy)"
   ]
  },
  {
   "cell_type": "code",
   "execution_count": 3,
   "id": "bb47b4e1-055a-4778-9183-e2332d15430e",
   "metadata": {},
   "outputs": [
    {
     "name": "stdout",
     "output_type": "stream",
     "text": [
      "dict_keys(['Name', 'Sweetness', 'Sour', 'EatenToday', 'NumberEaten'])\n",
      "dict_values(['Nerds', 5, 7, False, 50])\n",
      "dict_items([('Name', 'Nerds'), ('Sweetness', 5), ('Sour', 7), ('EatenToday', False), ('NumberEaten', 50)])\n",
      "Nerds\n",
      "My name is Jupyter Joe. My favorite candy is Nerds.\n"
     ]
    }
   ],
   "source": [
    "# Dictionary Functions\n",
    "print(FavoriteCandy.keys())\n",
    "print(FavoriteCandy.values())\n",
    "print(FavoriteCandy.items())\n",
    "print(FavoriteCandy.get('Name'))\n",
    "print(\"My name is Jupyter Joe. My favorite candy is \" + FavoriteCandy.get('Name') + \".\")"
   ]
  },
  {
   "cell_type": "code",
   "execution_count": 4,
   "id": "f1089625-bfde-4e9e-816a-fe3d36b4ec07",
   "metadata": {},
   "outputs": [
    {
     "name": "stdout",
     "output_type": "stream",
     "text": [
      "Key: Name Value: Nerds\n",
      "Key: Sweetness Value: 5\n",
      "Key: Sour Value: 7\n",
      "Key: EatenToday Value: False\n",
      "Key: NumberEaten Value: 50\n"
     ]
    }
   ],
   "source": [
    "# Use them to iterate!\n",
    "for key, value in FavoriteCandy.items():\n",
    "    print(\"Key:\", key, \"Value:\", value)"
   ]
  },
  {
   "cell_type": "code",
   "execution_count": 6,
   "id": "13249e0d-8350-4b74-a7df-58266f15d2ae",
   "metadata": {},
   "outputs": [
    {
     "name": "stdout",
     "output_type": "stream",
     "text": [
      "{'name': 'Mars Bars', 'price': 2.99}\n",
      "{'name': 'Mallow Cups', 'price': 3.99}\n",
      "{'name': 'M&Ms', 'price': 1.99}\n"
     ]
    }
   ],
   "source": [
    "# A List of Dictionaries!\n",
    "candy1 = {'name': 'Mars Bars' , 'price': 2.99}\n",
    "candy2 = {'name': 'Mallow Cups' , 'price': 3.99}\n",
    "candy3 = {'name': 'M&Ms' , 'price': 1.99}\n",
    "chocolateMcandies = [candy1, candy2, candy3]\n",
    "for candy in chocolateMcandies:\n",
    "    print(candy)"
   ]
  },
  {
   "cell_type": "code",
   "execution_count": 7,
   "id": "27c3258e-bed5-4de4-a311-5c17dbc6b224",
   "metadata": {},
   "outputs": [
    {
     "ename": "NameError",
     "evalue": "name 'FavoriteCandy' is not defined",
     "output_type": "error",
     "traceback": [
      "\u001b[0;31m---------------------------------------------------------------------------\u001b[0m",
      "\u001b[0;31mNameError\u001b[0m                                 Traceback (most recent call last)",
      "\u001b[0;32m/var/folders/wk/6why77bn1kn0l0pkd4vd3zl00000gn/T/ipykernel_23077/2062946365.py\u001b[0m in \u001b[0;36m<module>\u001b[0;34m\u001b[0m\n\u001b[1;32m      1\u001b[0m \u001b[0;31m# Deleting dictionaries\u001b[0m\u001b[0;34m\u001b[0m\u001b[0;34m\u001b[0m\u001b[0m\n\u001b[1;32m      2\u001b[0m \u001b[0;32mdel\u001b[0m \u001b[0mFavoriteCandy\u001b[0m\u001b[0;34m\u001b[0m\u001b[0;34m\u001b[0m\u001b[0m\n\u001b[0;32m----> 3\u001b[0;31m \u001b[0mprint\u001b[0m\u001b[0;34m(\u001b[0m\u001b[0mFavoriteCandy\u001b[0m\u001b[0;34m)\u001b[0m\u001b[0;34m\u001b[0m\u001b[0;34m\u001b[0m\u001b[0m\n\u001b[0m",
      "\u001b[0;31mNameError\u001b[0m: name 'FavoriteCandy' is not defined"
     ]
    }
   ],
   "source": [
    "# Deleting dictionaries\n",
    "del FavoriteCandy\n",
    "print(FavoriteCandy)"
   ]
  },
  {
   "cell_type": "code",
   "execution_count": null,
   "id": "9a831ebd-0eb8-4aa2-ac97-670179ca22ab",
   "metadata": {},
   "outputs": [],
   "source": []
  }
 ],
 "metadata": {
  "kernelspec": {
   "display_name": "Python 3 (ipykernel)",
   "language": "python",
   "name": "python3"
  },
  "language_info": {
   "codemirror_mode": {
    "name": "ipython",
    "version": 3
   },
   "file_extension": ".py",
   "mimetype": "text/x-python",
   "name": "python",
   "nbconvert_exporter": "python",
   "pygments_lexer": "ipython3",
   "version": "3.9.7"
  }
 },
 "nbformat": 4,
 "nbformat_minor": 5
}
