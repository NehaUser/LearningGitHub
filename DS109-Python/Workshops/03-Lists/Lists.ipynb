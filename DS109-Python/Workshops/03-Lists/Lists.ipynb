{
 "cells": [
  {
   "cell_type": "markdown",
   "id": "a7db0e4e-c6d1-4814-97bd-4ba79824a21e",
   "metadata": {},
   "source": [
    "# Lists Workshop"
   ]
  },
  {
   "cell_type": "code",
   "execution_count": 1,
   "id": "595bd67c-f7c1-433d-a7ee-149d910926da",
   "metadata": {},
   "outputs": [
    {
     "name": "stdout",
     "output_type": "stream",
     "text": [
      "[22, 12, 'Happy', 'Woot!']\n"
     ]
    }
   ],
   "source": [
    "variableFun = \"Woot!\"\n",
    "myFirstList = [22, 12, \"Happy\", variableFun]\n",
    "print(myFirstList)"
   ]
  },
  {
   "cell_type": "code",
   "execution_count": 2,
   "id": "1f5e4631-b9fd-4745-ae2d-ddf47aadc614",
   "metadata": {},
   "outputs": [
    {
     "name": "stdout",
     "output_type": "stream",
     "text": [
      "[['birds', 'nest'], 'so', 'do', 'lists']\n"
     ]
    }
   ],
   "source": [
    "nestedList = [[\"birds\",\"nest\"], \"so\", \"do\", \"lists\"]\n",
    "print(nestedList)"
   ]
  },
  {
   "cell_type": "code",
   "execution_count": 3,
   "id": "c8cc771e-a8cb-4f98-84d1-23e0b7bd2cf6",
   "metadata": {},
   "outputs": [
    {
     "name": "stdout",
     "output_type": "stream",
     "text": [
      "[]\n"
     ]
    }
   ],
   "source": [
    "emptyListSyndrome = []\n",
    "print(emptyListSyndrome)"
   ]
  },
  {
   "cell_type": "code",
   "execution_count": 4,
   "id": "5a1a9130-d2ea-477f-91ab-82144028a62b",
   "metadata": {},
   "outputs": [
    {
     "name": "stdout",
     "output_type": "stream",
     "text": [
      "4\n"
     ]
    }
   ],
   "source": [
    "print(len(myFirstList))"
   ]
  },
  {
   "cell_type": "code",
   "execution_count": 5,
   "id": "f4c6c8a3-fe61-4584-b719-dd311340c5b4",
   "metadata": {},
   "outputs": [
    {
     "name": "stdout",
     "output_type": "stream",
     "text": [
      "4\n"
     ]
    }
   ],
   "source": [
    "ListLength = len(myFirstList)\n",
    "print(ListLength)"
   ]
  },
  {
   "cell_type": "code",
   "execution_count": 6,
   "id": "11ad6773-57dc-4043-9f46-0b2ab5d61aff",
   "metadata": {},
   "outputs": [
    {
     "name": "stdout",
     "output_type": "stream",
     "text": [
      "22\n",
      "12\n",
      "Happy\n",
      "Woot!\n",
      "22\n",
      "[22]\n",
      "[22, 12]\n"
     ]
    }
   ],
   "source": [
    "print(myFirstList[0])\n",
    "print(myFirstList[1])\n",
    "print(myFirstList[2])\n",
    "print(myFirstList[3])\n",
    "print(myFirstList[-4])\n",
    "print(myFirstList[0:1])\n",
    "print(myFirstList[0:2])"
   ]
  },
  {
   "cell_type": "code",
   "execution_count": 7,
   "id": "6ac26a5c-c8a6-4ea4-88f6-f7bb101e139f",
   "metadata": {},
   "outputs": [
    {
     "name": "stdout",
     "output_type": "stream",
     "text": [
      "[21, 12, 'Happy', 'Woot!']\n"
     ]
    }
   ],
   "source": [
    "myFirstList[0] = 21\n",
    "print(myFirstList)"
   ]
  },
  {
   "cell_type": "code",
   "execution_count": 8,
   "id": "3144f5af-c967-4547-9589-1e0b56a0db91",
   "metadata": {},
   "outputs": [
    {
     "name": "stdout",
     "output_type": "stream",
     "text": [
      "[21, 12, 'Happy', 'Woot!', 'Just Added This!']\n"
     ]
    }
   ],
   "source": [
    "myFirstList.append(\"Just Added This!\")\n",
    "print(myFirstList)"
   ]
  },
  {
   "cell_type": "code",
   "execution_count": 9,
   "id": "9163ba9c-5558-46e7-b489-38cb878726a5",
   "metadata": {},
   "outputs": [
    {
     "name": "stdout",
     "output_type": "stream",
     "text": [
      "[21, 12, 'Happy', 'Birthday', 'Woot!', 'Just Added This!']\n"
     ]
    }
   ],
   "source": [
    "myFirstList.insert(3, \"Birthday\")\n",
    "print(myFirstList)"
   ]
  },
  {
   "cell_type": "code",
   "execution_count": 10,
   "id": "104364f1-6103-4aec-af49-1ce4d2f075de",
   "metadata": {},
   "outputs": [
    {
     "name": "stdout",
     "output_type": "stream",
     "text": [
      "[21, 'Happy', 'Birthday', 'Woot!', 'Just Added This!']\n"
     ]
    }
   ],
   "source": [
    "del myFirstList[1]\n",
    "print(myFirstList)"
   ]
  },
  {
   "cell_type": "code",
   "execution_count": 11,
   "id": "b6058e88-fa70-489d-8972-672268fbf1b2",
   "metadata": {},
   "outputs": [
    {
     "name": "stdout",
     "output_type": "stream",
     "text": [
      "[21, 'Happy', 'Birthday', 'Just Added This!']\n"
     ]
    }
   ],
   "source": [
    "myFirstList.remove('Woot!')\n",
    "print(myFirstList)"
   ]
  },
  {
   "cell_type": "code",
   "execution_count": 12,
   "id": "98892e2f-6fa4-46b7-a75b-73755cccc5df",
   "metadata": {},
   "outputs": [
    {
     "name": "stdout",
     "output_type": "stream",
     "text": [
      "[1, 2, 5, 9, 12]\n",
      "[1, 5, 9, 12, 2]\n"
     ]
    }
   ],
   "source": [
    "OnlyNumbers = [1,5,9,12, 2]\n",
    "print(sorted(OnlyNumbers))\n",
    "print(OnlyNumbers)"
   ]
  },
  {
   "cell_type": "code",
   "execution_count": null,
   "id": "d9c0d292-783d-4e8c-9486-731e1ed7bbd6",
   "metadata": {},
   "outputs": [],
   "source": []
  }
 ],
 "metadata": {
  "kernelspec": {
   "display_name": "Python 3 (ipykernel)",
   "language": "python",
   "name": "python3"
  },
  "language_info": {
   "codemirror_mode": {
    "name": "ipython",
    "version": 3
   },
   "file_extension": ".py",
   "mimetype": "text/x-python",
   "name": "python",
   "nbconvert_exporter": "python",
   "pygments_lexer": "ipython3",
   "version": "3.9.7"
  }
 },
 "nbformat": 4,
 "nbformat_minor": 5
}
