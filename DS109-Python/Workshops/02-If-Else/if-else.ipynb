{
 "cells": [
  {
   "cell_type": "code",
   "execution_count": 2,
   "id": "2bec05ee-7ae6-4af4-a9d6-406093152dab",
   "metadata": {},
   "outputs": [],
   "source": [
    "height = 62\n",
    "ride_limit = 60\n",
    "pregnant = True\n",
    "\n",
    "canRideRollerCoaster = \" \""
   ]
  },
  {
   "cell_type": "code",
   "execution_count": 3,
   "id": "487a9c5c-db70-48f9-a826-f4a2b0bc66c6",
   "metadata": {},
   "outputs": [],
   "source": [
    "if height >= ride_limit and pregnant == False:\n",
    "    canRideRollerCoaster = \"Enjoy the ride!\"\n",
    "elif height < ride_limit:\n",
    "    canRideRollerCoaster = \"Try the kiddie coaster.\"\n",
    "else:\n",
    "    canRideRollerCoaster = \"Not today.\""
   ]
  },
  {
   "cell_type": "code",
   "execution_count": 4,
   "id": "414b4ba0-1b46-4bd9-955e-43753700a1c3",
   "metadata": {},
   "outputs": [
    {
     "name": "stdout",
     "output_type": "stream",
     "text": [
      "Not today.\n"
     ]
    }
   ],
   "source": [
    "print(canRideRollerCoaster)"
   ]
  },
  {
   "cell_type": "code",
   "execution_count": 7,
   "id": "8d471cfd-371c-4531-b32f-ffca6ae391c5",
   "metadata": {},
   "outputs": [],
   "source": [
    "Animals = [\"frog\", \"frog\", \"frog\", \"frog\", \"Toad\"]"
   ]
  },
  {
   "cell_type": "code",
   "execution_count": 8,
   "id": "9a888d36-434d-4196-a942-9568cdd06929",
   "metadata": {},
   "outputs": [
    {
     "name": "stdout",
     "output_type": "stream",
     "text": [
      "ribbit\n",
      "ribbit\n",
      "ribbit\n",
      "ribbit\n",
      "You got warts!\n"
     ]
    }
   ],
   "source": [
    "for item in Animals:\n",
    "    if item ==\"frog\":\n",
    "        print(\"ribbit\")\n",
    "    else:\n",
    "        print(\"You got warts!\")"
   ]
  },
  {
   "cell_type": "code",
   "execution_count": 10,
   "id": "8114640d-a929-40bd-805c-4e6dfe683d77",
   "metadata": {},
   "outputs": [],
   "source": [
    "Numbers = [2, 12, 14, 23, 7]"
   ]
  },
  {
   "cell_type": "code",
   "execution_count": 11,
   "id": "f72a0359-42af-4975-ad4f-8b834d3a9762",
   "metadata": {},
   "outputs": [
    {
     "name": "stdout",
     "output_type": "stream",
     "text": [
      "Try again!\n",
      "It's your lucky day!\n",
      "It's your lucky day!\n",
      "It's your lucky day!\n",
      "It's your lucky day!\n"
     ]
    }
   ],
   "source": [
    "for item in Numbers:\n",
    "    if item < 4:\n",
    "        print(\"Try again!\")\n",
    "    if item >= 5:\n",
    "        print(\"It's your lucky day!\")"
   ]
  },
  {
   "cell_type": "code",
   "execution_count": 13,
   "id": "4c7cbce7-40b0-4fb4-9cb2-fdbdf2c2dbc8",
   "metadata": {},
   "outputs": [],
   "source": [
    "indicator = 25"
   ]
  },
  {
   "cell_type": "code",
   "execution_count": 14,
   "id": "d2d83011-569b-41bb-9835-1d348e07df46",
   "metadata": {},
   "outputs": [
    {
     "name": "stdout",
     "output_type": "stream",
     "text": [
      "25\n",
      "24\n",
      "23\n",
      "22\n",
      "21\n",
      "20\n",
      "19\n",
      "18\n",
      "17\n",
      "16\n",
      "15\n",
      "14\n",
      "13\n",
      "12\n",
      "11\n"
     ]
    }
   ],
   "source": [
    "while indicator > 10:\n",
    "    print(indicator)\n",
    "    indicator = indicator - 1"
   ]
  },
  {
   "cell_type": "code",
   "execution_count": 18,
   "id": "10d15d26-331e-4f11-a77c-d7d0c493b39d",
   "metadata": {},
   "outputs": [
    {
     "name": "stdout",
     "output_type": "stream",
     "text": [
      "Keep on thinking. Edison didn't invent the lightbulb right away.\n",
      "Keep on thinking. Edison didn't invent the lightbulb right away.\n",
      "Good job!\n",
      "Good job!\n",
      "Good job!\n",
      "You are done thinking for the day.\n"
     ]
    }
   ],
   "source": [
    "lightbulb = True\n",
    "ideaCount = 0\n",
    "\n",
    "while lightbulb==True:\n",
    "    ideaCount = ideaCount + 1\n",
    "    if ideaCount < 3:\n",
    "        print(\"Keep on thinking. Edison didn't invent the lightbulb right away.\")\n",
    "    if ideaCount >= 3:\n",
    "        print(\"Good job!\")\n",
    "    if ideaCount == 5:\n",
    "        break\n",
    "\n",
    "print(\"You are done thinking for the day.\")"
   ]
  },
  {
   "cell_type": "code",
   "execution_count": null,
   "id": "66fb827d-983d-410d-8ce4-7a798ef0ecce",
   "metadata": {},
   "outputs": [],
   "source": []
  }
 ],
 "metadata": {
  "kernelspec": {
   "display_name": "Python 3 (ipykernel)",
   "language": "python",
   "name": "python3"
  },
  "language_info": {
   "codemirror_mode": {
    "name": "ipython",
    "version": 3
   },
   "file_extension": ".py",
   "mimetype": "text/x-python",
   "name": "python",
   "nbconvert_exporter": "python",
   "pygments_lexer": "ipython3",
   "version": "3.9.7"
  }
 },
 "nbformat": 4,
 "nbformat_minor": 5
}
