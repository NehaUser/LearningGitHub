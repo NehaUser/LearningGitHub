{
 "cells": [
  {
   "cell_type": "markdown",
   "id": "0a131252-7ecc-40f8-a88d-ebce141b268f",
   "metadata": {},
   "source": [
    "# Python Functions\n",
    "\n",
    "Functions are callable snippets of code which are reusable once defined.\n",
    "\n",
    "Functions take parameters as arguments.\n",
    "\n",
    "Resources:\n",
    "- [Tutorial on Python Functions](https://www.w3schools.com/python/python_functions.asp)\n",
    "- [Python Built in Functions](https://docs.python.org/3/library/functions.html)"
   ]
  },
  {
   "cell_type": "code",
   "execution_count": 18,
   "id": "70b22662-778a-4181-9b2e-69d4340de457",
   "metadata": {},
   "outputs": [],
   "source": [
    "import numpy as np"
   ]
  },
  {
   "cell_type": "code",
   "execution_count": 10,
   "id": "1d0df4b4-afa7-4cb6-8a0c-cdb25c3013da",
   "metadata": {},
   "outputs": [],
   "source": [
    "# def means define\n",
    "def hello_world():\n",
    "    print(\"Hello world!\")"
   ]
  },
  {
   "cell_type": "code",
   "execution_count": 3,
   "id": "4c2df857-cfa8-42e9-8981-aa9c2cb6f523",
   "metadata": {},
   "outputs": [
    {
     "name": "stdout",
     "output_type": "stream",
     "text": [
      "Hello world!\n"
     ]
    }
   ],
   "source": [
    "# We can call the function once it is defined\n",
    "hello_world()"
   ]
  },
  {
   "cell_type": "code",
   "execution_count": 4,
   "id": "3e685b09-e603-490d-a37d-7962d5160e44",
   "metadata": {},
   "outputs": [],
   "source": [
    "# Functions can have parameters\n",
    "def print_my_message(my_message):\n",
    "    print(my_message)"
   ]
  },
  {
   "cell_type": "code",
   "execution_count": 5,
   "id": "3f029a09-e7fb-47d5-994f-fb6461ee3088",
   "metadata": {},
   "outputs": [
    {
     "name": "stdout",
     "output_type": "stream",
     "text": [
      "This is my message.\n"
     ]
    }
   ],
   "source": [
    "# Define the parameter and run it\n",
    "what_to_print = \"This is my message.\"\n",
    "print_my_message(what_to_print)"
   ]
  },
  {
   "cell_type": "code",
   "execution_count": 6,
   "id": "4726f75e-e4be-442b-9c0f-2a545173909e",
   "metadata": {},
   "outputs": [
    {
     "name": "stdout",
     "output_type": "stream",
     "text": [
      "Python is fun!\n"
     ]
    }
   ],
   "source": [
    "# We can change the parameter and get different output\n",
    "what_to_print_2 = \"Python is fun!\"\n",
    "print_my_message(what_to_print_2)"
   ]
  },
  {
   "cell_type": "code",
   "execution_count": 7,
   "id": "0c4b9909-07de-4bb6-9e34-420732b0529e",
   "metadata": {},
   "outputs": [],
   "source": [
    "# Functions can return values as well\n",
    "def add_two_numbers(x,y):\n",
    "    return x + y"
   ]
  },
  {
   "cell_type": "code",
   "execution_count": 9,
   "id": "cf52a9dd-a232-4441-ba51-db21e8855dc8",
   "metadata": {},
   "outputs": [
    {
     "name": "stdout",
     "output_type": "stream",
     "text": [
      "8\n"
     ]
    }
   ],
   "source": [
    "# We can assign the return value to a variable\n",
    "my_sum = add_two_numbers(3,5)\n",
    "print(my_sum)"
   ]
  },
  {
   "cell_type": "code",
   "execution_count": 11,
   "id": "5782c45f-f690-4ef3-b3d1-6222d8207a9b",
   "metadata": {},
   "outputs": [
    {
     "name": "stdout",
     "output_type": "stream",
     "text": [
      "45\n"
     ]
    }
   ],
   "source": [
    "# Creating a lambda function\n",
    "LambdaAge = lambda x,y : x - y \n",
    "print(LambdaAge(55, 10))"
   ]
  },
  {
   "cell_type": "code",
   "execution_count": 12,
   "id": "623201b4-0845-40df-b194-f8ab037df9b0",
   "metadata": {},
   "outputs": [
    {
     "name": "stdout",
     "output_type": "stream",
     "text": [
      "[28, 37, 37, 65]\n"
     ]
    }
   ],
   "source": [
    "# Using the map function to iterate\n",
    "ages = [32, 57, 39, 75]\n",
    "increments = [4, 20, 2, 10]\n",
    "\n",
    "mapIt = map(LambdaAge, ages, increments)\n",
    "listIt = list(mapIt)\n",
    "print(listIt)"
   ]
  },
  {
   "cell_type": "code",
   "execution_count": 14,
   "id": "486dd059-47e9-4e02-8192-68bdfbabcbab",
   "metadata": {},
   "outputs": [
    {
     "name": "stdout",
     "output_type": "stream",
     "text": [
      "[57, 75]\n"
     ]
    }
   ],
   "source": [
    "# Using the filter function to iterate\n",
    "overTheHill = lambda x: x > 50\n",
    "filterIt = filter(overTheHill, ages)\n",
    "listIt2 = list(filterIt)\n",
    "print(listIt2)"
   ]
  },
  {
   "cell_type": "code",
   "execution_count": 17,
   "id": "b673cfb4-ed0f-4d37-8d58-7e7c9fbc2b1b",
   "metadata": {},
   "outputs": [
    {
     "data": {
      "text/plain": [
       "[0, 1, 2, 3, 4, 5, 6, 7, 8, 9]"
      ]
     },
     "execution_count": 17,
     "metadata": {},
     "output_type": "execute_result"
    }
   ],
   "source": [
    "# Use built in range function to generate a list\n",
    "list_of_ints = list(range(10))\n",
    "list_of_ints"
   ]
  },
  {
   "cell_type": "code",
   "execution_count": 19,
   "id": "20730b39-22f4-4ea3-87a0-ef971e399158",
   "metadata": {},
   "outputs": [],
   "source": [
    "# Functions can take lists as parameters too!\n",
    "def sum_of_list(my_list):\n",
    "    return np.sum(my_list)"
   ]
  },
  {
   "cell_type": "code",
   "execution_count": 21,
   "id": "885e4c46-9a19-4226-abba-a52683485556",
   "metadata": {},
   "outputs": [
    {
     "data": {
      "text/plain": [
       "45"
      ]
     },
     "execution_count": 21,
     "metadata": {},
     "output_type": "execute_result"
    }
   ],
   "source": [
    "# Call the function\n",
    "sum_of_list(list_of_ints)"
   ]
  },
  {
   "cell_type": "code",
   "execution_count": 22,
   "id": "d73f33fc-ed12-4abf-ae20-e6f130aec88c",
   "metadata": {},
   "outputs": [
    {
     "data": {
      "text/plain": [
       "200"
      ]
     },
     "execution_count": 22,
     "metadata": {},
     "output_type": "execute_result"
    }
   ],
   "source": [
    "sum_of_list([100, 100])"
   ]
  },
  {
   "cell_type": "code",
   "execution_count": null,
   "id": "c1edf635-5545-45e7-8968-7f41f21a9a0a",
   "metadata": {},
   "outputs": [],
   "source": []
  }
 ],
 "metadata": {
  "kernelspec": {
   "display_name": "Python 3 (ipykernel)",
   "language": "python",
   "name": "python3"
  },
  "language_info": {
   "codemirror_mode": {
    "name": "ipython",
    "version": 3
   },
   "file_extension": ".py",
   "mimetype": "text/x-python",
   "name": "python",
   "nbconvert_exporter": "python",
   "pygments_lexer": "ipython3",
   "version": "3.9.7"
  }
 },
 "nbformat": 4,
 "nbformat_minor": 5
}
