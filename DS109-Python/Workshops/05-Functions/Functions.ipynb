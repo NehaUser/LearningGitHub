{
 "cells": [
  {
   "cell_type": "markdown",
   "id": "474775f9-8141-4d4f-a2b1-a1d66b93ed45",
   "metadata": {},
   "source": [
    "# Define the Function"
   ]
  },
  {
   "cell_type": "code",
   "execution_count": 1,
   "id": "13da36d8-da64-4d45-a031-8390f106f7d1",
   "metadata": {},
   "outputs": [],
   "source": [
    "newAge = \" \"\n",
    "\n",
    "def NotThatOld(age, increment): \n",
    "    global newAge\n",
    "    newAge = age - increment\n",
    "    print(newAge)"
   ]
  },
  {
   "cell_type": "code",
   "execution_count": 2,
   "id": "8c62bfb0-6e76-4c06-973e-807e92d6cfc3",
   "metadata": {},
   "outputs": [
    {
     "name": "stdout",
     "output_type": "stream",
     "text": [
      "45\n"
     ]
    }
   ],
   "source": [
    "# Call the Function\n",
    "\n",
    "NotThatOld(55, 10)"
   ]
  },
  {
   "cell_type": "code",
   "execution_count": 3,
   "id": "952c39c7-b0c8-46a4-b268-0fc70995975a",
   "metadata": {},
   "outputs": [
    {
     "name": "stdout",
     "output_type": "stream",
     "text": [
      "45\n"
     ]
    }
   ],
   "source": [
    "# Creating a lambda function\n",
    "\n",
    "LambdaOld = lambda x,y : x - y \n",
    "print(LambdaOld(55, 10))"
   ]
  },
  {
   "cell_type": "code",
   "execution_count": 4,
   "id": "740c0bac-0349-4c67-8400-3ff055c09d8b",
   "metadata": {},
   "outputs": [
    {
     "name": "stdout",
     "output_type": "stream",
     "text": [
      "[28, 37, 37, 65]\n"
     ]
    }
   ],
   "source": [
    "# Using the map function to iterate\n",
    "\n",
    "ages = [32, 57, 39, 75]\n",
    "increments = [4, 20, 2, 10]\n",
    "\n",
    "mapIt = map(LambdaOld, ages, increments)\n",
    "listIt = list(mapIt)\n",
    "print(listIt)"
   ]
  },
  {
   "cell_type": "code",
   "execution_count": 5,
   "id": "07876f6e-fdba-4938-9fce-68fd87d87fa5",
   "metadata": {},
   "outputs": [
    {
     "name": "stdout",
     "output_type": "stream",
     "text": [
      "[57, 75]\n"
     ]
    }
   ],
   "source": [
    "# Using the filter function to iterate\n",
    "\n",
    "overTheHill = lambda x: x > 50\n",
    "filterIt = filter(overTheHill, ages)\n",
    "listIt2 = list(filterIt)\n",
    "print(listIt2)"
   ]
  },
  {
   "cell_type": "code",
   "execution_count": null,
   "id": "558a8851-7d51-44ce-8e2a-3bd274bf04b5",
   "metadata": {},
   "outputs": [],
   "source": []
  }
 ],
 "metadata": {
  "kernelspec": {
   "display_name": "Python 3 (ipykernel)",
   "language": "python",
   "name": "python3"
  },
  "language_info": {
   "codemirror_mode": {
    "name": "ipython",
    "version": 3
   },
   "file_extension": ".py",
   "mimetype": "text/x-python",
   "name": "python",
   "nbconvert_exporter": "python",
   "pygments_lexer": "ipython3",
   "version": "3.9.7"
  }
 },
 "nbformat": 4,
 "nbformat_minor": 5
}
