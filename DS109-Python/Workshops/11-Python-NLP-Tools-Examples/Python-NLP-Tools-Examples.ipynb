{
 "cells": [
  {
   "cell_type": "markdown",
   "id": "684be0fa-22df-48c8-90f0-d59922dd06b0",
   "metadata": {},
   "source": [
    "# Python NLP Tool Examples"
   ]
  },
  {
   "cell_type": "markdown",
   "id": "f10c94e8-9e0d-4916-9616-455beb217987",
   "metadata": {
    "tags": []
   },
   "source": [
    "### Table of Contents <a class=\"anchor\" id=\"NLP-Example-toc\"></a>\n",
    "\n",
    "* [Table of Contents](#NLP-Example-toc)\n",
    "    * [TextBlob: Processing Text in One Line of Code](#NLP-Example-page_1)\n",
    "    * [sumy: Summarize Text in One Line of Code](#NLP-Example-page_2)\n",
    "    * [Spacy_streamlit: Create a Web App to Visualize Your Text in 3 Lines of Code](#NLP-Example-page_3)\n",
    "    * [textacy: Extract a Contiguous Sequence of 2 Words](#NLP-Example-page_4)\n",
    "    * [Convert Number to Words](#NLP-Example-page_5)\n",
    "    * [texthero.clean: Preprocess Text in One Line of Code](#NLP-Example-page_6)\n",
    "    * [wordfreq: Estimate the Frequency of a Word in 36 Languages](#NLP-Example-page_7)\n",
    "    * [newspaper3k: Extract Meaningful Information From Articles in 2 Lines of Code](#NLP-Example-page_8)"
   ]
  },
  {
   "cell_type": "markdown",
   "id": "c596ac57-7892-4725-b47e-d8279df8f44f",
   "metadata": {
    "tags": []
   },
   "source": [
    "<hr style=\"height:10px;border-width:0;color:gray;background-color:gray\">\n",
    "\n",
    "# TextBlob: Processing Text in One Line of Code<a class=\"anchor\" id=\"NLP-Example-page_1\"></a>\n",
    "\n",
    "[Back to Top](#NLP-Example-toc)\n",
    "\n",
    "<hr style=\"height:10px;border-width:0;color:gray;background-color:gray\">"
   ]
  },
  {
   "cell_type": "markdown",
   "id": "b4ea054a-3bfa-4ef9-a671-bc9771f1ddf7",
   "metadata": {},
   "source": [
    "<p style=\"text-align: center;\">\n",
    "  <img width=\"100\" alt=\"TextBlob Image\" src=\"https://textblob.readthedocs.io/en/dev/_static/textblob-logo.png\">\n",
    "</p>\n",
    "\n",
    "Processing text doesn't need to be hard. If you want to find the sentiment of the text,\n",
    "tokenize text, find noun phrase and word frequencies, correct spelling, etc in one line of\n",
    "code, try TextBlob.\n",
    "\n",
    "[TextBlob Home](https://textblob.readthedocs.io/en/dev/)"
   ]
  },
  {
   "cell_type": "code",
   "execution_count": null,
   "id": "f4030e09-399f-4302-86c4-f28117d79b6f",
   "metadata": {},
   "outputs": [],
   "source": [
    "#pip install textblob"
   ]
  },
  {
   "cell_type": "code",
   "execution_count": 1,
   "id": "685bcac7-4ab5-4a9e-b756-6db80f50b44f",
   "metadata": {},
   "outputs": [],
   "source": [
    "import warnings\n",
    "warnings.filterwarnings(\"ignore\")"
   ]
  },
  {
   "cell_type": "code",
   "execution_count": 2,
   "id": "1a52c5cb-e1d4-4893-bbfc-0ed2b1c8d1bc",
   "metadata": {},
   "outputs": [
    {
     "name": "stdout",
     "output_type": "stream",
     "text": [
      "3.9.9 (main, Nov 21 2021, 03:23:42) \n",
      "[Clang 13.0.0 (clang-1300.0.29.3)]\n"
     ]
    }
   ],
   "source": [
    "import sys\n",
    "print(sys.version)"
   ]
  },
  {
   "cell_type": "code",
   "execution_count": 3,
   "id": "e541df29-9ddf-4bbd-9140-30b48d696fa3",
   "metadata": {},
   "outputs": [
    {
     "name": "stdout",
     "output_type": "stream",
     "text": [
      "Finished.\n"
     ]
    },
    {
     "name": "stderr",
     "output_type": "stream",
     "text": [
      "[nltk_data] Downloading package brown to /Users/jsr/nltk_data...\n",
      "[nltk_data]   Package brown is already up-to-date!\n",
      "[nltk_data] Downloading package punkt to /Users/jsr/nltk_data...\n",
      "[nltk_data]   Package punkt is already up-to-date!\n",
      "[nltk_data] Downloading package wordnet to /Users/jsr/nltk_data...\n",
      "[nltk_data]   Package wordnet is already up-to-date!\n",
      "[nltk_data] Downloading package averaged_perceptron_tagger to\n",
      "[nltk_data]     /Users/jsr/nltk_data...\n",
      "[nltk_data]   Package averaged_perceptron_tagger is already up-to-\n",
      "[nltk_data]       date!\n",
      "[nltk_data] Downloading package conll2000 to /Users/jsr/nltk_data...\n",
      "[nltk_data]   Package conll2000 is already up-to-date!\n",
      "[nltk_data] Downloading package movie_reviews to\n",
      "[nltk_data]     /Users/jsr/nltk_data...\n",
      "[nltk_data]   Package movie_reviews is already up-to-date!\n"
     ]
    }
   ],
   "source": [
    "run -m textblob.download_corpora"
   ]
  },
  {
   "cell_type": "code",
   "execution_count": 4,
   "id": "31e08ad4-2605-42f1-b2fd-5a6e9677c8ae",
   "metadata": {},
   "outputs": [],
   "source": [
    "from textblob import TextBlob"
   ]
  },
  {
   "cell_type": "code",
   "execution_count": 5,
   "id": "46ac5056-89bb-41e1-86ad-1ba67cde460b",
   "metadata": {},
   "outputs": [],
   "source": [
    "text = \"Today is a beautiful day\""
   ]
  },
  {
   "cell_type": "code",
   "execution_count": 6,
   "id": "4bb076b9-bb33-4351-9725-101c2eec436e",
   "metadata": {},
   "outputs": [],
   "source": [
    "blob = TextBlob(text)"
   ]
  },
  {
   "cell_type": "code",
   "execution_count": 7,
   "id": "d94446a3-fe0f-43a2-a474-ab9360f22db7",
   "metadata": {},
   "outputs": [
    {
     "data": {
      "text/plain": [
       "WordList(['Today', 'is', 'a', 'beautiful', 'day'])"
      ]
     },
     "execution_count": 7,
     "metadata": {},
     "output_type": "execute_result"
    }
   ],
   "source": [
    "blob.words # Word tokenization"
   ]
  },
  {
   "cell_type": "code",
   "execution_count": 8,
   "id": "4dce6a45-5d9b-4555-9a9d-8ff6e3537a66",
   "metadata": {},
   "outputs": [
    {
     "data": {
      "text/plain": [
       "WordList(['beautiful day'])"
      ]
     },
     "execution_count": 8,
     "metadata": {},
     "output_type": "execute_result"
    }
   ],
   "source": [
    "blob.noun_phrases # Noun phrase extraction"
   ]
  },
  {
   "cell_type": "code",
   "execution_count": 9,
   "id": "5ab2890d-9db9-4c7d-b8e7-19ba065640d8",
   "metadata": {},
   "outputs": [
    {
     "data": {
      "text/plain": [
       "Sentiment(polarity=0.85, subjectivity=1.0)"
      ]
     },
     "execution_count": 9,
     "metadata": {},
     "output_type": "execute_result"
    }
   ],
   "source": [
    "blob.sentiment # Sentiment analysis"
   ]
  },
  {
   "cell_type": "code",
   "execution_count": 10,
   "id": "e0906c9f-5737-467f-a34f-5556d4888440",
   "metadata": {},
   "outputs": [
    {
     "data": {
      "text/plain": [
       "defaultdict(int, {'today': 1, 'is': 1, 'a': 1, 'beautiful': 1, 'day': 1})"
      ]
     },
     "execution_count": 10,
     "metadata": {},
     "output_type": "execute_result"
    }
   ],
   "source": [
    "blob.word_counts # Word counts"
   ]
  },
  {
   "cell_type": "code",
   "execution_count": 11,
   "id": "218d96d5-ff0c-4034-bede-6fc8e95f9cbc",
   "metadata": {},
   "outputs": [
    {
     "data": {
      "text/plain": [
       "TextBlob(\"Today is a beautiful day\")"
      ]
     },
     "execution_count": 11,
     "metadata": {},
     "output_type": "execute_result"
    }
   ],
   "source": [
    "# Spelling correction\n",
    "text = \"Today is a beutiful day\"\n",
    "blob = TextBlob(text)\n",
    "blob.correct()"
   ]
  },
  {
   "cell_type": "markdown",
   "id": "67794c27-cc6b-473d-a6e9-54cce751d07a",
   "metadata": {},
   "source": [
    "<hr style=\"height:10px;border-width:0;color:gray;background-color:gray\">\n",
    "\n",
    "# sumy: Summarize Text in One Line of Code<a class=\"anchor\" id=\"NLP-Example-page_2\"></a>\n",
    "\n",
    "[Back to Top](#NLP-Example-toc)\n",
    "\n",
    "<hr style=\"height:10px;border-width:0;color:gray;background-color:gray\">"
   ]
  },
  {
   "cell_type": "code",
   "execution_count": null,
   "id": "304a4493-91bc-4101-9db7-a6e69a42dc9e",
   "metadata": {},
   "outputs": [],
   "source": [
    "#pip install sumy"
   ]
  },
  {
   "cell_type": "markdown",
   "id": "663e76b9-e994-42a0-b64c-0d765196c63b",
   "metadata": {},
   "source": [
    "\n",
    "Simple library and command line utility for extracting summary from HTML pages or plain texts. The package also contains simple evaluation framework for text summaries. Implemented summarization methods are described in the documentation.\n",
    "\n",
    "If you want to summarize text using Python or command line, below is how sumy summarizes the article How to Learn Data Science (Step-By-Step)in a DataQuest blog article.\n",
    "\n",
    "[sumy home](https://pypi.org/project/sumy/)"
   ]
  },
  {
   "cell_type": "code",
   "execution_count": 12,
   "id": "c9673248-3642-434a-9e31-41e118af694f",
   "metadata": {},
   "outputs": [
    {
     "name": "stdout",
     "output_type": "stream",
     "text": [
      "0.9.0\n"
     ]
    }
   ],
   "source": [
    "!sumy --version"
   ]
  },
  {
   "cell_type": "code",
   "execution_count": 13,
   "id": "cb3e3c15-bb70-46b3-85c7-738b6eab72c1",
   "metadata": {},
   "outputs": [
    {
     "name": "stdout",
     "output_type": "stream",
     "text": [
      "So how do you start to learn data science?\n",
      "If I had started learning data science this way, I never would have kept going.\n",
      "I learn when I’m motivated, and when I know why I’m learning something.\n",
      "There’s some science behind this, too.\n",
      "If you want to learn data science or just pick up some data science skills, your first goal should be to learn to love data.\n",
      "But it’s important to find that thing that makes you want to learn.\n",
      "By working on projects, you gain skills that are immediately applicable and useful, because real-world data scientists have to see data science projects through from start to finish, and most of that work is in fundamentals like cleaning and managing the data.\n",
      "And so on, until the algorithm worked well.\n",
      "Find people to work with at meetups.\n",
      "For more information on these, you can take a look at our Data Scientist learning path , which is designed to teach all of the important data science skills for Python learners.\n"
     ]
    }
   ],
   "source": [
    "!sumy lex-rank --length=10 --url='https://www.dataquest.io/blog/learn-data-science/'"
   ]
  },
  {
   "cell_type": "markdown",
   "id": "2fe527dd-a894-43d9-acc0-35c48216d38c",
   "metadata": {},
   "source": [
    "<hr style=\"height:10px;border-width:0;color:gray;background-color:gray\">\n",
    "\n",
    "# Spacy_streamlit: Create a Web App to Visualize Your Text in 3 Lines of Code<a class=\"anchor\" id=\"NLP-Example-page_3\"></a>\n",
    "\n",
    "[Back to Top](#NLP-Example-toc)\n",
    "\n",
    "<hr style=\"height:10px;border-width:0;color:gray;background-color:gray\">"
   ]
  },
  {
   "cell_type": "code",
   "execution_count": null,
   "id": "8acd8e8e-919f-4750-8655-a612bf7f195a",
   "metadata": {},
   "outputs": [],
   "source": [
    "#pip install spacy\n",
    "#python -m spacy download en_core_web_sm\n",
    "#python -m spacy download en_core_web_md\n",
    "#pip install spacy-streamlit"
   ]
  },
  {
   "cell_type": "markdown",
   "id": "6bcd050a-cf2d-4aa7-8917-010ab1f97e10",
   "metadata": {},
   "source": [
    "\n",
    "<p style=\"text-align: center;\">\n",
    "  <img width=\"100\" alt=\"spacy_streamlit Image\" src=\"https://i.imgur.com/mhEjluE.jpg\">\n",
    "</p>\n",
    "\n",
    "If you want to quickly create an app to visualize the structure of a text, try spacy_streamlit.\n",
    "To understand how to use spacy_streamlit, we add the code below to a file called streamlit_app.py:\n",
    "\n",
    "[space-streamlit](https://spacy.io/universe/project/spacy-streamlit)"
   ]
  },
  {
   "cell_type": "code",
   "execution_count": null,
   "id": "7675912b-553e-45bc-8c01-310953103fbb",
   "metadata": {},
   "outputs": [
    {
     "name": "stdout",
     "output_type": "stream",
     "text": [
      "\u001b[0m\n",
      "\u001b[34m\u001b[1m  You can now view your Streamlit app in your browser.\u001b[0m\n",
      "\u001b[0m\n",
      "\u001b[34m  Local URL: \u001b[0m\u001b[1mhttp://localhost:8501\u001b[0m\n",
      "\u001b[34m  Network URL: \u001b[0m\u001b[1mhttp://192.168.1.12:8501\u001b[0m\n",
      "\u001b[0m\n",
      "\u001b[34m\u001b[1m  For better performance, install the Watchdog module:\u001b[0m\n",
      "\n",
      "  $ xcode-select --install\n",
      "  $ pip install watchdog\n",
      "            \u001b[0m\n",
      "/usr/local/lib/python3.9/site-packages/spacy/util.py:275: UserWarning: [W031] Model 'en_core_web_sm' (3.2.0) requires spaCy v3.2 and is incompatible with the current spaCy version (2.3.7). This may lead to unexpected results or runtime errors. To resolve this, download a newer compatible model or retrain your custom model with the current spaCy version. For more details and available updates, run: python -m spacy validate\n",
      "  warnings.warn(warn_msg)\n",
      "2021-12-17 17:14:37.265 Traceback (most recent call last):\n",
      "  File \"/usr/local/lib/python3.9/site-packages/streamlit/legacy_caching/caching.py\", line 540, in get_or_create_cached_value\n",
      "    return_value = _read_from_cache(\n",
      "  File \"/usr/local/lib/python3.9/site-packages/streamlit/legacy_caching/caching.py\", line 339, in _read_from_cache\n",
      "    raise e\n",
      "  File \"/usr/local/lib/python3.9/site-packages/streamlit/legacy_caching/caching.py\", line 324, in _read_from_cache\n",
      "    return _read_from_mem_cache(\n",
      "  File \"/usr/local/lib/python3.9/site-packages/streamlit/legacy_caching/caching.py\", line 242, in _read_from_mem_cache\n",
      "    raise CacheKeyNotFoundError(\"Key not found in mem cache\")\n",
      "streamlit.legacy_caching.caching.CacheKeyNotFoundError: Key not found in mem cache\n",
      "\n",
      "During handling of the above exception, another exception occurred:\n",
      "\n",
      "Traceback (most recent call last):\n",
      "  File \"/usr/local/lib/python3.9/site-packages/streamlit/script_runner.py\", line 354, in _run_script\n",
      "    exec(code, module.__dict__)\n",
      "  File \"/Users/jsr/Documents/GitHub/DS-Student-Resources/DS109-Python/Workshops/11-Python-NLP-Tools-Examples/streamlit_app.py\", line 5, in <module>\n",
      "    spacy_streamlit.visualize(models, default_text)\n",
      "  File \"/usr/local/lib/python3.9/site-packages/spacy_streamlit/visualizer.py\", line 71, in visualize\n",
      "    nlp = load_model(spacy_model)\n",
      "  File \"/usr/local/lib/python3.9/site-packages/streamlit/legacy_caching/caching.py\", line 574, in wrapped_func\n",
      "    return get_or_create_cached_value()\n",
      "  File \"/usr/local/lib/python3.9/site-packages/streamlit/legacy_caching/caching.py\", line 556, in get_or_create_cached_value\n",
      "    return_value = func(*args, **kwargs)\n",
      "  File \"/usr/local/lib/python3.9/site-packages/spacy_streamlit/util.py\", line 9, in load_model\n",
      "    return spacy.load(name)\n",
      "  File \"/usr/local/lib/python3.9/site-packages/spacy/__init__.py\", line 30, in load\n",
      "    return util.load_model(name, **overrides)\n",
      "  File \"/usr/local/lib/python3.9/site-packages/spacy/util.py\", line 170, in load_model\n",
      "    return load_model_from_package(name, **overrides)\n",
      "  File \"/usr/local/lib/python3.9/site-packages/spacy/util.py\", line 191, in load_model_from_package\n",
      "    return cls.load(**overrides)\n",
      "  File \"/usr/local/lib/python3.9/site-packages/en_core_web_sm/__init__.py\", line 10, in load\n",
      "    return load_model_from_init_py(__file__, **overrides)\n",
      "  File \"/usr/local/lib/python3.9/site-packages/spacy/util.py\", line 239, in load_model_from_init_py\n",
      "    return load_model_from_path(data_path, meta, **overrides)\n",
      "  File \"/usr/local/lib/python3.9/site-packages/spacy/util.py\", line 220, in load_model_from_path\n",
      "    component = nlp.create_pipe(factory, config=config)\n",
      "  File \"/usr/local/lib/python3.9/site-packages/spacy/language.py\", line 310, in create_pipe\n",
      "    raise KeyError(Errors.E002.format(name=name))\n",
      "KeyError: \"[E002] Can't find factory for 'tok2vec'. This usually happens when spaCy calls `nlp.create_pipe` with a component name that's not built in - for example, when constructing the pipeline from a model's meta.json. If you're using a custom component, you can write to `Language.factories['tok2vec']` or remove it from the model meta and add it via `nlp.add_pipe` instead.\"\n",
      "\n"
     ]
    }
   ],
   "source": [
    "!streamlit run streamlit_app.py"
   ]
  },
  {
   "cell_type": "markdown",
   "id": "0fcc981b-766f-4fc2-9a66-25fd475477e5",
   "metadata": {},
   "source": [
    "\n",
    "<hr style=\"height:10px;border-width:0;color:gray;background-color:gray\">\n",
    "\n",
    "# textacy: Extract a Contiguous Sequence of 2 Words<a class=\"anchor\" id=\"NLP-Example-page_4\"></a>\n",
    "\n",
    "[Back to Top](#NLP-Example-toc)\n",
    "\n",
    "<hr style=\"height:10px;border-width:0;color:gray;background-color:gray\">"
   ]
  },
  {
   "cell_type": "code",
   "execution_count": null,
   "id": "75edf0a2-8947-4c33-9d2d-815e2da0a0d0",
   "metadata": {},
   "outputs": [],
   "source": [
    "#pip install spacy textacy"
   ]
  },
  {
   "cell_type": "markdown",
   "id": "54817e8d-6ca0-4fb6-8ac1-42ba61723484",
   "metadata": {},
   "source": [
    "<p style=\"text-align: center;\">\n",
    "  <img width=\"100\" alt=\"TextBlob Image\" src=\"https://textacy.readthedocs.io/en/latest/_static/textacy_logo.png\">\n",
    "</p>\n",
    "\n",
    "If you want to extract a contiguous sequence of 2 words, for example, 'data science', not 'data', what should you do? \n",
    "This is when the concept of extracting n-gram from text becomes useful.\n",
    "A really useful tool to easily extract n-gram with a specified number of words in the sequence is textacy.\n",
    "\n",
    "[textacy](https://textacy.readthedocs.io/en/latest/)"
   ]
  },
  {
   "cell_type": "code",
   "execution_count": 15,
   "id": "8d9ca365-0d4c-48fd-b8fc-8e5bb1124688",
   "metadata": {},
   "outputs": [
    {
     "ename": "KeyError",
     "evalue": "\"[E002] Can't find factory for 'tok2vec'. This usually happens when spaCy calls `nlp.create_pipe` with a component name that's not built in - for example, when constructing the pipeline from a model's meta.json. If you're using a custom component, you can write to `Language.factories['tok2vec']` or remove it from the model meta and add it via `nlp.add_pipe` instead.\"",
     "output_type": "error",
     "traceback": [
      "\u001b[0;31m---------------------------------------------------------------------------\u001b[0m",
      "\u001b[0;31mKeyError\u001b[0m                                  Traceback (most recent call last)",
      "\u001b[0;32m/var/folders/wk/6why77bn1kn0l0pkd4vd3zl00000gn/T/ipykernel_50487/1404826041.py\u001b[0m in \u001b[0;36m<module>\u001b[0;34m\u001b[0m\n\u001b[1;32m      3\u001b[0m \u001b[0;32mfrom\u001b[0m \u001b[0mtextacy\u001b[0m\u001b[0;34m.\u001b[0m\u001b[0mextract\u001b[0m \u001b[0;32mimport\u001b[0m \u001b[0mngrams\u001b[0m\u001b[0;34m\u001b[0m\u001b[0;34m\u001b[0m\u001b[0m\n\u001b[1;32m      4\u001b[0m \u001b[0;34m\u001b[0m\u001b[0m\n\u001b[0;32m----> 5\u001b[0;31m \u001b[0mnlp\u001b[0m \u001b[0;34m=\u001b[0m \u001b[0mspacy\u001b[0m\u001b[0;34m.\u001b[0m\u001b[0mload\u001b[0m\u001b[0;34m(\u001b[0m\u001b[0;34m'en_core_web_sm'\u001b[0m\u001b[0;34m)\u001b[0m\u001b[0;34m\u001b[0m\u001b[0;34m\u001b[0m\u001b[0m\n\u001b[0m\u001b[1;32m      6\u001b[0m \u001b[0;34m\u001b[0m\u001b[0m\n\u001b[1;32m      7\u001b[0m \u001b[0mtext\u001b[0m \u001b[0;34m=\u001b[0m \u001b[0mnlp\u001b[0m\u001b[0;34m(\u001b[0m\u001b[0;34m'Data science is an inter-disciplinary field that uses scientific methods, processes, algorithms, and systme to extract knowledge and insights from many structural and unstructured data.'\u001b[0m\u001b[0;34m)\u001b[0m\u001b[0;34m\u001b[0m\u001b[0;34m\u001b[0m\u001b[0m\n",
      "\u001b[0;32m/usr/local/lib/python3.9/site-packages/spacy/__init__.py\u001b[0m in \u001b[0;36mload\u001b[0;34m(name, **overrides)\u001b[0m\n\u001b[1;32m     28\u001b[0m     \u001b[0;32mif\u001b[0m \u001b[0mdepr_path\u001b[0m \u001b[0;32mnot\u001b[0m \u001b[0;32min\u001b[0m \u001b[0;34m(\u001b[0m\u001b[0;32mTrue\u001b[0m\u001b[0;34m,\u001b[0m \u001b[0;32mFalse\u001b[0m\u001b[0;34m,\u001b[0m \u001b[0;32mNone\u001b[0m\u001b[0;34m)\u001b[0m\u001b[0;34m:\u001b[0m\u001b[0;34m\u001b[0m\u001b[0;34m\u001b[0m\u001b[0m\n\u001b[1;32m     29\u001b[0m         \u001b[0mwarnings\u001b[0m\u001b[0;34m.\u001b[0m\u001b[0mwarn\u001b[0m\u001b[0;34m(\u001b[0m\u001b[0mWarnings\u001b[0m\u001b[0;34m.\u001b[0m\u001b[0mW001\u001b[0m\u001b[0;34m.\u001b[0m\u001b[0mformat\u001b[0m\u001b[0;34m(\u001b[0m\u001b[0mpath\u001b[0m\u001b[0;34m=\u001b[0m\u001b[0mdepr_path\u001b[0m\u001b[0;34m)\u001b[0m\u001b[0;34m,\u001b[0m \u001b[0mDeprecationWarning\u001b[0m\u001b[0;34m)\u001b[0m\u001b[0;34m\u001b[0m\u001b[0;34m\u001b[0m\u001b[0m\n\u001b[0;32m---> 30\u001b[0;31m     \u001b[0;32mreturn\u001b[0m \u001b[0mutil\u001b[0m\u001b[0;34m.\u001b[0m\u001b[0mload_model\u001b[0m\u001b[0;34m(\u001b[0m\u001b[0mname\u001b[0m\u001b[0;34m,\u001b[0m \u001b[0;34m**\u001b[0m\u001b[0moverrides\u001b[0m\u001b[0;34m)\u001b[0m\u001b[0;34m\u001b[0m\u001b[0;34m\u001b[0m\u001b[0m\n\u001b[0m\u001b[1;32m     31\u001b[0m \u001b[0;34m\u001b[0m\u001b[0m\n\u001b[1;32m     32\u001b[0m \u001b[0;34m\u001b[0m\u001b[0m\n",
      "\u001b[0;32m/usr/local/lib/python3.9/site-packages/spacy/util.py\u001b[0m in \u001b[0;36mload_model\u001b[0;34m(name, **overrides)\u001b[0m\n\u001b[1;32m    168\u001b[0m             \u001b[0;32mreturn\u001b[0m \u001b[0mload_model_from_link\u001b[0m\u001b[0;34m(\u001b[0m\u001b[0mname\u001b[0m\u001b[0;34m,\u001b[0m \u001b[0;34m**\u001b[0m\u001b[0moverrides\u001b[0m\u001b[0;34m)\u001b[0m\u001b[0;34m\u001b[0m\u001b[0;34m\u001b[0m\u001b[0m\n\u001b[1;32m    169\u001b[0m         \u001b[0;32mif\u001b[0m \u001b[0mis_package\u001b[0m\u001b[0;34m(\u001b[0m\u001b[0mname\u001b[0m\u001b[0;34m)\u001b[0m\u001b[0;34m:\u001b[0m  \u001b[0;31m# installed as package\u001b[0m\u001b[0;34m\u001b[0m\u001b[0;34m\u001b[0m\u001b[0m\n\u001b[0;32m--> 170\u001b[0;31m             \u001b[0;32mreturn\u001b[0m \u001b[0mload_model_from_package\u001b[0m\u001b[0;34m(\u001b[0m\u001b[0mname\u001b[0m\u001b[0;34m,\u001b[0m \u001b[0;34m**\u001b[0m\u001b[0moverrides\u001b[0m\u001b[0;34m)\u001b[0m\u001b[0;34m\u001b[0m\u001b[0;34m\u001b[0m\u001b[0m\n\u001b[0m\u001b[1;32m    171\u001b[0m         \u001b[0;32mif\u001b[0m \u001b[0mPath\u001b[0m\u001b[0;34m(\u001b[0m\u001b[0mname\u001b[0m\u001b[0;34m)\u001b[0m\u001b[0;34m.\u001b[0m\u001b[0mexists\u001b[0m\u001b[0;34m(\u001b[0m\u001b[0;34m)\u001b[0m\u001b[0;34m:\u001b[0m  \u001b[0;31m# path to model data directory\u001b[0m\u001b[0;34m\u001b[0m\u001b[0;34m\u001b[0m\u001b[0m\n\u001b[1;32m    172\u001b[0m             \u001b[0;32mreturn\u001b[0m \u001b[0mload_model_from_path\u001b[0m\u001b[0;34m(\u001b[0m\u001b[0mPath\u001b[0m\u001b[0;34m(\u001b[0m\u001b[0mname\u001b[0m\u001b[0;34m)\u001b[0m\u001b[0;34m,\u001b[0m \u001b[0;34m**\u001b[0m\u001b[0moverrides\u001b[0m\u001b[0;34m)\u001b[0m\u001b[0;34m\u001b[0m\u001b[0;34m\u001b[0m\u001b[0m\n",
      "\u001b[0;32m/usr/local/lib/python3.9/site-packages/spacy/util.py\u001b[0m in \u001b[0;36mload_model_from_package\u001b[0;34m(name, **overrides)\u001b[0m\n\u001b[1;32m    189\u001b[0m     \u001b[0;34m\"\"\"Load a model from an installed package.\"\"\"\u001b[0m\u001b[0;34m\u001b[0m\u001b[0;34m\u001b[0m\u001b[0m\n\u001b[1;32m    190\u001b[0m     \u001b[0mcls\u001b[0m \u001b[0;34m=\u001b[0m \u001b[0mimportlib\u001b[0m\u001b[0;34m.\u001b[0m\u001b[0mimport_module\u001b[0m\u001b[0;34m(\u001b[0m\u001b[0mname\u001b[0m\u001b[0;34m)\u001b[0m\u001b[0;34m\u001b[0m\u001b[0;34m\u001b[0m\u001b[0m\n\u001b[0;32m--> 191\u001b[0;31m     \u001b[0;32mreturn\u001b[0m \u001b[0mcls\u001b[0m\u001b[0;34m.\u001b[0m\u001b[0mload\u001b[0m\u001b[0;34m(\u001b[0m\u001b[0;34m**\u001b[0m\u001b[0moverrides\u001b[0m\u001b[0;34m)\u001b[0m\u001b[0;34m\u001b[0m\u001b[0;34m\u001b[0m\u001b[0m\n\u001b[0m\u001b[1;32m    192\u001b[0m \u001b[0;34m\u001b[0m\u001b[0m\n\u001b[1;32m    193\u001b[0m \u001b[0;34m\u001b[0m\u001b[0m\n",
      "\u001b[0;32m/usr/local/lib/python3.9/site-packages/en_core_web_sm/__init__.py\u001b[0m in \u001b[0;36mload\u001b[0;34m(**overrides)\u001b[0m\n\u001b[1;32m      8\u001b[0m \u001b[0;34m\u001b[0m\u001b[0m\n\u001b[1;32m      9\u001b[0m \u001b[0;32mdef\u001b[0m \u001b[0mload\u001b[0m\u001b[0;34m(\u001b[0m\u001b[0;34m**\u001b[0m\u001b[0moverrides\u001b[0m\u001b[0;34m)\u001b[0m\u001b[0;34m:\u001b[0m\u001b[0;34m\u001b[0m\u001b[0;34m\u001b[0m\u001b[0m\n\u001b[0;32m---> 10\u001b[0;31m     \u001b[0;32mreturn\u001b[0m \u001b[0mload_model_from_init_py\u001b[0m\u001b[0;34m(\u001b[0m\u001b[0m__file__\u001b[0m\u001b[0;34m,\u001b[0m \u001b[0;34m**\u001b[0m\u001b[0moverrides\u001b[0m\u001b[0;34m)\u001b[0m\u001b[0;34m\u001b[0m\u001b[0;34m\u001b[0m\u001b[0m\n\u001b[0m",
      "\u001b[0;32m/usr/local/lib/python3.9/site-packages/spacy/util.py\u001b[0m in \u001b[0;36mload_model_from_init_py\u001b[0;34m(init_file, **overrides)\u001b[0m\n\u001b[1;32m    237\u001b[0m     \u001b[0;32mif\u001b[0m \u001b[0;32mnot\u001b[0m \u001b[0mmodel_path\u001b[0m\u001b[0;34m.\u001b[0m\u001b[0mexists\u001b[0m\u001b[0;34m(\u001b[0m\u001b[0;34m)\u001b[0m\u001b[0;34m:\u001b[0m\u001b[0;34m\u001b[0m\u001b[0;34m\u001b[0m\u001b[0m\n\u001b[1;32m    238\u001b[0m         \u001b[0;32mraise\u001b[0m \u001b[0mIOError\u001b[0m\u001b[0;34m(\u001b[0m\u001b[0mErrors\u001b[0m\u001b[0;34m.\u001b[0m\u001b[0mE052\u001b[0m\u001b[0;34m.\u001b[0m\u001b[0mformat\u001b[0m\u001b[0;34m(\u001b[0m\u001b[0mpath\u001b[0m\u001b[0;34m=\u001b[0m\u001b[0mpath2str\u001b[0m\u001b[0;34m(\u001b[0m\u001b[0mdata_path\u001b[0m\u001b[0;34m)\u001b[0m\u001b[0;34m)\u001b[0m\u001b[0;34m)\u001b[0m\u001b[0;34m\u001b[0m\u001b[0;34m\u001b[0m\u001b[0m\n\u001b[0;32m--> 239\u001b[0;31m     \u001b[0;32mreturn\u001b[0m \u001b[0mload_model_from_path\u001b[0m\u001b[0;34m(\u001b[0m\u001b[0mdata_path\u001b[0m\u001b[0;34m,\u001b[0m \u001b[0mmeta\u001b[0m\u001b[0;34m,\u001b[0m \u001b[0;34m**\u001b[0m\u001b[0moverrides\u001b[0m\u001b[0;34m)\u001b[0m\u001b[0;34m\u001b[0m\u001b[0;34m\u001b[0m\u001b[0m\n\u001b[0m\u001b[1;32m    240\u001b[0m \u001b[0;34m\u001b[0m\u001b[0m\n\u001b[1;32m    241\u001b[0m \u001b[0;34m\u001b[0m\u001b[0m\n",
      "\u001b[0;32m/usr/local/lib/python3.9/site-packages/spacy/util.py\u001b[0m in \u001b[0;36mload_model_from_path\u001b[0;34m(model_path, meta, **overrides)\u001b[0m\n\u001b[1;32m    218\u001b[0m             \u001b[0mconfig\u001b[0m\u001b[0;34m.\u001b[0m\u001b[0mupdate\u001b[0m\u001b[0;34m(\u001b[0m\u001b[0moverrides\u001b[0m\u001b[0;34m)\u001b[0m\u001b[0;34m\u001b[0m\u001b[0;34m\u001b[0m\u001b[0m\n\u001b[1;32m    219\u001b[0m             \u001b[0mfactory\u001b[0m \u001b[0;34m=\u001b[0m \u001b[0mfactories\u001b[0m\u001b[0;34m.\u001b[0m\u001b[0mget\u001b[0m\u001b[0;34m(\u001b[0m\u001b[0mname\u001b[0m\u001b[0;34m,\u001b[0m \u001b[0mname\u001b[0m\u001b[0;34m)\u001b[0m\u001b[0;34m\u001b[0m\u001b[0;34m\u001b[0m\u001b[0m\n\u001b[0;32m--> 220\u001b[0;31m             \u001b[0mcomponent\u001b[0m \u001b[0;34m=\u001b[0m \u001b[0mnlp\u001b[0m\u001b[0;34m.\u001b[0m\u001b[0mcreate_pipe\u001b[0m\u001b[0;34m(\u001b[0m\u001b[0mfactory\u001b[0m\u001b[0;34m,\u001b[0m \u001b[0mconfig\u001b[0m\u001b[0;34m=\u001b[0m\u001b[0mconfig\u001b[0m\u001b[0;34m)\u001b[0m\u001b[0;34m\u001b[0m\u001b[0;34m\u001b[0m\u001b[0m\n\u001b[0m\u001b[1;32m    221\u001b[0m             \u001b[0mnlp\u001b[0m\u001b[0;34m.\u001b[0m\u001b[0madd_pipe\u001b[0m\u001b[0;34m(\u001b[0m\u001b[0mcomponent\u001b[0m\u001b[0;34m,\u001b[0m \u001b[0mname\u001b[0m\u001b[0;34m=\u001b[0m\u001b[0mname\u001b[0m\u001b[0;34m)\u001b[0m\u001b[0;34m\u001b[0m\u001b[0;34m\u001b[0m\u001b[0m\n\u001b[1;32m    222\u001b[0m     \u001b[0;32mreturn\u001b[0m \u001b[0mnlp\u001b[0m\u001b[0;34m.\u001b[0m\u001b[0mfrom_disk\u001b[0m\u001b[0;34m(\u001b[0m\u001b[0mmodel_path\u001b[0m\u001b[0;34m,\u001b[0m \u001b[0mexclude\u001b[0m\u001b[0;34m=\u001b[0m\u001b[0mdisable\u001b[0m\u001b[0;34m)\u001b[0m\u001b[0;34m\u001b[0m\u001b[0;34m\u001b[0m\u001b[0m\n",
      "\u001b[0;32m/usr/local/lib/python3.9/site-packages/spacy/language.py\u001b[0m in \u001b[0;36mcreate_pipe\u001b[0;34m(self, name, config)\u001b[0m\n\u001b[1;32m    308\u001b[0m                 \u001b[0;32mraise\u001b[0m \u001b[0mKeyError\u001b[0m\u001b[0;34m(\u001b[0m\u001b[0mErrors\u001b[0m\u001b[0;34m.\u001b[0m\u001b[0mE108\u001b[0m\u001b[0;34m.\u001b[0m\u001b[0mformat\u001b[0m\u001b[0;34m(\u001b[0m\u001b[0mname\u001b[0m\u001b[0;34m=\u001b[0m\u001b[0mname\u001b[0m\u001b[0;34m)\u001b[0m\u001b[0;34m)\u001b[0m\u001b[0;34m\u001b[0m\u001b[0;34m\u001b[0m\u001b[0m\n\u001b[1;32m    309\u001b[0m             \u001b[0;32melse\u001b[0m\u001b[0;34m:\u001b[0m\u001b[0;34m\u001b[0m\u001b[0;34m\u001b[0m\u001b[0m\n\u001b[0;32m--> 310\u001b[0;31m                 \u001b[0;32mraise\u001b[0m \u001b[0mKeyError\u001b[0m\u001b[0;34m(\u001b[0m\u001b[0mErrors\u001b[0m\u001b[0;34m.\u001b[0m\u001b[0mE002\u001b[0m\u001b[0;34m.\u001b[0m\u001b[0mformat\u001b[0m\u001b[0;34m(\u001b[0m\u001b[0mname\u001b[0m\u001b[0;34m=\u001b[0m\u001b[0mname\u001b[0m\u001b[0;34m)\u001b[0m\u001b[0;34m)\u001b[0m\u001b[0;34m\u001b[0m\u001b[0;34m\u001b[0m\u001b[0m\n\u001b[0m\u001b[1;32m    311\u001b[0m         \u001b[0mfactory\u001b[0m \u001b[0;34m=\u001b[0m \u001b[0mself\u001b[0m\u001b[0;34m.\u001b[0m\u001b[0mfactories\u001b[0m\u001b[0;34m[\u001b[0m\u001b[0mname\u001b[0m\u001b[0;34m]\u001b[0m\u001b[0;34m\u001b[0m\u001b[0;34m\u001b[0m\u001b[0m\n\u001b[1;32m    312\u001b[0m         \u001b[0;32mreturn\u001b[0m \u001b[0mfactory\u001b[0m\u001b[0;34m(\u001b[0m\u001b[0mself\u001b[0m\u001b[0;34m,\u001b[0m \u001b[0;34m**\u001b[0m\u001b[0mconfig\u001b[0m\u001b[0;34m)\u001b[0m\u001b[0;34m\u001b[0m\u001b[0;34m\u001b[0m\u001b[0m\n",
      "\u001b[0;31mKeyError\u001b[0m: \"[E002] Can't find factory for 'tok2vec'. This usually happens when spaCy calls `nlp.create_pipe` with a component name that's not built in - for example, when constructing the pipeline from a model's meta.json. If you're using a custom component, you can write to `Language.factories['tok2vec']` or remove it from the model meta and add it via `nlp.add_pipe` instead.\""
     ]
    }
   ],
   "source": [
    "import pandas as pd\n",
    "import spacy\n",
    "from textacy.extract import ngrams\n",
    "\n",
    "nlp = spacy.load('en_core_web_sm')\n",
    "\n",
    "text = nlp('Data science is an inter-disciplinary field that uses scientific methods, processes, algorithms, and systme to extract knowledge and insights from many structural and unstructured data.')\n",
    "\n",
    "n_grams = 2 # contiguous sequence of a word\n",
    "\n",
    "min_freq = 1 # extract n -gram based on its frequency\n",
    "\n",
    "pd.Series([n.text for n in ngrams(text, n=n_grams, min_freq=1)]).value_counts()"
   ]
  },
  {
   "cell_type": "markdown",
   "id": "5c91e6bc-1dd2-46e0-87e5-4f642ed26761",
   "metadata": {},
   "source": [
    "\n",
    "<hr style=\"height:10px;border-width:0;color:gray;background-color:gray\">\n",
    "\n",
    "# Convert Number to Words<a class=\"anchor\" id=\"NLP-Example-page_5\"></a>\n",
    "\n",
    "[Back to Top](#NLP-Example-toc)\n",
    "\n",
    "<hr style=\"height:10px;border-width:0;color:gray;background-color:gray\">"
   ]
  },
  {
   "cell_type": "code",
   "execution_count": 4,
   "id": "47ab322c-bc7a-4fd6-874b-f6f2e5cc1837",
   "metadata": {},
   "outputs": [],
   "source": [
    "#pip install num2words"
   ]
  },
  {
   "cell_type": "markdown",
   "id": "4d54802a-20a2-41f5-9c7a-21c2f4fe20f3",
   "metadata": {},
   "source": [
    "If there are both number 105 and the words ‘one hundred and five’ in a text, they should\n",
    "deliver the same meaning. How can we map 105 to ‘one hundred and five’? There is a\n",
    "Python libary to convert number to words called num2words."
   ]
  },
  {
   "cell_type": "code",
   "execution_count": 16,
   "id": "f3eb675b-37ca-48ae-8ecf-c7a90c338a1b",
   "metadata": {},
   "outputs": [],
   "source": [
    "from num2words import num2words"
   ]
  },
  {
   "cell_type": "code",
   "execution_count": 17,
   "id": "3957c24c-f455-4c7b-82c5-22bca46efaec",
   "metadata": {},
   "outputs": [
    {
     "data": {
      "text/plain": [
       "'one hundred and five'"
      ]
     },
     "execution_count": 17,
     "metadata": {},
     "output_type": "execute_result"
    }
   ],
   "source": [
    "num2words(105)"
   ]
  },
  {
   "cell_type": "code",
   "execution_count": 18,
   "id": "c454b970-68aa-45dc-92a3-1e44ba78d734",
   "metadata": {},
   "outputs": [
    {
     "data": {
      "text/plain": [
       "'one hundred and fifth'"
      ]
     },
     "execution_count": 18,
     "metadata": {},
     "output_type": "execute_result"
    }
   ],
   "source": [
    "num2words(105, to='ordinal')"
   ]
  },
  {
   "cell_type": "markdown",
   "id": "7c2dc413-3328-404d-9d04-94cf642ac951",
   "metadata": {},
   "source": [
    "The library can also generate ordinal numbers and support multiple languages!"
   ]
  },
  {
   "cell_type": "code",
   "execution_count": 19,
   "id": "4c61e2e3-08cc-46d3-b291-2327c60d75ab",
   "metadata": {},
   "outputs": [
    {
     "data": {
      "text/plain": [
       "'một trăm lẻ năm'"
      ]
     },
     "execution_count": 19,
     "metadata": {},
     "output_type": "execute_result"
    }
   ],
   "source": [
    "num2words(105, lang='vi')"
   ]
  },
  {
   "cell_type": "code",
   "execution_count": 20,
   "id": "56139bd3-81fb-44c9-98de-039d35157c4d",
   "metadata": {},
   "outputs": [
    {
     "data": {
      "text/plain": [
       "'ciento cinco'"
      ]
     },
     "execution_count": 20,
     "metadata": {},
     "output_type": "execute_result"
    }
   ],
   "source": [
    "num2words(105, lang='es')"
   ]
  },
  {
   "cell_type": "markdown",
   "id": "a79d5fc1-605c-4baa-94b0-cdeeab263489",
   "metadata": {},
   "source": [
    "\n",
    "<hr style=\"height:10px;border-width:0;color:gray;background-color:gray\">\n",
    "\n",
    "# texthero.clean: Preprocess Text in One Line of Code<a class=\"anchor\" id=\"NLP-Example-page_6\"></a>\n",
    "\n",
    "[Back to Top](#NLP-Example-toc)\n",
    "\n",
    "<hr style=\"height:10px;border-width:0;color:gray;background-color:gray\">"
   ]
  },
  {
   "cell_type": "code",
   "execution_count": null,
   "id": "74828bc3-c931-4972-98bb-4a116c36468c",
   "metadata": {},
   "outputs": [],
   "source": [
    "#pip install texthero"
   ]
  },
  {
   "cell_type": "markdown",
   "id": "58185025-c174-40cc-8d46-a30bea4711cd",
   "metadata": {},
   "source": [
    "If you want to preprocess text in one line of code, try texthero. The texthero.clean\n",
    "method will:\n",
    "\n",
    "- fill missing values\n",
    "- convert upper case to lower case\n",
    "- remove digits\n",
    "- remove punctuation\n",
    "- remove stopwords\n",
    "- remove whitespace\n",
    "\n",
    "The code below shows an example of texthero.clean"
   ]
  },
  {
   "cell_type": "code",
   "execution_count": 21,
   "id": "586ce749-c513-48e2-8082-1582741edc3e",
   "metadata": {},
   "outputs": [
    {
     "ename": "KeyError",
     "evalue": "\"[E002] Can't find factory for 'tok2vec'. This usually happens when spaCy calls `nlp.create_pipe` with a component name that's not built in - for example, when constructing the pipeline from a model's meta.json. If you're using a custom component, you can write to `Language.factories['tok2vec']` or remove it from the model meta and add it via `nlp.add_pipe` instead.\"",
     "output_type": "error",
     "traceback": [
      "\u001b[0;31m---------------------------------------------------------------------------\u001b[0m",
      "\u001b[0;31mKeyError\u001b[0m                                  Traceback (most recent call last)",
      "\u001b[0;32m/var/folders/wk/6why77bn1kn0l0pkd4vd3zl00000gn/T/ipykernel_50487/2481652434.py\u001b[0m in \u001b[0;36m<module>\u001b[0;34m\u001b[0m\n\u001b[1;32m      1\u001b[0m \u001b[0;32mimport\u001b[0m \u001b[0mnumpy\u001b[0m \u001b[0;32mas\u001b[0m \u001b[0mnp\u001b[0m\u001b[0;34m\u001b[0m\u001b[0;34m\u001b[0m\u001b[0m\n\u001b[1;32m      2\u001b[0m \u001b[0;31m#import pandas as pd\u001b[0m\u001b[0;34m\u001b[0m\u001b[0;34m\u001b[0m\u001b[0m\n\u001b[0;32m----> 3\u001b[0;31m \u001b[0;32mimport\u001b[0m \u001b[0mtexthero\u001b[0m \u001b[0;32mas\u001b[0m \u001b[0mhero\u001b[0m\u001b[0;34m\u001b[0m\u001b[0;34m\u001b[0m\u001b[0m\n\u001b[0m\u001b[1;32m      4\u001b[0m \u001b[0;34m\u001b[0m\u001b[0m\n\u001b[1;32m      5\u001b[0m df = pd.DataFrame(\n",
      "\u001b[0;32m/usr/local/lib/python3.9/site-packages/texthero/__init__.py\u001b[0m in \u001b[0;36m<module>\u001b[0;34m\u001b[0m\n\u001b[1;32m     16\u001b[0m \u001b[0;32mfrom\u001b[0m \u001b[0;34m.\u001b[0m\u001b[0mnlp\u001b[0m \u001b[0;32mimport\u001b[0m \u001b[0;34m*\u001b[0m\u001b[0;34m\u001b[0m\u001b[0;34m\u001b[0m\u001b[0m\n\u001b[1;32m     17\u001b[0m \u001b[0;34m\u001b[0m\u001b[0m\n\u001b[0;32m---> 18\u001b[0;31m \u001b[0;32mfrom\u001b[0m \u001b[0;34m.\u001b[0m \u001b[0;32mimport\u001b[0m \u001b[0mstopwords\u001b[0m\u001b[0;34m\u001b[0m\u001b[0;34m\u001b[0m\u001b[0m\n\u001b[0m",
      "\u001b[0;32m/usr/local/lib/python3.9/site-packages/texthero/stopwords.py\u001b[0m in \u001b[0;36m<module>\u001b[0;34m\u001b[0m\n\u001b[1;32m     12\u001b[0m \u001b[0;32mtry\u001b[0m\u001b[0;34m:\u001b[0m\u001b[0;34m\u001b[0m\u001b[0;34m\u001b[0m\u001b[0m\n\u001b[1;32m     13\u001b[0m     \u001b[0;31m# If not present, download 'en_core_web_sm'\u001b[0m\u001b[0;34m\u001b[0m\u001b[0;34m\u001b[0m\u001b[0m\n\u001b[0;32m---> 14\u001b[0;31m     \u001b[0mspacy_model\u001b[0m \u001b[0;34m=\u001b[0m \u001b[0mspacy\u001b[0m\u001b[0;34m.\u001b[0m\u001b[0mload\u001b[0m\u001b[0;34m(\u001b[0m\u001b[0;34m\"en_core_web_sm\"\u001b[0m\u001b[0;34m)\u001b[0m\u001b[0;34m\u001b[0m\u001b[0;34m\u001b[0m\u001b[0m\n\u001b[0m\u001b[1;32m     15\u001b[0m \u001b[0;32mexcept\u001b[0m \u001b[0mOSError\u001b[0m\u001b[0;34m:\u001b[0m\u001b[0;34m\u001b[0m\u001b[0;34m\u001b[0m\u001b[0m\n\u001b[1;32m     16\u001b[0m     \u001b[0;32mfrom\u001b[0m \u001b[0mspacy\u001b[0m\u001b[0;34m.\u001b[0m\u001b[0mcli\u001b[0m\u001b[0;34m.\u001b[0m\u001b[0mdownload\u001b[0m \u001b[0;32mimport\u001b[0m \u001b[0mdownload\u001b[0m \u001b[0;32mas\u001b[0m \u001b[0mspacy_download\u001b[0m\u001b[0;34m\u001b[0m\u001b[0;34m\u001b[0m\u001b[0m\n",
      "\u001b[0;32m/usr/local/lib/python3.9/site-packages/spacy/__init__.py\u001b[0m in \u001b[0;36mload\u001b[0;34m(name, **overrides)\u001b[0m\n\u001b[1;32m     28\u001b[0m     \u001b[0;32mif\u001b[0m \u001b[0mdepr_path\u001b[0m \u001b[0;32mnot\u001b[0m \u001b[0;32min\u001b[0m \u001b[0;34m(\u001b[0m\u001b[0;32mTrue\u001b[0m\u001b[0;34m,\u001b[0m \u001b[0;32mFalse\u001b[0m\u001b[0;34m,\u001b[0m \u001b[0;32mNone\u001b[0m\u001b[0;34m)\u001b[0m\u001b[0;34m:\u001b[0m\u001b[0;34m\u001b[0m\u001b[0;34m\u001b[0m\u001b[0m\n\u001b[1;32m     29\u001b[0m         \u001b[0mwarnings\u001b[0m\u001b[0;34m.\u001b[0m\u001b[0mwarn\u001b[0m\u001b[0;34m(\u001b[0m\u001b[0mWarnings\u001b[0m\u001b[0;34m.\u001b[0m\u001b[0mW001\u001b[0m\u001b[0;34m.\u001b[0m\u001b[0mformat\u001b[0m\u001b[0;34m(\u001b[0m\u001b[0mpath\u001b[0m\u001b[0;34m=\u001b[0m\u001b[0mdepr_path\u001b[0m\u001b[0;34m)\u001b[0m\u001b[0;34m,\u001b[0m \u001b[0mDeprecationWarning\u001b[0m\u001b[0;34m)\u001b[0m\u001b[0;34m\u001b[0m\u001b[0;34m\u001b[0m\u001b[0m\n\u001b[0;32m---> 30\u001b[0;31m     \u001b[0;32mreturn\u001b[0m \u001b[0mutil\u001b[0m\u001b[0;34m.\u001b[0m\u001b[0mload_model\u001b[0m\u001b[0;34m(\u001b[0m\u001b[0mname\u001b[0m\u001b[0;34m,\u001b[0m \u001b[0;34m**\u001b[0m\u001b[0moverrides\u001b[0m\u001b[0;34m)\u001b[0m\u001b[0;34m\u001b[0m\u001b[0;34m\u001b[0m\u001b[0m\n\u001b[0m\u001b[1;32m     31\u001b[0m \u001b[0;34m\u001b[0m\u001b[0m\n\u001b[1;32m     32\u001b[0m \u001b[0;34m\u001b[0m\u001b[0m\n",
      "\u001b[0;32m/usr/local/lib/python3.9/site-packages/spacy/util.py\u001b[0m in \u001b[0;36mload_model\u001b[0;34m(name, **overrides)\u001b[0m\n\u001b[1;32m    168\u001b[0m             \u001b[0;32mreturn\u001b[0m \u001b[0mload_model_from_link\u001b[0m\u001b[0;34m(\u001b[0m\u001b[0mname\u001b[0m\u001b[0;34m,\u001b[0m \u001b[0;34m**\u001b[0m\u001b[0moverrides\u001b[0m\u001b[0;34m)\u001b[0m\u001b[0;34m\u001b[0m\u001b[0;34m\u001b[0m\u001b[0m\n\u001b[1;32m    169\u001b[0m         \u001b[0;32mif\u001b[0m \u001b[0mis_package\u001b[0m\u001b[0;34m(\u001b[0m\u001b[0mname\u001b[0m\u001b[0;34m)\u001b[0m\u001b[0;34m:\u001b[0m  \u001b[0;31m# installed as package\u001b[0m\u001b[0;34m\u001b[0m\u001b[0;34m\u001b[0m\u001b[0m\n\u001b[0;32m--> 170\u001b[0;31m             \u001b[0;32mreturn\u001b[0m \u001b[0mload_model_from_package\u001b[0m\u001b[0;34m(\u001b[0m\u001b[0mname\u001b[0m\u001b[0;34m,\u001b[0m \u001b[0;34m**\u001b[0m\u001b[0moverrides\u001b[0m\u001b[0;34m)\u001b[0m\u001b[0;34m\u001b[0m\u001b[0;34m\u001b[0m\u001b[0m\n\u001b[0m\u001b[1;32m    171\u001b[0m         \u001b[0;32mif\u001b[0m \u001b[0mPath\u001b[0m\u001b[0;34m(\u001b[0m\u001b[0mname\u001b[0m\u001b[0;34m)\u001b[0m\u001b[0;34m.\u001b[0m\u001b[0mexists\u001b[0m\u001b[0;34m(\u001b[0m\u001b[0;34m)\u001b[0m\u001b[0;34m:\u001b[0m  \u001b[0;31m# path to model data directory\u001b[0m\u001b[0;34m\u001b[0m\u001b[0;34m\u001b[0m\u001b[0m\n\u001b[1;32m    172\u001b[0m             \u001b[0;32mreturn\u001b[0m \u001b[0mload_model_from_path\u001b[0m\u001b[0;34m(\u001b[0m\u001b[0mPath\u001b[0m\u001b[0;34m(\u001b[0m\u001b[0mname\u001b[0m\u001b[0;34m)\u001b[0m\u001b[0;34m,\u001b[0m \u001b[0;34m**\u001b[0m\u001b[0moverrides\u001b[0m\u001b[0;34m)\u001b[0m\u001b[0;34m\u001b[0m\u001b[0;34m\u001b[0m\u001b[0m\n",
      "\u001b[0;32m/usr/local/lib/python3.9/site-packages/spacy/util.py\u001b[0m in \u001b[0;36mload_model_from_package\u001b[0;34m(name, **overrides)\u001b[0m\n\u001b[1;32m    189\u001b[0m     \u001b[0;34m\"\"\"Load a model from an installed package.\"\"\"\u001b[0m\u001b[0;34m\u001b[0m\u001b[0;34m\u001b[0m\u001b[0m\n\u001b[1;32m    190\u001b[0m     \u001b[0mcls\u001b[0m \u001b[0;34m=\u001b[0m \u001b[0mimportlib\u001b[0m\u001b[0;34m.\u001b[0m\u001b[0mimport_module\u001b[0m\u001b[0;34m(\u001b[0m\u001b[0mname\u001b[0m\u001b[0;34m)\u001b[0m\u001b[0;34m\u001b[0m\u001b[0;34m\u001b[0m\u001b[0m\n\u001b[0;32m--> 191\u001b[0;31m     \u001b[0;32mreturn\u001b[0m \u001b[0mcls\u001b[0m\u001b[0;34m.\u001b[0m\u001b[0mload\u001b[0m\u001b[0;34m(\u001b[0m\u001b[0;34m**\u001b[0m\u001b[0moverrides\u001b[0m\u001b[0;34m)\u001b[0m\u001b[0;34m\u001b[0m\u001b[0;34m\u001b[0m\u001b[0m\n\u001b[0m\u001b[1;32m    192\u001b[0m \u001b[0;34m\u001b[0m\u001b[0m\n\u001b[1;32m    193\u001b[0m \u001b[0;34m\u001b[0m\u001b[0m\n",
      "\u001b[0;32m/usr/local/lib/python3.9/site-packages/en_core_web_sm/__init__.py\u001b[0m in \u001b[0;36mload\u001b[0;34m(**overrides)\u001b[0m\n\u001b[1;32m      8\u001b[0m \u001b[0;34m\u001b[0m\u001b[0m\n\u001b[1;32m      9\u001b[0m \u001b[0;32mdef\u001b[0m \u001b[0mload\u001b[0m\u001b[0;34m(\u001b[0m\u001b[0;34m**\u001b[0m\u001b[0moverrides\u001b[0m\u001b[0;34m)\u001b[0m\u001b[0;34m:\u001b[0m\u001b[0;34m\u001b[0m\u001b[0;34m\u001b[0m\u001b[0m\n\u001b[0;32m---> 10\u001b[0;31m     \u001b[0;32mreturn\u001b[0m \u001b[0mload_model_from_init_py\u001b[0m\u001b[0;34m(\u001b[0m\u001b[0m__file__\u001b[0m\u001b[0;34m,\u001b[0m \u001b[0;34m**\u001b[0m\u001b[0moverrides\u001b[0m\u001b[0;34m)\u001b[0m\u001b[0;34m\u001b[0m\u001b[0;34m\u001b[0m\u001b[0m\n\u001b[0m",
      "\u001b[0;32m/usr/local/lib/python3.9/site-packages/spacy/util.py\u001b[0m in \u001b[0;36mload_model_from_init_py\u001b[0;34m(init_file, **overrides)\u001b[0m\n\u001b[1;32m    237\u001b[0m     \u001b[0;32mif\u001b[0m \u001b[0;32mnot\u001b[0m \u001b[0mmodel_path\u001b[0m\u001b[0;34m.\u001b[0m\u001b[0mexists\u001b[0m\u001b[0;34m(\u001b[0m\u001b[0;34m)\u001b[0m\u001b[0;34m:\u001b[0m\u001b[0;34m\u001b[0m\u001b[0;34m\u001b[0m\u001b[0m\n\u001b[1;32m    238\u001b[0m         \u001b[0;32mraise\u001b[0m \u001b[0mIOError\u001b[0m\u001b[0;34m(\u001b[0m\u001b[0mErrors\u001b[0m\u001b[0;34m.\u001b[0m\u001b[0mE052\u001b[0m\u001b[0;34m.\u001b[0m\u001b[0mformat\u001b[0m\u001b[0;34m(\u001b[0m\u001b[0mpath\u001b[0m\u001b[0;34m=\u001b[0m\u001b[0mpath2str\u001b[0m\u001b[0;34m(\u001b[0m\u001b[0mdata_path\u001b[0m\u001b[0;34m)\u001b[0m\u001b[0;34m)\u001b[0m\u001b[0;34m)\u001b[0m\u001b[0;34m\u001b[0m\u001b[0;34m\u001b[0m\u001b[0m\n\u001b[0;32m--> 239\u001b[0;31m     \u001b[0;32mreturn\u001b[0m \u001b[0mload_model_from_path\u001b[0m\u001b[0;34m(\u001b[0m\u001b[0mdata_path\u001b[0m\u001b[0;34m,\u001b[0m \u001b[0mmeta\u001b[0m\u001b[0;34m,\u001b[0m \u001b[0;34m**\u001b[0m\u001b[0moverrides\u001b[0m\u001b[0;34m)\u001b[0m\u001b[0;34m\u001b[0m\u001b[0;34m\u001b[0m\u001b[0m\n\u001b[0m\u001b[1;32m    240\u001b[0m \u001b[0;34m\u001b[0m\u001b[0m\n\u001b[1;32m    241\u001b[0m \u001b[0;34m\u001b[0m\u001b[0m\n",
      "\u001b[0;32m/usr/local/lib/python3.9/site-packages/spacy/util.py\u001b[0m in \u001b[0;36mload_model_from_path\u001b[0;34m(model_path, meta, **overrides)\u001b[0m\n\u001b[1;32m    218\u001b[0m             \u001b[0mconfig\u001b[0m\u001b[0;34m.\u001b[0m\u001b[0mupdate\u001b[0m\u001b[0;34m(\u001b[0m\u001b[0moverrides\u001b[0m\u001b[0;34m)\u001b[0m\u001b[0;34m\u001b[0m\u001b[0;34m\u001b[0m\u001b[0m\n\u001b[1;32m    219\u001b[0m             \u001b[0mfactory\u001b[0m \u001b[0;34m=\u001b[0m \u001b[0mfactories\u001b[0m\u001b[0;34m.\u001b[0m\u001b[0mget\u001b[0m\u001b[0;34m(\u001b[0m\u001b[0mname\u001b[0m\u001b[0;34m,\u001b[0m \u001b[0mname\u001b[0m\u001b[0;34m)\u001b[0m\u001b[0;34m\u001b[0m\u001b[0;34m\u001b[0m\u001b[0m\n\u001b[0;32m--> 220\u001b[0;31m             \u001b[0mcomponent\u001b[0m \u001b[0;34m=\u001b[0m \u001b[0mnlp\u001b[0m\u001b[0;34m.\u001b[0m\u001b[0mcreate_pipe\u001b[0m\u001b[0;34m(\u001b[0m\u001b[0mfactory\u001b[0m\u001b[0;34m,\u001b[0m \u001b[0mconfig\u001b[0m\u001b[0;34m=\u001b[0m\u001b[0mconfig\u001b[0m\u001b[0;34m)\u001b[0m\u001b[0;34m\u001b[0m\u001b[0;34m\u001b[0m\u001b[0m\n\u001b[0m\u001b[1;32m    221\u001b[0m             \u001b[0mnlp\u001b[0m\u001b[0;34m.\u001b[0m\u001b[0madd_pipe\u001b[0m\u001b[0;34m(\u001b[0m\u001b[0mcomponent\u001b[0m\u001b[0;34m,\u001b[0m \u001b[0mname\u001b[0m\u001b[0;34m=\u001b[0m\u001b[0mname\u001b[0m\u001b[0;34m)\u001b[0m\u001b[0;34m\u001b[0m\u001b[0;34m\u001b[0m\u001b[0m\n\u001b[1;32m    222\u001b[0m     \u001b[0;32mreturn\u001b[0m \u001b[0mnlp\u001b[0m\u001b[0;34m.\u001b[0m\u001b[0mfrom_disk\u001b[0m\u001b[0;34m(\u001b[0m\u001b[0mmodel_path\u001b[0m\u001b[0;34m,\u001b[0m \u001b[0mexclude\u001b[0m\u001b[0;34m=\u001b[0m\u001b[0mdisable\u001b[0m\u001b[0;34m)\u001b[0m\u001b[0;34m\u001b[0m\u001b[0;34m\u001b[0m\u001b[0m\n",
      "\u001b[0;32m/usr/local/lib/python3.9/site-packages/spacy/language.py\u001b[0m in \u001b[0;36mcreate_pipe\u001b[0;34m(self, name, config)\u001b[0m\n\u001b[1;32m    308\u001b[0m                 \u001b[0;32mraise\u001b[0m \u001b[0mKeyError\u001b[0m\u001b[0;34m(\u001b[0m\u001b[0mErrors\u001b[0m\u001b[0;34m.\u001b[0m\u001b[0mE108\u001b[0m\u001b[0;34m.\u001b[0m\u001b[0mformat\u001b[0m\u001b[0;34m(\u001b[0m\u001b[0mname\u001b[0m\u001b[0;34m=\u001b[0m\u001b[0mname\u001b[0m\u001b[0;34m)\u001b[0m\u001b[0;34m)\u001b[0m\u001b[0;34m\u001b[0m\u001b[0;34m\u001b[0m\u001b[0m\n\u001b[1;32m    309\u001b[0m             \u001b[0;32melse\u001b[0m\u001b[0;34m:\u001b[0m\u001b[0;34m\u001b[0m\u001b[0;34m\u001b[0m\u001b[0m\n\u001b[0;32m--> 310\u001b[0;31m                 \u001b[0;32mraise\u001b[0m \u001b[0mKeyError\u001b[0m\u001b[0;34m(\u001b[0m\u001b[0mErrors\u001b[0m\u001b[0;34m.\u001b[0m\u001b[0mE002\u001b[0m\u001b[0;34m.\u001b[0m\u001b[0mformat\u001b[0m\u001b[0;34m(\u001b[0m\u001b[0mname\u001b[0m\u001b[0;34m=\u001b[0m\u001b[0mname\u001b[0m\u001b[0;34m)\u001b[0m\u001b[0;34m)\u001b[0m\u001b[0;34m\u001b[0m\u001b[0;34m\u001b[0m\u001b[0m\n\u001b[0m\u001b[1;32m    311\u001b[0m         \u001b[0mfactory\u001b[0m \u001b[0;34m=\u001b[0m \u001b[0mself\u001b[0m\u001b[0;34m.\u001b[0m\u001b[0mfactories\u001b[0m\u001b[0;34m[\u001b[0m\u001b[0mname\u001b[0m\u001b[0;34m]\u001b[0m\u001b[0;34m\u001b[0m\u001b[0;34m\u001b[0m\u001b[0m\n\u001b[1;32m    312\u001b[0m         \u001b[0;32mreturn\u001b[0m \u001b[0mfactory\u001b[0m\u001b[0;34m(\u001b[0m\u001b[0mself\u001b[0m\u001b[0;34m,\u001b[0m \u001b[0;34m**\u001b[0m\u001b[0mconfig\u001b[0m\u001b[0;34m)\u001b[0m\u001b[0;34m\u001b[0m\u001b[0;34m\u001b[0m\u001b[0m\n",
      "\u001b[0;31mKeyError\u001b[0m: \"[E002] Can't find factory for 'tok2vec'. This usually happens when spaCy calls `nlp.create_pipe` with a component name that's not built in - for example, when constructing the pipeline from a model's meta.json. If you're using a custom component, you can write to `Language.factories['tok2vec']` or remove it from the model meta and add it via `nlp.add_pipe` instead.\""
     ]
    }
   ],
   "source": [
    "import numpy as np\n",
    "#import pandas as pd\n",
    "import texthero as hero\n",
    "\n",
    "df = pd.DataFrame(\n",
    "    {\n",
    "        \"text\": [\n",
    "        \"Today is a beautiful day\",\n",
    "        \"There are 3 ducks in this pond\",\n",
    "        \"This is. very cool.\",\n",
    "        np.nan,\n",
    "        ]\n",
    "    })\n",
    "\n",
    "df.text.pipe(hero.clean)"
   ]
  },
  {
   "cell_type": "markdown",
   "id": "78bac170-6001-4a3a-891b-0e570cd88ea2",
   "metadata": {},
   "source": [
    "\n",
    "<hr style=\"height:10px;border-width:0;color:gray;background-color:gray\">\n",
    "\n",
    "# wordfreq: Estimate the Frequency of a Word in 36 Languages<a class=\"anchor\" id=\"NLP-Example-page_7\"></a>\n",
    "\n",
    "[Back to Top](#NLP-Example-toc)\n",
    "\n",
    "<hr style=\"height:10px;border-width:0;color:gray;background-color:gray\">"
   ]
  },
  {
   "cell_type": "code",
   "execution_count": 22,
   "id": "0b2dc5c3-e37d-4c52-ae6e-6e61322e15d8",
   "metadata": {},
   "outputs": [],
   "source": [
    "import matplotlib.pyplot as plt\n",
    "import seaborn as sns\n",
    "from wordfreq import word_frequency"
   ]
  },
  {
   "cell_type": "code",
   "execution_count": 23,
   "id": "ffbab21b-258b-4396-adcd-4a51a5e8da7d",
   "metadata": {},
   "outputs": [
    {
     "data": {
      "text/plain": [
       "0.000135"
      ]
     },
     "execution_count": 23,
     "metadata": {},
     "output_type": "execute_result"
    }
   ],
   "source": [
    "word_frequency(\"eat\", \"en\")"
   ]
  },
  {
   "cell_type": "code",
   "execution_count": 24,
   "id": "1d0a9655-7378-4904-b7b7-096ea44a8cc1",
   "metadata": {},
   "outputs": [
    {
     "data": {
      "text/plain": [
       "0.0537"
      ]
     },
     "execution_count": 24,
     "metadata": {},
     "output_type": "execute_result"
    }
   ],
   "source": [
    "word_frequency(\"the\", \"en\")"
   ]
  },
  {
   "cell_type": "code",
   "execution_count": 25,
   "id": "c86c27b5-14f7-4746-860b-d28c3030304f",
   "metadata": {},
   "outputs": [],
   "source": [
    "sentence = \"There is a dog running in a park\""
   ]
  },
  {
   "cell_type": "code",
   "execution_count": 26,
   "id": "292669c2-700b-405b-8840-7ccd085891e6",
   "metadata": {},
   "outputs": [],
   "source": [
    "words = sentence.split(\" \")"
   ]
  },
  {
   "cell_type": "code",
   "execution_count": 27,
   "id": "ce66b248-223a-40fa-9836-a5ff682d2ea0",
   "metadata": {},
   "outputs": [],
   "source": [
    "word_frequencies = [word_frequency(word, \"en\") for word in words]"
   ]
  },
  {
   "cell_type": "code",
   "execution_count": 28,
   "id": "e651c9f4-d08f-4fd9-8f41-26aa2a321a95",
   "metadata": {},
   "outputs": [
    {
     "data": {
      "text/plain": [
       "<AxesSubplot:>"
      ]
     },
     "execution_count": 28,
     "metadata": {},
     "output_type": "execute_result"
    },
    {
     "data": {
      "image/png": "[encoded data removed]",
      "text/plain": [
       "<Figure size 432x288 with 1 Axes>"
      ]
     },
     "metadata": {
      "needs_background": "light"
     },
     "output_type": "display_data"
    }
   ],
   "source": [
    "sns.barplot(words, word_frequencies)"
   ]
  },
  {
   "cell_type": "markdown",
   "id": "4f725da0-d29d-4acb-8cd9-8aa30835947f",
   "metadata": {},
   "source": [
    "\n",
    "\n",
    "<hr style=\"height:10px;border-width:0;color:gray;background-color:gray\">\n",
    "\n",
    "# newspaper3k: Extract Meaningful Information From Articles in 2 Lines of Code<a class=\"anchor\" id=\"NLP-Example-page_8\"></a>\n",
    "\n",
    "[Back to Top](#NLP-Example-toc)\n",
    "\n",
    "<hr style=\"height:10px;border-width:0;color:gray;background-color:gray\">"
   ]
  },
  {
   "cell_type": "code",
   "execution_count": 26,
   "id": "81fe89b6-bf87-4f2e-9f6a-db8925077f07",
   "metadata": {},
   "outputs": [],
   "source": [
    "# pip install newspaper3k nltk"
   ]
  },
  {
   "cell_type": "markdown",
   "id": "1c958b40-de2e-4770-8d0e-ffe501e2afd4",
   "metadata": {},
   "source": [
    "If you want to quickly extract meaningful information from an article in a few lines of code, try newspaper3k"
   ]
  },
  {
   "cell_type": "code",
   "execution_count": 29,
   "id": "80ff15bc-14a8-45e0-90a4-3e4faa8a782a",
   "metadata": {},
   "outputs": [],
   "source": [
    "from newspaper import Article\n",
    "import nltk"
   ]
  },
  {
   "cell_type": "code",
   "execution_count": 30,
   "id": "f58ee57c-f99d-444b-ac3d-1e866aefd9ae",
   "metadata": {},
   "outputs": [
    {
     "name": "stderr",
     "output_type": "stream",
     "text": [
      "[nltk_data] Downloading package punkt to /Users/jsr/nltk_data...\n",
      "[nltk_data]   Package punkt is already up-to-date!\n"
     ]
    },
    {
     "data": {
      "text/plain": [
       "True"
      ]
     },
     "execution_count": 30,
     "metadata": {},
     "output_type": "execute_result"
    }
   ],
   "source": [
    "nltk.download(\"punkt\")"
   ]
  },
  {
   "cell_type": "code",
   "execution_count": 31,
   "id": "55a786a7-b8bb-4dee-aecd-14cc47e12eed",
   "metadata": {},
   "outputs": [],
   "source": [
    "url = \"https://www.dataquest.io/blog/learn-data-science/\""
   ]
  },
  {
   "cell_type": "code",
   "execution_count": 32,
   "id": "84e317a9-f5d9-4071-964d-ad31a8b33a76",
   "metadata": {},
   "outputs": [],
   "source": [
    "article = Article(url)"
   ]
  },
  {
   "cell_type": "code",
   "execution_count": 33,
   "id": "c6a5f117-557e-479e-84cf-952688d4c478",
   "metadata": {},
   "outputs": [],
   "source": [
    "article.download()"
   ]
  },
  {
   "cell_type": "code",
   "execution_count": 34,
   "id": "dcdbaf80-e314-4a87-9703-4bcd457d0182",
   "metadata": {},
   "outputs": [],
   "source": [
    "article.parse()"
   ]
  },
  {
   "cell_type": "code",
   "execution_count": 35,
   "id": "d61c8509-5e9a-4ca3-9266-ee34ddf0cc3e",
   "metadata": {},
   "outputs": [
    {
     "data": {
      "text/plain": [
       "'How to Learn Data Science (A step-by-step guide)'"
      ]
     },
     "execution_count": 35,
     "metadata": {},
     "output_type": "execute_result"
    }
   ],
   "source": [
    "article.title"
   ]
  },
  {
   "cell_type": "code",
   "execution_count": 36,
   "id": "c5f851ac-4326-46a3-a37e-3718f17a883c",
   "metadata": {},
   "outputs": [
    {
     "data": {
      "text/plain": [
       "datetime.datetime(2020, 5, 4, 7, 1, tzinfo=tzutc())"
      ]
     },
     "execution_count": 36,
     "metadata": {},
     "output_type": "execute_result"
    }
   ],
   "source": [
    "article.publish_date"
   ]
  },
  {
   "cell_type": "code",
   "execution_count": 37,
   "id": "fa895a95-da8a-4652-adb1-9fe764e139d4",
   "metadata": {},
   "outputs": [
    {
     "data": {
      "text/plain": [
       "'https://www.dataquest.io/favicon.ico'"
      ]
     },
     "execution_count": 37,
     "metadata": {},
     "output_type": "execute_result"
    }
   ],
   "source": [
    "article.top_image"
   ]
  },
  {
   "cell_type": "code",
   "execution_count": 38,
   "id": "dc0f68ad-5e0d-4be5-9048-823fc7edaf61",
   "metadata": {},
   "outputs": [],
   "source": [
    "article.nlp()"
   ]
  },
  {
   "cell_type": "code",
   "execution_count": 39,
   "id": "73b501e5-7bd0-43ff-a82d-c72178d29c97",
   "metadata": {},
   "outputs": [
    {
     "data": {
      "text/plain": [
       "'How to Learn Data Science (A step-by-step guide)There’s no doubt about it: data scientists are in high demand.\\nHow to Learn Data ScienceSo how do you start to learn data science?\\nIf you want to learn data science or just pick up some data science skills, your first goal should be to learn to love data.\\nRather, consider it as a rough set of guidelines to follow as you learn data science on your own path.\\nI personally believe that anyone can learn data science if they approach it with the right frame of mind.'"
      ]
     },
     "execution_count": 39,
     "metadata": {},
     "output_type": "execute_result"
    }
   ],
   "source": [
    "article.summary"
   ]
  },
  {
   "cell_type": "code",
   "execution_count": 40,
   "id": "6dab19c9-620b-4446-b328-2563f89b708f",
   "metadata": {},
   "outputs": [
    {
     "data": {
      "text/plain": [
       "['youre',\n",
       " 'work',\n",
       " 'need',\n",
       " 'skills',\n",
       " 'guide',\n",
       " 'stepbystep',\n",
       " 'science',\n",
       " 'scientists',\n",
       " 'data',\n",
       " 'youll',\n",
       " 'learn',\n",
       " 'learning']"
      ]
     },
     "execution_count": 40,
     "metadata": {},
     "output_type": "execute_result"
    }
   ],
   "source": [
    "article.keywords"
   ]
  },
  {
   "cell_type": "code",
   "execution_count": null,
   "id": "125b26ab-e8d0-4838-9dbe-1729efba4f77",
   "metadata": {},
   "outputs": [],
   "source": []
  }
 ],
 "metadata": {
  "kernelspec": {
   "display_name": "Python 3 (ipykernel)",
   "language": "python",
   "name": "python3"
  },
  "language_info": {
   "codemirror_mode": {
    "name": "ipython",
    "version": 3
   },
   "file_extension": ".py",
   "mimetype": "text/x-python",
   "name": "python",
   "nbconvert_exporter": "python",
   "pygments_lexer": "ipython3",
   "version": "3.9.9"
  }
 },
 "nbformat": 4,
 "nbformat_minor": 5
}
