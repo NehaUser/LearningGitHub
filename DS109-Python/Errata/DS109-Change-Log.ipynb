{
 "cells": [
  {
   "cell_type": "markdown",
   "id": "dc8bc06c-333f-4dc9-9e0f-9749dbbf078c",
   "metadata": {},
   "source": [
    "# Change Log\n",
    "\n",
    "1.  DS109L9, multiple grammatical edits by Jillian Dickson, [Jira ticket #](https://woz-u-projects.atlassian.net/browse/CUR-1895)\n",
    "2. Discontinuing use of Anaconda since we already install Jupyter Lab with our Chocolatey and Homebrew instructions, removing soon\n",
    "3. DS109L1, mutliple grammatical edits by Jillian Dickson, [Jira](https://woz-u-projects.atlassian.net/browse/CUR-1910)"
   ]
  },
  {
   "cell_type": "markdown",
   "id": "f34e69c6-dfbf-4f60-853f-da9ee56e62de",
   "metadata": {},
   "source": [
    "To Do:\n",
    "1. DSO109 L8 - Python for Data Science - Page 2: Links to Workshop Video: https://vimeo.com/427596949 that still directs students to open Anaconda\n",
    "2. DSO109 L1 - Page 3 - Adding the Python Extension to VS Code on Mac - Python Interpreter - Instuctions are repeated twice"
   ]
  },
  {
   "cell_type": "markdown",
   "id": "4aed094c-c69f-46ff-801b-fb54375a0b2a",
   "metadata": {},
   "source": [
    "To Do:\n",
    "\n",
    "DSO109-Test Bot of Lessons 8 and 9 due today(Wednesday) and Lesson 10(Sunday) with links\n",
    "\n",
    "Message: Message: Hello, wonderful student! Lessons 8 and 9 are due today, and we have you covered. Please look at the fantastic resources attached to help you with this task. If you need additional help, please reach out to the DS-Entity channel. Have fun building those Data Science muscles!\n",
    "\n",
    "<hr>\n",
    "\n",
    "<p>Hello, wonderful student! Lessons 8 and 9 are due today, and we have you covered.</p>   \n",
    "<p>Please look at the fantastic resources attached to help you with this task.</p>\n",
    "<p>If you need additional help, please reach out to the DS-Entity channel.</p>\n",
    "<p>Have fun building those Data Science muscles!</p>\n",
    "\n",
    "[Lesson 8-HandsOn-Helper](https://github.com/woz-u/DS-Student-Resources/blob/main/DS109-Python/Examples/DS109-L8-Hands-On-Helper.ipynb)\n",
    "\n",
    "[Lesson 9-HandsOn-Helper](https://github.com/woz-u/DS-Student-Resources/blob/main/DS109-Python/Examples/DS109-L10-Final-hands-on-helper.ipynb)\n",
    "\n",
    "<img src=\"DS109-Python/Media/Learning-Source.jpg\" alt=\"Learning-Source\">\n",
    "\n",
    "<hr>\n",
    "\n"
   ]
  },
  {
   "cell_type": "code",
   "execution_count": null,
   "id": "c90b1c42-ffcd-42e8-a71d-b53cc2477ce5",
   "metadata": {},
   "outputs": [],
   "source": []
  }
 ],
 "metadata": {
  "kernelspec": {
   "display_name": "Python 3",
   "language": "python",
   "name": "python3"
  },
  "language_info": {
   "codemirror_mode": {
    "name": "ipython",
    "version": 3
   },
   "file_extension": ".py",
   "mimetype": "text/x-python",
   "name": "python",
   "nbconvert_exporter": "python",
   "pygments_lexer": "ipython3",
   "version": "3.9.7"
  }
 },
 "nbformat": 4,
 "nbformat_minor": 5
}
