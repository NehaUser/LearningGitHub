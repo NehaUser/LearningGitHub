{
 "cells": [
  {
   "cell_type": "code",
   "execution_count": 1,
   "id": "245ea5a9-f2fb-4b49-b346-1e5064151f4b",
   "metadata": {},
   "outputs": [
    {
     "name": "stdout",
     "output_type": "stream",
     "text": [
      "\u001b[34m==>\u001b[0m \u001b[1mFormulae\u001b[0m\n",
      "brotli\t\tisl\t\tlibuv\t\tnode@14\t\tspeedtest-cli\n",
      "c-ares\t\tjupyterlab\tlz4\t\topenblas\tsqlite\n",
      "ca-certificates\tlibevent\tmacos-term-size\topenssl@1.1\twget\n",
      "gcc\t\tlibidn2\t\tmongosh\t\tpandoc\t\txz\n",
      "gdbm\t\tlibmpc\t\tmpdecimal\tprotobuf\tzeromq\n",
      "gettext\t\tlibnghttp2\tmpfr\t\tpython@3.9\tzstd\n",
      "gmp\t\tlibsodium\tmysql\t\treadline\n",
      "icu4c\t\tlibunistring\tnode\t\tsix\n",
      "\n",
      "\u001b[34m==>\u001b[0m \u001b[1mCasks\u001b[0m\n",
      "github\t\t\tr\t\t\tvisual-studio-code\n",
      "gpower\t\t\trstudio\n",
      "mysqlworkbench\t\ttableau-public\n"
     ]
    }
   ],
   "source": [
    "!brew list"
   ]
  },
  {
   "cell_type": "code",
   "execution_count": null,
   "id": "39efc921-ca97-40e7-bea4-9893c4c27975",
   "metadata": {},
   "outputs": [],
   "source": []
  }
 ],
 "metadata": {
  "kernelspec": {
   "display_name": "Python 3 (ipykernel)",
   "language": "python",
   "name": "python3"
  },
  "language_info": {
   "codemirror_mode": {
    "name": "ipython",
    "version": 3
   },
   "file_extension": ".py",
   "mimetype": "text/x-python",
   "name": "python",
   "nbconvert_exporter": "python",
   "pygments_lexer": "ipython3",
   "version": "3.9.9"
  }
 },
 "nbformat": 4,
 "nbformat_minor": 5
}
