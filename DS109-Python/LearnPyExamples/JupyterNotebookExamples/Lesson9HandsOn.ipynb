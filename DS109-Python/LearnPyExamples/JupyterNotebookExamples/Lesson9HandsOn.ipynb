{
 "cells": [
  {
   "cell_type": "markdown",
   "id": "c433a208",
   "metadata": {},
   "source": [
    "# Importing the numpy package"
   ]
  },
  {
   "cell_type": "code",
   "execution_count": 1,
   "id": "6d429c86",
   "metadata": {},
   "outputs": [],
   "source": [
    "import numpy as np"
   ]
  },
  {
   "cell_type": "markdown",
   "id": "4ed2190c",
   "metadata": {},
   "source": [
    "* 1. Create a five element array using your favorite numbers named myFavorites.\n"
   ]
  },
  {
   "cell_type": "code",
   "execution_count": 2,
   "id": "379a0d56",
   "metadata": {},
   "outputs": [],
   "source": [
    "myFavorites = np.array([1,2,3,4,5])"
   ]
  },
  {
   "cell_type": "markdown",
   "id": "a0154c38",
   "metadata": {},
   "source": [
    "* 2. Perform each of the five aggregate functions on your array."
   ]
  },
  {
   "cell_type": "markdown",
   "id": "9e280c09",
   "metadata": {},
   "source": [
    "* 2.1 : max()"
   ]
  },
  {
   "cell_type": "code",
   "execution_count": 3,
   "id": "a4db7552",
   "metadata": {},
   "outputs": [
    {
     "name": "stdout",
     "output_type": "stream",
     "text": [
      "5\n"
     ]
    }
   ],
   "source": [
    "print(myFavorites.max())"
   ]
  },
  {
   "cell_type": "markdown",
   "id": "e89f47aa",
   "metadata": {},
   "source": [
    "* 2.2 : min()"
   ]
  },
  {
   "cell_type": "code",
   "execution_count": 4,
   "id": "dd7268e3",
   "metadata": {},
   "outputs": [
    {
     "name": "stdout",
     "output_type": "stream",
     "text": [
      "1\n"
     ]
    }
   ],
   "source": [
    "print(myFavorites.min())"
   ]
  },
  {
   "cell_type": "markdown",
   "id": "d445bd9f",
   "metadata": {},
   "source": [
    "* 2.3 : mean()"
   ]
  },
  {
   "cell_type": "code",
   "execution_count": 5,
   "id": "07626a68",
   "metadata": {},
   "outputs": [
    {
     "name": "stdout",
     "output_type": "stream",
     "text": [
      "3.0\n"
     ]
    }
   ],
   "source": [
    "print(myFavorites.mean())"
   ]
  },
  {
   "cell_type": "markdown",
   "id": "e91ced7b",
   "metadata": {},
   "source": [
    "* 2.4 : std()"
   ]
  },
  {
   "cell_type": "code",
   "execution_count": 7,
   "id": "4d29b784",
   "metadata": {},
   "outputs": [
    {
     "name": "stdout",
     "output_type": "stream",
     "text": [
      "1.4142135623730951\n"
     ]
    }
   ],
   "source": [
    "print(myFavorites.std())"
   ]
  },
  {
   "cell_type": "markdown",
   "id": "9e8ab127",
   "metadata": {},
   "source": [
    "* 2.5 : sum()"
   ]
  },
  {
   "cell_type": "code",
   "execution_count": 8,
   "id": "b1054016",
   "metadata": {},
   "outputs": [
    {
     "name": "stdout",
     "output_type": "stream",
     "text": [
      "15\n"
     ]
    }
   ],
   "source": [
    "print(myFavorites.sum())"
   ]
  },
  {
   "cell_type": "markdown",
   "id": "c0127ec4",
   "metadata": {},
   "source": [
    "# Create a five element array containing only ones named OneArrayToRuleThemAll.\n"
   ]
  },
  {
   "cell_type": "code",
   "execution_count": 10,
   "id": "e1637f0d",
   "metadata": {},
   "outputs": [],
   "source": [
    "OneArrayToRuleThemAll = np.ones(5)"
   ]
  },
  {
   "cell_type": "code",
   "execution_count": 11,
   "id": "2120d978",
   "metadata": {},
   "outputs": [
    {
     "name": "stdout",
     "output_type": "stream",
     "text": [
      "[1. 1. 1. 1. 1.]\n"
     ]
    }
   ],
   "source": [
    "print(OneArrayToRuleThemAll)"
   ]
  },
  {
   "cell_type": "markdown",
   "id": "093c5a2d",
   "metadata": {},
   "source": [
    "# Add myFavorites and OneArrayToRuleThemAll.\n"
   ]
  },
  {
   "cell_type": "code",
   "execution_count": 12,
   "id": "5a7dc2c4",
   "metadata": {},
   "outputs": [
    {
     "name": "stdout",
     "output_type": "stream",
     "text": [
      "[2. 3. 4. 5. 6.]\n"
     ]
    }
   ],
   "source": [
    "print(myFavorites + OneArrayToRuleThemAll)"
   ]
  },
  {
   "cell_type": "markdown",
   "id": "e0fefc81",
   "metadata": {},
   "source": [
    "# Multiply every element in myFavorites by two.\n"
   ]
  },
  {
   "cell_type": "code",
   "execution_count": 13,
   "id": "5092d1e2",
   "metadata": {},
   "outputs": [
    {
     "name": "stdout",
     "output_type": "stream",
     "text": [
      "[ 2  4  6  8 10]\n"
     ]
    }
   ],
   "source": [
    "print(myFavorites * 2)"
   ]
  },
  {
   "cell_type": "markdown",
   "id": "73525eb1",
   "metadata": {},
   "source": [
    "# Call the third element in myFavorites using indexing.\n"
   ]
  },
  {
   "cell_type": "code",
   "execution_count": 14,
   "id": "7ca868b2",
   "metadata": {},
   "outputs": [
    {
     "name": "stdout",
     "output_type": "stream",
     "text": [
      "3\n"
     ]
    }
   ],
   "source": [
    "print(myFavorites[2])"
   ]
  },
  {
   "cell_type": "markdown",
   "id": "5379c38a",
   "metadata": {},
   "source": [
    "# Create a four element, two-by-two matrix of numbers named TheMatrixHasYou.\n"
   ]
  },
  {
   "cell_type": "code",
   "execution_count": 15,
   "id": "4c22b2fa",
   "metadata": {},
   "outputs": [],
   "source": [
    "TheMatrixHasYou = np.array([[2,3],[4,5]])"
   ]
  },
  {
   "cell_type": "code",
   "execution_count": 16,
   "id": "5c939b02",
   "metadata": {},
   "outputs": [
    {
     "name": "stdout",
     "output_type": "stream",
     "text": [
      "[[2 3]\n",
      " [4 5]]\n"
     ]
    }
   ],
   "source": [
    "print(TheMatrixHasYou)"
   ]
  },
  {
   "cell_type": "markdown",
   "id": "81ca70f8",
   "metadata": {},
   "source": [
    "# Access the upper left element in TheMatrixHasYou using indexing.\n"
   ]
  },
  {
   "cell_type": "code",
   "execution_count": 17,
   "id": "3d5fd028",
   "metadata": {},
   "outputs": [
    {
     "name": "stdout",
     "output_type": "stream",
     "text": [
      "2\n"
     ]
    }
   ],
   "source": [
    "print(TheMatrixHasYou[0,0])"
   ]
  },
  {
   "cell_type": "markdown",
   "id": "c71075aa",
   "metadata": {},
   "source": [
    "# Find the largest number in each row for TheMatrixHasYou.\n"
   ]
  },
  {
   "cell_type": "code",
   "execution_count": 19,
   "id": "51bb3226",
   "metadata": {},
   "outputs": [
    {
     "name": "stdout",
     "output_type": "stream",
     "text": [
      "[3 5]\n"
     ]
    }
   ],
   "source": [
    "print(TheMatrixHasYou.max(axis = 1))"
   ]
  },
  {
   "cell_type": "markdown",
   "id": "be4a8e28",
   "metadata": {},
   "source": [
    "# Reshape TheMatrixHasYou into a matrix with one row and four columns.\n"
   ]
  },
  {
   "cell_type": "code",
   "execution_count": 20,
   "id": "b9f1a9dd",
   "metadata": {},
   "outputs": [],
   "source": [
    "ReshapedMatrix = TheMatrixHasYou.reshape(1,4)"
   ]
  },
  {
   "cell_type": "code",
   "execution_count": 21,
   "id": "baec6c2d",
   "metadata": {},
   "outputs": [
    {
     "name": "stdout",
     "output_type": "stream",
     "text": [
      "[[2 3 4 5]]\n"
     ]
    }
   ],
   "source": [
    "print(ReshapedMatrix)"
   ]
  },
  {
   "cell_type": "code",
   "execution_count": null,
   "id": "748fd46a",
   "metadata": {},
   "outputs": [],
   "source": []
  }
 ],
 "metadata": {
  "kernelspec": {
   "display_name": "Python 3.9.9 64-bit",
   "language": "python",
   "name": "python399jvsc74a57bd050292dbb1f747f7151d445135d392af3138fb3c65386d17d9510cb605222b10b"
  },
  "language_info": {
   "codemirror_mode": {
    "name": "ipython",
    "version": 3
   },
   "file_extension": ".py",
   "mimetype": "text/x-python",
   "name": "python",
   "nbconvert_exporter": "python",
   "pygments_lexer": "ipython3",
   "version": "3.9.9"
  }
 },
 "nbformat": 4,
 "nbformat_minor": 5
}
