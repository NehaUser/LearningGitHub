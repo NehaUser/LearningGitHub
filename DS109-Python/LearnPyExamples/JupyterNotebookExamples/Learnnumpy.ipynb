{
 "cells": [
  {
   "cell_type": "code",
   "execution_count": 1,
   "id": "8192d856",
   "metadata": {},
   "outputs": [],
   "source": [
    "import pandas as pd\n",
    "import numpy as np"
   ]
  },
  {
   "cell_type": "code",
   "execution_count": 2,
   "id": "72e711b2",
   "metadata": {},
   "outputs": [],
   "source": [
    "my_first_array = np.array([1,3,7,9])"
   ]
  },
  {
   "cell_type": "code",
   "execution_count": 3,
   "id": "914cae27",
   "metadata": {},
   "outputs": [
    {
     "data": {
      "text/plain": [
       "array([1, 3, 7, 9])"
      ]
     },
     "execution_count": 3,
     "metadata": {},
     "output_type": "execute_result"
    }
   ],
   "source": [
    "my_first_array"
   ]
  },
  {
   "cell_type": "code",
   "execution_count": 6,
   "id": "0a66decd",
   "metadata": {},
   "outputs": [
    {
     "data": {
      "text/plain": [
       "20"
      ]
     },
     "execution_count": 6,
     "metadata": {},
     "output_type": "execute_result"
    }
   ],
   "source": [
    "my_first_array.sum()\n"
   ]
  },
  {
   "cell_type": "code",
   "execution_count": 7,
   "id": "b8ea8aa5",
   "metadata": {},
   "outputs": [
    {
     "data": {
      "text/plain": [
       "9"
      ]
     },
     "execution_count": 7,
     "metadata": {},
     "output_type": "execute_result"
    }
   ],
   "source": [
    "my_first_array.max()"
   ]
  },
  {
   "cell_type": "code",
   "execution_count": 8,
   "id": "dbdd7191",
   "metadata": {},
   "outputs": [
    {
     "data": {
      "text/plain": [
       "1"
      ]
     },
     "execution_count": 8,
     "metadata": {},
     "output_type": "execute_result"
    }
   ],
   "source": [
    "my_first_array.min()"
   ]
  },
  {
   "cell_type": "code",
   "execution_count": 9,
   "id": "c04f33e1",
   "metadata": {},
   "outputs": [
    {
     "data": {
      "text/plain": [
       "3.1622776601683795"
      ]
     },
     "execution_count": 9,
     "metadata": {},
     "output_type": "execute_result"
    }
   ],
   "source": [
    "my_first_array.std()"
   ]
  },
  {
   "cell_type": "code",
   "execution_count": 10,
   "id": "c3e5cecc",
   "metadata": {},
   "outputs": [
    {
     "data": {
      "text/plain": [
       "5.0"
      ]
     },
     "execution_count": 10,
     "metadata": {},
     "output_type": "execute_result"
    }
   ],
   "source": [
    "my_first_array.mean()"
   ]
  },
  {
   "cell_type": "code",
   "execution_count": 11,
   "id": "4af66519",
   "metadata": {},
   "outputs": [],
   "source": [
    "first_random_gen = np.random.random(5)"
   ]
  },
  {
   "cell_type": "code",
   "execution_count": 12,
   "id": "e55c235a",
   "metadata": {},
   "outputs": [
    {
     "data": {
      "text/plain": [
       "array([0.45171695, 0.52755656, 0.89462858, 0.2514045 , 0.41195682])"
      ]
     },
     "execution_count": 12,
     "metadata": {},
     "output_type": "execute_result"
    }
   ],
   "source": [
    "first_random_gen"
   ]
  },
  {
   "cell_type": "code",
   "execution_count": 15,
   "id": "b4568e51",
   "metadata": {},
   "outputs": [],
   "source": [
    "npOns = np.ones(5)"
   ]
  },
  {
   "cell_type": "code",
   "execution_count": 16,
   "id": "18c2d737",
   "metadata": {},
   "outputs": [
    {
     "data": {
      "text/plain": [
       "array([1., 1., 1., 1., 1.])"
      ]
     },
     "execution_count": 16,
     "metadata": {},
     "output_type": "execute_result"
    }
   ],
   "source": [
    "npOns\n"
   ]
  },
  {
   "cell_type": "code",
   "execution_count": 17,
   "id": "6aa26799",
   "metadata": {},
   "outputs": [],
   "source": [
    "my_second_array = np.array([1,2,7,5])\n"
   ]
  },
  {
   "cell_type": "code",
   "execution_count": 18,
   "id": "eb1a4665",
   "metadata": {},
   "outputs": [
    {
     "name": "stdout",
     "output_type": "stream",
     "text": [
      "[ 2  5 14 14]\n"
     ]
    }
   ],
   "source": [
    "print(my_first_array + my_second_array)"
   ]
  },
  {
   "cell_type": "code",
   "execution_count": 19,
   "id": "367efe25",
   "metadata": {},
   "outputs": [
    {
     "name": "stdout",
     "output_type": "stream",
     "text": [
      "[0 1 0 4]\n"
     ]
    }
   ],
   "source": [
    "print(my_first_array - my_second_array)"
   ]
  },
  {
   "cell_type": "code",
   "execution_count": 20,
   "id": "ba012b9c",
   "metadata": {},
   "outputs": [
    {
     "name": "stdout",
     "output_type": "stream",
     "text": [
      "[1.  1.5 1.  1.8]\n"
     ]
    }
   ],
   "source": [
    "print(my_first_array / my_second_array)"
   ]
  },
  {
   "cell_type": "code",
   "execution_count": 21,
   "id": "c4d25c72",
   "metadata": {},
   "outputs": [
    {
     "name": "stdout",
     "output_type": "stream",
     "text": [
      "[ 1  6 49 45]\n"
     ]
    }
   ],
   "source": [
    "print(my_first_array * my_second_array)"
   ]
  },
  {
   "cell_type": "code",
   "execution_count": 22,
   "id": "88c499c7",
   "metadata": {},
   "outputs": [
    {
     "name": "stdout",
     "output_type": "stream",
     "text": [
      "[1 3 7]\n"
     ]
    }
   ],
   "source": [
    "print(my_first_array[0:3])"
   ]
  },
  {
   "cell_type": "code",
   "execution_count": 23,
   "id": "8874b89e",
   "metadata": {},
   "outputs": [
    {
     "name": "stdout",
     "output_type": "stream",
     "text": [
      "[ 2  5 14]\n"
     ]
    }
   ],
   "source": [
    "print(my_first_array[0:3] + my_second_array[0:3])"
   ]
  },
  {
   "cell_type": "code",
   "execution_count": 24,
   "id": "d961c604",
   "metadata": {},
   "outputs": [
    {
     "name": "stdout",
     "output_type": "stream",
     "text": [
      "[3 7 9]\n"
     ]
    }
   ],
   "source": [
    "print(my_first_array[1:])\n"
   ]
  },
  {
   "cell_type": "code",
   "execution_count": 26,
   "id": "f4f7e467",
   "metadata": {},
   "outputs": [],
   "source": [
    "my_first_matrix = np.array([[1,2,3],[4,5,6]])"
   ]
  },
  {
   "cell_type": "code",
   "execution_count": 27,
   "id": "5529d2e2",
   "metadata": {},
   "outputs": [
    {
     "name": "stdout",
     "output_type": "stream",
     "text": [
      "[[1 2 3]\n",
      " [4 5 6]]\n"
     ]
    }
   ],
   "source": [
    "print(my_first_matrix)"
   ]
  },
  {
   "cell_type": "code",
   "execution_count": 28,
   "id": "12d42f3c",
   "metadata": {},
   "outputs": [
    {
     "name": "stdout",
     "output_type": "stream",
     "text": [
      "[[1. 1. 1. 1. 1. 1. 1.]\n",
      " [1. 1. 1. 1. 1. 1. 1.]\n",
      " [1. 1. 1. 1. 1. 1. 1.]]\n"
     ]
    }
   ],
   "source": [
    "print(np.ones([3,7]))"
   ]
  },
  {
   "cell_type": "code",
   "execution_count": 29,
   "id": "fa4b3e99",
   "metadata": {},
   "outputs": [],
   "source": [
    "RandomMatrix = np.random.random((7,2))\n"
   ]
  },
  {
   "cell_type": "code",
   "execution_count": 30,
   "id": "696c38cc",
   "metadata": {},
   "outputs": [
    {
     "name": "stdout",
     "output_type": "stream",
     "text": [
      "[[0.21655725 0.49997943]\n",
      " [0.06114066 0.01688676]\n",
      " [0.68799947 0.91707042]\n",
      " [0.77856089 0.16293266]\n",
      " [0.62768386 0.94416428]\n",
      " [0.54253544 0.04437076]\n",
      " [0.07388101 0.15649368]]\n"
     ]
    }
   ],
   "source": [
    "print(RandomMatrix)"
   ]
  },
  {
   "cell_type": "code",
   "execution_count": 32,
   "id": "f2505ef9",
   "metadata": {},
   "outputs": [
    {
     "name": "stdout",
     "output_type": "stream",
     "text": [
      "0.016886762889506524\n"
     ]
    }
   ],
   "source": [
    "# to access matrix value\n",
    "\n",
    "print(RandomMatrix[1,1])"
   ]
  },
  {
   "cell_type": "markdown",
   "id": "52aaf856",
   "metadata": {},
   "source": [
    "# Aggregating Matrix Values Across Columns and Rows\n"
   ]
  },
  {
   "cell_type": "code",
   "execution_count": 33,
   "id": "e1793401",
   "metadata": {},
   "outputs": [
    {
     "data": {
      "text/plain": [
       "array([4, 5, 6])"
      ]
     },
     "execution_count": 33,
     "metadata": {},
     "output_type": "execute_result"
    }
   ],
   "source": [
    "my_first_matrix.max(axis = 0) #for columns"
   ]
  },
  {
   "cell_type": "code",
   "execution_count": 34,
   "id": "920f24a5",
   "metadata": {},
   "outputs": [
    {
     "data": {
      "text/plain": [
       "array([3, 6])"
      ]
     },
     "execution_count": 34,
     "metadata": {},
     "output_type": "execute_result"
    }
   ],
   "source": [
    "my_first_matrix.max(axis = 1) #for rows"
   ]
  },
  {
   "cell_type": "markdown",
   "id": "82c18c9e",
   "metadata": {},
   "source": [
    "#Manipulating Matrices\n",
    "* Transposing - rows to columns and columns to rows"
   ]
  },
  {
   "cell_type": "code",
   "execution_count": 35,
   "id": "e9b06f71",
   "metadata": {},
   "outputs": [
    {
     "name": "stdout",
     "output_type": "stream",
     "text": [
      "[[1 2 3]\n",
      " [4 5 6]]\n"
     ]
    }
   ],
   "source": [
    "print(my_first_matrix)"
   ]
  },
  {
   "cell_type": "code",
   "execution_count": 36,
   "id": "a7b5c3b8",
   "metadata": {},
   "outputs": [
    {
     "name": "stdout",
     "output_type": "stream",
     "text": [
      "[[1 4]\n",
      " [2 5]\n",
      " [3 6]]\n"
     ]
    }
   ],
   "source": [
    "print(my_first_matrix.T)"
   ]
  },
  {
   "cell_type": "markdown",
   "id": "7f0824ef",
   "metadata": {},
   "source": [
    "* Reshaping "
   ]
  },
  {
   "cell_type": "code",
   "execution_count": 37,
   "id": "705a468d",
   "metadata": {},
   "outputs": [
    {
     "name": "stdout",
     "output_type": "stream",
     "text": [
      "[[1 2 3]\n",
      " [4 5 6]]\n"
     ]
    }
   ],
   "source": [
    "print(my_first_matrix)"
   ]
  },
  {
   "cell_type": "code",
   "execution_count": 38,
   "id": "ce2a69b8",
   "metadata": {},
   "outputs": [
    {
     "name": "stdout",
     "output_type": "stream",
     "text": [
      "[[1 2 3 4 5 6]]\n"
     ]
    }
   ],
   "source": [
    "print(my_first_matrix.reshape(1,6))"
   ]
  },
  {
   "cell_type": "code",
   "execution_count": 39,
   "id": "22c9f801",
   "metadata": {},
   "outputs": [
    {
     "name": "stdout",
     "output_type": "stream",
     "text": [
      "[[1]\n",
      " [2]\n",
      " [3]\n",
      " [4]\n",
      " [5]\n",
      " [6]]\n"
     ]
    }
   ],
   "source": [
    "print(my_first_matrix.reshape(6,1))"
   ]
  },
  {
   "cell_type": "code",
   "execution_count": 41,
   "id": "d3205020",
   "metadata": {},
   "outputs": [
    {
     "ename": "ValueError",
     "evalue": "cannot reshape array of size 6 into shape (1,)",
     "output_type": "error",
     "traceback": [
      "\u001b[0;31m---------------------------------------------------------------------------\u001b[0m",
      "\u001b[0;31mValueError\u001b[0m                                Traceback (most recent call last)",
      "Input \u001b[0;32mIn [41]\u001b[0m, in \u001b[0;36m<module>\u001b[0;34m\u001b[0m\n\u001b[0;32m----> 1\u001b[0m \u001b[38;5;28mprint\u001b[39m(\u001b[43mmy_first_matrix\u001b[49m\u001b[38;5;241;43m.\u001b[39;49m\u001b[43mreshape\u001b[49m\u001b[43m(\u001b[49m\u001b[38;5;241;43m1\u001b[39;49m\u001b[43m,\u001b[49m\u001b[43m)\u001b[49m)\n",
      "\u001b[0;31mValueError\u001b[0m: cannot reshape array of size 6 into shape (1,)"
     ]
    }
   ],
   "source": [
    "print(my_first_matrix.reshape(1,))"
   ]
  },
  {
   "cell_type": "code",
   "execution_count": null,
   "id": "63a691bb",
   "metadata": {},
   "outputs": [],
   "source": []
  }
 ],
 "metadata": {
  "kernelspec": {
   "display_name": "Python 3.9.9 64-bit",
   "language": "python",
   "name": "python399jvsc74a57bd050292dbb1f747f7151d445135d392af3138fb3c65386d17d9510cb605222b10b"
  },
  "language_info": {
   "codemirror_mode": {
    "name": "ipython",
    "version": 3
   },
   "file_extension": ".py",
   "mimetype": "text/x-python",
   "name": "python",
   "nbconvert_exporter": "python",
   "pygments_lexer": "ipython3",
   "version": "3.9.9"
  }
 },
 "nbformat": 4,
 "nbformat_minor": 5
}
