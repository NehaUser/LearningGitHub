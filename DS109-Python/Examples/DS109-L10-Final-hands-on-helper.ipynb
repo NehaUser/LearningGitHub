{
 "cells": [
  {
   "cell_type": "markdown",
   "id": "fd200d97-61bd-441f-adca-db4559bdf340",
   "metadata": {},
   "source": [
    "# Final Hands on Helper"
   ]
  },
  {
   "cell_type": "code",
   "execution_count": 4,
   "id": "983103b1-7c0f-4707-89d7-c6d009b1c3c8",
   "metadata": {},
   "outputs": [],
   "source": [
    "emails = [\n",
    "    {'message' : 'Set meeting', 'sent' : True},\n",
    "    {'message' : 'Send thank you', 'sent' : True},\n",
    "    {'message' : 'Remind about birthday', 'sent' : False}\n",
    "]"
   ]
  },
  {
   "cell_type": "code",
   "execution_count": 5,
   "id": "38cd6596-9236-4f09-ba87-8e8375acdbd6",
   "metadata": {},
   "outputs": [
    {
     "data": {
      "text/plain": [
       "[{'message': 'Set meeting', 'sent': True},\n",
       " {'message': 'Send thank you', 'sent': True},\n",
       " {'message': 'Remind about birthday', 'sent': False}]"
      ]
     },
     "execution_count": 5,
     "metadata": {},
     "output_type": "execute_result"
    }
   ],
   "source": [
    "emails"
   ]
  },
  {
   "cell_type": "code",
   "execution_count": 7,
   "id": "98725e40-6ce2-4cba-82ee-c6f3eda26277",
   "metadata": {},
   "outputs": [],
   "source": [
    "def list_emails():\n",
    "    for index, email in enumerate(emails):\n",
    "        print(str.format('{}: {} (Completed: {})', index, email['message'], email['sent']))\n"
   ]
  },
  {
   "cell_type": "code",
   "execution_count": 8,
   "id": "319ccba4-f30e-4467-84bf-f4aaec8d57e2",
   "metadata": {},
   "outputs": [
    {
     "name": "stdout",
     "output_type": "stream",
     "text": [
      "0: Set meeting (Completed: True)\n",
      "1: Send thank you (Completed: True)\n",
      "2: Remind about birthday (Completed: False)\n"
     ]
    }
   ],
   "source": [
    "list_emails()"
   ]
  },
  {
   "cell_type": "code",
   "execution_count": 13,
   "id": "50566220-39c4-4dd4-a1a1-6aa8c0bfa0f2",
   "metadata": {},
   "outputs": [],
   "source": [
    "def add_email():\n",
    "    email_text = input('Please add an email: ')\n",
    "    new_email = {'message' : email_text, 'sent' : False}\n",
    "    emails.append(new_email)"
   ]
  },
  {
   "cell_type": "code",
   "execution_count": 14,
   "id": "91e42f2f-4ff8-49fe-87ab-629825e02ab0",
   "metadata": {},
   "outputs": [
    {
     "name": "stdin",
     "output_type": "stream",
     "text": [
      "Please add an email:  party invite\n"
     ]
    }
   ],
   "source": [
    "add_email()"
   ]
  },
  {
   "cell_type": "code",
   "execution_count": 15,
   "id": "91f23e70-b00b-4b9f-9137-953ce101a081",
   "metadata": {},
   "outputs": [
    {
     "data": {
      "text/plain": [
       "[{'message': 'Set meeting', 'sent': True},\n",
       " {'message': 'Send thank you', 'sent': True},\n",
       " {'message': 'Remind about birthday', 'sent': False},\n",
       " {'message': 'party invite', 'sent': False}]"
      ]
     },
     "execution_count": 15,
     "metadata": {},
     "output_type": "execute_result"
    }
   ],
   "source": [
    "emails"
   ]
  },
  {
   "cell_type": "code",
   "execution_count": 16,
   "id": "245ec6c8-441a-45a0-96e4-d09e833b0e00",
   "metadata": {},
   "outputs": [],
   "source": [
    "def remove_email():\n",
    "    list_emails()\n",
    "    delete_email = int(input('Input the index of the email you would like to delete: '))\n",
    "    del emails[delete_email]"
   ]
  },
  {
   "cell_type": "code",
   "execution_count": 17,
   "id": "f7164d38-1699-4e9e-8e39-2ff2a5c23a55",
   "metadata": {},
   "outputs": [
    {
     "name": "stdout",
     "output_type": "stream",
     "text": [
      "0: Set meeting (Completed: True)\n",
      "1: Send thank you (Completed: True)\n",
      "2: Remind about birthday (Completed: False)\n",
      "3: party invite (Completed: False)\n"
     ]
    },
    {
     "name": "stdin",
     "output_type": "stream",
     "text": [
      "Input the index of the email you would like to delete:  1\n"
     ]
    }
   ],
   "source": [
    "remove_email()"
   ]
  },
  {
   "cell_type": "code",
   "execution_count": 18,
   "id": "a2210a96-633a-4003-abd5-66010c639a0e",
   "metadata": {},
   "outputs": [
    {
     "data": {
      "text/plain": [
       "[{'message': 'Set meeting', 'sent': True},\n",
       " {'message': 'Remind about birthday', 'sent': False},\n",
       " {'message': 'party invite', 'sent': False}]"
      ]
     },
     "execution_count": 18,
     "metadata": {},
     "output_type": "execute_result"
    }
   ],
   "source": [
    "emails"
   ]
  },
  {
   "cell_type": "code",
   "execution_count": 21,
   "id": "e184d561-430e-4df4-b257-71bdca0e62ca",
   "metadata": {},
   "outputs": [],
   "source": [
    "def mark_email_complete():\n",
    "    list_emails()\n",
    "    email_to_be_marked_sent = int(input('Input the index of the email you would like to mark as sent: '))\n",
    "    emails[email_to_be_marked_sent]['sent'] = True"
   ]
  },
  {
   "cell_type": "code",
   "execution_count": 22,
   "id": "50c672b0-02a9-43bf-be38-fcf05d7f9199",
   "metadata": {},
   "outputs": [
    {
     "name": "stdout",
     "output_type": "stream",
     "text": [
      "0: Set meeting (Completed: True)\n",
      "1: Remind about birthday (Completed: False)\n",
      "2: party invite (Completed: False)\n"
     ]
    },
    {
     "name": "stdin",
     "output_type": "stream",
     "text": [
      "Input the index of the email you would like to mark as sent:  2\n"
     ]
    }
   ],
   "source": [
    "mark_email_complete()"
   ]
  },
  {
   "cell_type": "code",
   "execution_count": 23,
   "id": "81a5afb1-f232-4d1e-a02b-4a6102f67fd9",
   "metadata": {},
   "outputs": [
    {
     "data": {
      "text/plain": [
       "[{'message': 'Set meeting', 'sent': True},\n",
       " {'message': 'Remind about birthday', 'sent': False},\n",
       " {'message': 'party invite', 'sent': True}]"
      ]
     },
     "execution_count": 23,
     "metadata": {},
     "output_type": "execute_result"
    }
   ],
   "source": [
    "emails"
   ]
  },
  {
   "cell_type": "code",
   "execution_count": 24,
   "id": "d5d1c9d2-79ee-4bec-bfd4-db5d3e05a076",
   "metadata": {},
   "outputs": [],
   "source": [
    "menu_text = \"\"\"\n",
    "1. List the emails\n",
    "2. Add an email\n",
    "3. Remove an email\n",
    "4. Mark email sent\n",
    "5. Quit\n",
    "\n",
    "What would you like to do? \"\"\"\n"
   ]
  },
  {
   "cell_type": "code",
   "execution_count": 25,
   "id": "c8774c58-3a23-4979-a6d4-532c82873e6c",
   "metadata": {},
   "outputs": [],
   "source": [
    "program_is_running = True"
   ]
  },
  {
   "cell_type": "code",
   "execution_count": 26,
   "id": "0349b7bf-e1af-4839-8778-26210a3070fa",
   "metadata": {},
   "outputs": [
    {
     "name": "stdin",
     "output_type": "stream",
     "text": [
      "\n",
      "1. List the emails\n",
      "2. Add an email\n",
      "3. Remove an email\n",
      "4. Mark email sent\n",
      "5. Quit\n",
      "\n",
      "What would you like to do?  1\n"
     ]
    },
    {
     "name": "stdout",
     "output_type": "stream",
     "text": [
      "0: Set meeting (Completed: True)\n",
      "1: Remind about birthday (Completed: False)\n",
      "2: party invite (Completed: True)\n"
     ]
    },
    {
     "name": "stdin",
     "output_type": "stream",
     "text": [
      "\n",
      "1. List the emails\n",
      "2. Add an email\n",
      "3. Remove an email\n",
      "4. Mark email sent\n",
      "5. Quit\n",
      "\n",
      "What would you like to do?  5\n"
     ]
    }
   ],
   "source": [
    "while program_is_running:\n",
    "    decision = input(menu_text)\n",
    "    if decision == '1':\n",
    "        list_emails()\n",
    "    elif decision == '2':\n",
    "        add_email()\n",
    "    elif decision == '3':\n",
    "        remove_email()\n",
    "    elif decision == '4':\n",
    "        mark_email_complete()\n",
    "    elif decision == '5':\n",
    "        program_is_running = False\n",
    "    else:\n",
    "        print('please choose a valid option')"
   ]
  },
  {
   "cell_type": "code",
   "execution_count": null,
   "id": "ef913223-f513-4fac-be8d-0da57b5d99b3",
   "metadata": {},
   "outputs": [],
   "source": []
  }
 ],
 "metadata": {
  "kernelspec": {
   "display_name": "Python 3 (ipykernel)",
   "language": "python",
   "name": "python3"
  },
  "language_info": {
   "codemirror_mode": {
    "name": "ipython",
    "version": 3
   },
   "file_extension": ".py",
   "mimetype": "text/x-python",
   "name": "python",
   "nbconvert_exporter": "python",
   "pygments_lexer": "ipython3",
   "version": "3.9.7"
  }
 },
 "nbformat": 4,
 "nbformat_minor": 5
}
