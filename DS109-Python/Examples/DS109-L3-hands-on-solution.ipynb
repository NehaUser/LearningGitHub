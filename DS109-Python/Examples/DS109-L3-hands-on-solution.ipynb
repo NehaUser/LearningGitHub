{
 "cells": [
  {
   "cell_type": "markdown",
   "id": "523fc8b3-aba9-410d-b116-26a484d78123",
   "metadata": {},
   "source": [
    "# DS109 L3 Hands-On Solution"
   ]
  },
  {
   "cell_type": "code",
   "execution_count": 1,
   "id": "2bd58df8-2154-492c-a918-99485a572be5",
   "metadata": {},
   "outputs": [
    {
     "name": "stdout",
     "output_type": "stream",
     "text": [
      "Where is Kurt today?\n",
      "Where is David today?\n",
      "Where is Katherine today?\n"
     ]
    }
   ],
   "source": [
    "# Part 1\n",
    "list_of_names = ['Kurt', 'David', 'Katherine']\n",
    "\n",
    "for name in list_of_names:\n",
    "    print(\"Where is \" + name + \" today?\")"
   ]
  },
  {
   "cell_type": "code",
   "execution_count": 2,
   "id": "db759354-3e31-4a6a-a8c4-247c3daa9720",
   "metadata": {},
   "outputs": [
    {
     "name": "stdout",
     "output_type": "stream",
     "text": [
      "Toyota\n",
      "Rose\n",
      "Elephant\n",
      "Lion\n"
     ]
    }
   ],
   "source": [
    "# Part 2\n",
    "\n",
    "my_favorite_cars = [\"BMW\", \"Toyota\", \"Mazda\"]\n",
    "my_favorite_flowers = [\"Rose\", \"Sunflower\", \"Tulip\", \"Daisy\"]\n",
    "my_favorite_animals = [\"Cat\", \"Dog\", \"Giraffe\", \"Elephant\", \"Lion\"]\n",
    "\n",
    "my_favorite_things = my_favorite_cars + my_favorite_flowers + my_favorite_animals\n",
    "\n",
    "for thing in my_favorite_things:\n",
    "    if len(thing) % 2 == 0:\n",
    "        print(thing)"
   ]
  },
  {
   "cell_type": "code",
   "execution_count": 3,
   "id": "a43f6e12-2ce8-4dc9-9767-f28ed89d62d4",
   "metadata": {},
   "outputs": [
    {
     "name": "stdout",
     "output_type": "stream",
     "text": [
      "1\n",
      "2\n",
      "Zip\n",
      "4\n",
      "Zap\n",
      "Zip\n",
      "7\n",
      "8\n",
      "Zip\n",
      "Zap\n",
      "11\n",
      "Zip\n",
      "13\n",
      "14\n",
      "ZipZap\n",
      "16\n",
      "17\n",
      "Zip\n",
      "19\n",
      "Zap\n"
     ]
    }
   ],
   "source": [
    "# Part 3\n",
    "\n",
    "number_range = [1, 2, 3, 4, 5, 6, 7, 8, 9, 10, 11, 12, 13, 14, 15, 16, 17, 18, 19, 20]\n",
    "\n",
    "for number in number_range:\n",
    "    if number % 3 == 0 and number % 5 == 0:\n",
    "        print('ZipZap')\n",
    "    elif number % 3 == 0:\n",
    "        print('Zip')\n",
    "    elif number % 5 == 0:\n",
    "        print('Zap')\n",
    "    else:\n",
    "        print(number)"
   ]
  },
  {
   "cell_type": "code",
   "execution_count": null,
   "id": "34b41736-8448-42cd-ab1b-85baf39f5714",
   "metadata": {},
   "outputs": [],
   "source": []
  }
 ],
 "metadata": {
  "kernelspec": {
   "display_name": "Python 3 (ipykernel)",
   "language": "python",
   "name": "python3"
  },
  "language_info": {
   "codemirror_mode": {
    "name": "ipython",
    "version": 3
   },
   "file_extension": ".py",
   "mimetype": "text/x-python",
   "name": "python",
   "nbconvert_exporter": "python",
   "pygments_lexer": "ipython3",
   "version": "3.9.7"
  }
 },
 "nbformat": 4,
 "nbformat_minor": 5
}
