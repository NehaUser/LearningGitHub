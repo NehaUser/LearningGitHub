{
 "cells": [
  {
   "cell_type": "markdown",
   "id": "cf7fd464-de99-408e-ad6a-cd1a5a649331",
   "metadata": {},
   "source": [
    "# Python Package Install Locations"
   ]
  },
  {
   "cell_type": "markdown",
   "id": "4739ed19-5414-4dc3-89c5-d949ca8db6f1",
   "metadata": {},
   "source": [
    "Python and its modules reside in a physical location on your computer.\n",
    "\n",
    "This notebook will help you identify where your python and its packages are located. "
   ]
  },
  {
   "cell_type": "code",
   "execution_count": 14,
   "id": "c1803262-201e-4851-bef7-5a479d08c8de",
   "metadata": {},
   "outputs": [],
   "source": [
    "# import sys\n",
    "import sys"
   ]
  },
  {
   "cell_type": "code",
   "execution_count": 15,
   "id": "80f2a11d-ce28-4437-b7b5-77ffd2068ef4",
   "metadata": {},
   "outputs": [
    {
     "name": "stdout",
     "output_type": "stream",
     "text": [
      "My python version is: 3.9.7 (default, Sep  3 2021, 12:37:55) \n",
      "[Clang 12.0.5 (clang-1205.0.22.9)]\n"
     ]
    }
   ],
   "source": [
    "# This will return your python version information\n",
    "my_version = sys.version\n",
    "print(f'My python version is: {my_version}')"
   ]
  },
  {
   "cell_type": "code",
   "execution_count": 16,
   "id": "bc22c9b9-193c-40b4-aa91-737bb24bdabf",
   "metadata": {
    "tags": []
   },
   "outputs": [
    {
     "name": "stdout",
     "output_type": "stream",
     "text": [
      "My python executable is at: /usr/local/opt/python@3.9/bin/python3.9\n"
     ]
    }
   ],
   "source": [
    "# This will return where the python executable is located\n",
    "exec_path = sys.executable\n",
    "print(f'My python executable is at: {exec_path}')"
   ]
  },
  {
   "cell_type": "markdown",
   "id": "1c0a1976-f98e-48b9-9595-6fff5b410a77",
   "metadata": {},
   "source": [
    "### Call `.__file__` on a package to see it's installed location"
   ]
  },
  {
   "cell_type": "code",
   "execution_count": 17,
   "id": "3b549d94-d919-4d86-9d0a-d2eb5a935e18",
   "metadata": {},
   "outputs": [],
   "source": [
    "# import pip\n",
    "import pip"
   ]
  },
  {
   "cell_type": "code",
   "execution_count": 18,
   "id": "e91eb9d5-60b4-4e5a-9251-57e7e3c5ab55",
   "metadata": {},
   "outputs": [
    {
     "name": "stdout",
     "output_type": "stream",
     "text": [
      "The python module pip is stored at: /usr/local/lib/python3.9/site-packages/pip/__init__.py\n"
     ]
    }
   ],
   "source": [
    "# Find pips location\n",
    "pip_path = pip.__file__\n",
    "print(f'The python module pip is stored at: {pip_path}')"
   ]
  },
  {
   "cell_type": "code",
   "execution_count": 19,
   "id": "33dfa4bd-52ba-4cf8-95f1-9c4e825b545b",
   "metadata": {},
   "outputs": [],
   "source": [
    "# Import pandas\n",
    "import pandas as pd"
   ]
  },
  {
   "cell_type": "code",
   "execution_count": 21,
   "id": "f28ed9c8-9e59-49a7-8905-42b0c6353ca1",
   "metadata": {},
   "outputs": [
    {
     "name": "stdout",
     "output_type": "stream",
     "text": [
      "The python module pandas is stored at: /usr/local/lib/python3.9/site-packages/pandas/__init__.py\n"
     ]
    }
   ],
   "source": [
    "# Find pips location\n",
    "pd_path = pd.__file__\n",
    "print(f'The python module pandas is stored at: {pd_path}')"
   ]
  },
  {
   "cell_type": "code",
   "execution_count": null,
   "id": "339bd1fa-cd62-435f-87af-baf7a07bfd59",
   "metadata": {},
   "outputs": [],
   "source": []
  }
 ],
 "metadata": {
  "kernelspec": {
   "display_name": "Python 3 (ipykernel)",
   "language": "python",
   "name": "python3"
  },
  "language_info": {
   "codemirror_mode": {
    "name": "ipython",
    "version": 3
   },
   "file_extension": ".py",
   "mimetype": "text/x-python",
   "name": "python",
   "nbconvert_exporter": "python",
   "pygments_lexer": "ipython3",
   "version": "3.9.7"
  }
 },
 "nbformat": 4,
 "nbformat_minor": 5
}
