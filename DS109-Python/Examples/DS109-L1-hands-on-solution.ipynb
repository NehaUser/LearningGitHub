{
 "cells": [
  {
   "cell_type": "markdown",
   "id": "1ee3cd1f-9e37-414d-865f-51f3aa1550fa",
   "metadata": {},
   "source": [
    "# DS109 Lesson 1 Hands-On Solution"
   ]
  },
  {
   "cell_type": "code",
   "execution_count": 1,
   "id": "e28f8673-da3d-4a16-8bcf-305cb1a505bb",
   "metadata": {},
   "outputs": [],
   "source": [
    "question_one = \"What is your name?\"\n",
    "answer_one = \"My name is \\\"Billy\\\"\"\n",
    "question_two = \"How old are you?\"\n",
    "answer_two = 30\n",
    "# question_three = \"How many months is that?\"\n",
    "# answer_three = 360"
   ]
  },
  {
   "cell_type": "code",
   "execution_count": 2,
   "id": "37ddba4d-0710-41de-8fe4-e851a3ff7922",
   "metadata": {},
   "outputs": [
    {
     "name": "stdout",
     "output_type": "stream",
     "text": [
      "What is your name?\n",
      "My name is \"Billy\"\n",
      "How old are you?\n",
      "30\n"
     ]
    }
   ],
   "source": [
    "print(question_one)\n",
    "print(answer_one)\n",
    "print(question_two)\n",
    "print(answer_two)\n",
    "# print(question_three)\n",
    "# print(answer_three)"
   ]
  },
  {
   "cell_type": "code",
   "execution_count": 3,
   "id": "652ee8b6-c5f0-4001-83a0-9ce9bb29d270",
   "metadata": {},
   "outputs": [],
   "source": [
    "my_string = \"Here is a string\"\n",
    "my_integer = 843\n",
    "my_float = 7.4"
   ]
  },
  {
   "cell_type": "code",
   "execution_count": 4,
   "id": "961e9d44-6c98-47da-8a5e-6e27391f0f6c",
   "metadata": {},
   "outputs": [
    {
     "name": "stdout",
     "output_type": "stream",
     "text": [
      "Here is a string\n",
      "843\n",
      "7.4\n"
     ]
    }
   ],
   "source": [
    "print(my_string)\n",
    "print(my_integer)\n",
    "print(my_float)"
   ]
  },
  {
   "cell_type": "code",
   "execution_count": null,
   "id": "56605b5c-e35f-4454-8909-4bd1cdb368d2",
   "metadata": {},
   "outputs": [],
   "source": []
  }
 ],
 "metadata": {
  "kernelspec": {
   "display_name": "Python 3 (ipykernel)",
   "language": "python",
   "name": "python3"
  },
  "language_info": {
   "codemirror_mode": {
    "name": "ipython",
    "version": 3
   },
   "file_extension": ".py",
   "mimetype": "text/x-python",
   "name": "python",
   "nbconvert_exporter": "python",
   "pygments_lexer": "ipython3",
   "version": "3.9.7"
  }
 },
 "nbformat": 4,
 "nbformat_minor": 5
}
