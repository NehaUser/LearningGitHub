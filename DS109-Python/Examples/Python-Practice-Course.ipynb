{
 "cells": [
  {
   "cell_type": "markdown",
   "id": "bc3d494b",
   "metadata": {},
   "source": [
    "## Variables\n"
   ]
  },
  {
   "cell_type": "markdown",
   "id": "7a2aafbe",
   "metadata": {},
   "source": [
    "Sentence = \"Have a great day!\"\n",
    "Sentence\n"
   ]
  },
  {
   "cell_type": "code",
   "execution_count": 1,
   "id": "d5dbf98d",
   "metadata": {},
   "outputs": [
    {
     "data": {
      "text/plain": [
       "22"
      ]
     },
     "execution_count": 1,
     "metadata": {},
     "output_type": "execute_result"
    }
   ],
   "source": [
    "Emily, John, Bella, Sarah, Steve = 22,21,32,45,44\n",
    "Emily"
   ]
  },
  {
   "cell_type": "code",
   "execution_count": 2,
   "id": "8ef23ac1",
   "metadata": {},
   "outputs": [
    {
     "data": {
      "text/plain": [
       "32"
      ]
     },
     "execution_count": 2,
     "metadata": {},
     "output_type": "execute_result"
    }
   ],
   "source": [
    "Bella"
   ]
  },
  {
   "cell_type": "code",
   "execution_count": 4,
   "id": "e094dbce",
   "metadata": {},
   "outputs": [
    {
     "data": {
      "text/plain": [
       "44"
      ]
     },
     "execution_count": 4,
     "metadata": {},
     "output_type": "execute_result"
    }
   ],
   "source": [
    "Steve"
   ]
  },
  {
   "cell_type": "code",
   "execution_count": 6,
   "id": "e80a1446",
   "metadata": {},
   "outputs": [
    {
     "data": {
      "text/plain": [
       "17"
      ]
     },
     "execution_count": 6,
     "metadata": {},
     "output_type": "execute_result"
    }
   ],
   "source": [
    "sara = Bella = Kate = Thomas = 17\n",
    "sara"
   ]
  },
  {
   "cell_type": "code",
   "execution_count": 7,
   "id": "9ac2852b",
   "metadata": {},
   "outputs": [
    {
     "data": {
      "text/plain": [
       "17"
      ]
     },
     "execution_count": 7,
     "metadata": {},
     "output_type": "execute_result"
    }
   ],
   "source": [
    "Kate"
   ]
  },
  {
   "cell_type": "code",
   "execution_count": 8,
   "id": "dc037479",
   "metadata": {},
   "outputs": [
    {
     "data": {
      "text/plain": [
       "'Emily'"
      ]
     },
     "execution_count": 8,
     "metadata": {},
     "output_type": "execute_result"
    }
   ],
   "source": [
    "name, age, height = \"Emily\", 22, \"5'8\"\n",
    "name"
   ]
  },
  {
   "cell_type": "code",
   "execution_count": 9,
   "id": "0675c9fd",
   "metadata": {},
   "outputs": [
    {
     "data": {
      "text/plain": [
       "22"
      ]
     },
     "execution_count": 9,
     "metadata": {},
     "output_type": "execute_result"
    }
   ],
   "source": [
    "age"
   ]
  },
  {
   "cell_type": "code",
   "execution_count": 11,
   "id": "d4b7804b",
   "metadata": {},
   "outputs": [
    {
     "data": {
      "text/plain": [
       "\"5'8\""
      ]
     },
     "execution_count": 11,
     "metadata": {},
     "output_type": "execute_result"
    }
   ],
   "source": [
    "height"
   ]
  },
  {
   "cell_type": "markdown",
   "id": "785f394d",
   "metadata": {},
   "source": [
    "## Placeholders in Strings"
   ]
  },
  {
   "cell_type": "code",
   "execution_count": 19,
   "id": "91322a9f",
   "metadata": {},
   "outputs": [],
   "source": [
    "name = \"Emily\"\n"
   ]
  },
  {
   "cell_type": "code",
   "execution_count": 20,
   "id": "6b751577",
   "metadata": {},
   "outputs": [],
   "source": [
    "sent = \"%s is 5'8\""
   ]
  },
  {
   "cell_type": "code",
   "execution_count": 21,
   "id": "9ee4614a",
   "metadata": {},
   "outputs": [
    {
     "data": {
      "text/plain": [
       "\"Emily is 5'8\""
      ]
     },
     "execution_count": 21,
     "metadata": {},
     "output_type": "execute_result"
    }
   ],
   "source": [
    "sent%name"
   ]
  },
  {
   "cell_type": "code",
   "execution_count": 23,
   "id": "22d5d2ff",
   "metadata": {},
   "outputs": [
    {
     "data": {
      "text/plain": [
       "\"Emily is 5'8\""
      ]
     },
     "execution_count": 23,
     "metadata": {},
     "output_type": "execute_result"
    }
   ],
   "source": [
    "sent%name"
   ]
  },
  {
   "cell_type": "code",
   "execution_count": 24,
   "id": "7d6e2f0c",
   "metadata": {},
   "outputs": [],
   "source": [
    "sent = \"%s is %d years old\""
   ]
  },
  {
   "cell_type": "code",
   "execution_count": 25,
   "id": "f200e0b3",
   "metadata": {},
   "outputs": [
    {
     "data": {
      "text/plain": [
       "'Emily is 30 years old'"
      ]
     },
     "execution_count": 25,
     "metadata": {},
     "output_type": "execute_result"
    }
   ],
   "source": [
    "sent%(\"Emily\", 30)"
   ]
  },
  {
   "cell_type": "markdown",
   "id": "5909dca8",
   "metadata": {},
   "source": [
    "## Lists"
   ]
  },
  {
   "cell_type": "code",
   "execution_count": 1,
   "id": "27b83292",
   "metadata": {},
   "outputs": [
    {
     "data": {
      "text/plain": [
       "['Apples', 'Bananas', 'Cheese']"
      ]
     },
     "execution_count": 1,
     "metadata": {},
     "output_type": "execute_result"
    }
   ],
   "source": [
    "shopList = [\"Apples\",\"Bananas\",\"Cheese\"]\n",
    "shopList"
   ]
  },
  {
   "cell_type": "code",
   "execution_count": 3,
   "id": "3270d16c",
   "metadata": {},
   "outputs": [
    {
     "data": {
      "text/plain": [
       "['Apples', 'Bananas']"
      ]
     },
     "execution_count": 3,
     "metadata": {},
     "output_type": "execute_result"
    }
   ],
   "source": [
    "shopList[0:2]"
   ]
  },
  {
   "cell_type": "markdown",
   "id": "bc62468d",
   "metadata": {},
   "source": [
    "array gives you the first two items-starting with the first item which is 0-Same below. Starting with 0 but giving you the first 3 items."
   ]
  },
  {
   "cell_type": "code",
   "execution_count": 4,
   "id": "d196a198",
   "metadata": {},
   "outputs": [
    {
     "data": {
      "text/plain": [
       "['Apples', 'Bananas', 'Cheese']"
      ]
     },
     "execution_count": 4,
     "metadata": {},
     "output_type": "execute_result"
    }
   ],
   "source": [
    "shopList[0:3]"
   ]
  },
  {
   "cell_type": "markdown",
   "id": "48a6d869",
   "metadata": {},
   "source": [
    "Adding items to a list:"
   ]
  },
  {
   "cell_type": "code",
   "execution_count": 8,
   "id": "f1849845",
   "metadata": {},
   "outputs": [
    {
     "data": {
      "text/plain": [
       "['Cherries', 'Bananas', 'Cheese', 'Blueberries', 'Blueberries']"
      ]
     },
     "execution_count": 8,
     "metadata": {},
     "output_type": "execute_result"
    }
   ],
   "source": [
    "shopList.append(\"Blueberries\")\n",
    "shopList"
   ]
  },
  {
   "cell_type": "markdown",
   "id": "bc770513",
   "metadata": {},
   "source": [
    "Changing an item in the list"
   ]
  },
  {
   "cell_type": "code",
   "execution_count": 6,
   "id": "5e99be2d",
   "metadata": {},
   "outputs": [
    {
     "data": {
      "text/plain": [
       "['Cherries', 'Bananas', 'Cheese']"
      ]
     },
     "execution_count": 6,
     "metadata": {},
     "output_type": "execute_result"
    }
   ],
   "source": [
    "shopList[0] = \"Cherries\"\n",
    "shopList"
   ]
  },
  {
   "cell_type": "markdown",
   "id": "5326555b",
   "metadata": {},
   "source": [
    "Delete items in the list:"
   ]
  },
  {
   "cell_type": "code",
   "execution_count": 9,
   "id": "4e102006",
   "metadata": {},
   "outputs": [
    {
     "data": {
      "text/plain": [
       "['Cherries', 'Cheese', 'Blueberries', 'Blueberries']"
      ]
     },
     "execution_count": 9,
     "metadata": {},
     "output_type": "execute_result"
    }
   ],
   "source": [
    "del shopList[1]\n",
    "shopList"
   ]
  },
  {
   "cell_type": "markdown",
   "id": "c08cf461",
   "metadata": {},
   "source": [
    "How many items are your list: len function"
   ]
  },
  {
   "cell_type": "code",
   "execution_count": 11,
   "id": "de79d6be",
   "metadata": {},
   "outputs": [
    {
     "data": {
      "text/plain": [
       "4"
      ]
     },
     "execution_count": 11,
     "metadata": {},
     "output_type": "execute_result"
    }
   ],
   "source": [
    "len(shopList)"
   ]
  },
  {
   "cell_type": "markdown",
   "id": "44f67f77",
   "metadata": {},
   "source": [
    "Combining lists:"
   ]
  },
  {
   "cell_type": "code",
   "execution_count": 13,
   "id": "d7812766",
   "metadata": {},
   "outputs": [
    {
     "data": {
      "text/plain": [
       "['Bread', 'Jam', 'Peanut Butter']"
      ]
     },
     "execution_count": 13,
     "metadata": {},
     "output_type": "execute_result"
    }
   ],
   "source": [
    "shopList2 = [\"Bread\",\"Jam\",\"Peanut Butter\"]\n",
    "shopList2"
   ]
  },
  {
   "cell_type": "code",
   "execution_count": 14,
   "id": "ca5ebd38",
   "metadata": {},
   "outputs": [
    {
     "data": {
      "text/plain": [
       "['Cherries',\n",
       " 'Cheese',\n",
       " 'Blueberries',\n",
       " 'Blueberries',\n",
       " 'Bread',\n",
       " 'Jam',\n",
       " 'Peanut Butter']"
      ]
     },
     "execution_count": 14,
     "metadata": {},
     "output_type": "execute_result"
    }
   ],
   "source": [
    "shopList + shopList2"
   ]
  },
  {
   "cell_type": "markdown",
   "id": "3084b737",
   "metadata": {},
   "source": [
    "Multiplying Lists:"
   ]
  },
  {
   "cell_type": "code",
   "execution_count": 16,
   "id": "4f3ea579",
   "metadata": {},
   "outputs": [
    {
     "data": {
      "text/plain": [
       "4"
      ]
     },
     "execution_count": 16,
     "metadata": {},
     "output_type": "execute_result"
    }
   ],
   "source": [
    "shopList * 2"
   ]
  },
  {
   "cell_type": "markdown",
   "id": "52cbc85e",
   "metadata": {},
   "source": [
    "Other functions for lists:"
   ]
  },
  {
   "cell_type": "code",
   "execution_count": 17,
   "id": "1fa8b112",
   "metadata": {},
   "outputs": [
    {
     "data": {
      "text/plain": [
       "34"
      ]
     },
     "execution_count": 17,
     "metadata": {},
     "output_type": "execute_result"
    }
   ],
   "source": [
    "listNum = [1,4,6,34,5]\n",
    "max(listNum)"
   ]
  },
  {
   "cell_type": "code",
   "execution_count": 18,
   "id": "7dcb3611",
   "metadata": {},
   "outputs": [
    {
     "data": {
      "text/plain": [
       "1"
      ]
     },
     "execution_count": 18,
     "metadata": {},
     "output_type": "execute_result"
    }
   ],
   "source": [
    "min(listNum)"
   ]
  },
  {
   "cell_type": "markdown",
   "id": "66de2a33",
   "metadata": {},
   "source": [
    "Dictionaries"
   ]
  },
  {
   "cell_type": "code",
   "execution_count": 19,
   "id": "e2ff8b1f",
   "metadata": {},
   "outputs": [],
   "source": [
    "students = [\"Tina\", 23,\"Jack\", 28, \"Sarah\", 33]"
   ]
  },
  {
   "cell_type": "markdown",
   "id": "cf85c2ac",
   "metadata": {},
   "source": [
    "Above is not the best way"
   ]
  },
  {
   "cell_type": "markdown",
   "id": "84214ae7",
   "metadata": {},
   "source": [
    "This way is the most effective way to create a dictionary-Curly bracets create dictionaries. Square brackets call the Key."
   ]
  },
  {
   "cell_type": "code",
   "execution_count": 23,
   "id": "82bae6d6",
   "metadata": {},
   "outputs": [
    {
     "data": {
      "text/plain": [
       "{'Tina': 23, 'Jack': 33, 'Bob': 26}"
      ]
     },
     "execution_count": 23,
     "metadata": {},
     "output_type": "execute_result"
    }
   ],
   "source": [
    "students = {\"Tina\":23, \"Jack\":33, \"Bob\":26}\n",
    "students"
   ]
  },
  {
   "cell_type": "code",
   "execution_count": 24,
   "id": "87118628",
   "metadata": {},
   "outputs": [
    {
     "data": {
      "text/plain": [
       "23"
      ]
     },
     "execution_count": 24,
     "metadata": {},
     "output_type": "execute_result"
    }
   ],
   "source": [
    "students[\"Tina\"]"
   ]
  },
  {
   "cell_type": "markdown",
   "id": "a48efc48",
   "metadata": {},
   "source": [
    "Updating a dictionary"
   ]
  },
  {
   "cell_type": "code",
   "execution_count": 26,
   "id": "5c1e4a71",
   "metadata": {},
   "outputs": [
    {
     "data": {
      "text/plain": [
       "{'Tina': 30, 'Jack': 33, 'Bob': 26}"
      ]
     },
     "execution_count": 26,
     "metadata": {},
     "output_type": "execute_result"
    }
   ],
   "source": [
    "students[\"Tina\"] = 30\n",
    "students"
   ]
  },
  {
   "cell_type": "markdown",
   "id": "9e266193",
   "metadata": {},
   "source": [
    "Removing keys out of your dictionary"
   ]
  },
  {
   "cell_type": "code",
   "execution_count": 27,
   "id": "f46213ab",
   "metadata": {},
   "outputs": [
    {
     "data": {
      "text/plain": [
       "{'Jack': 33, 'Bob': 26}"
      ]
     },
     "execution_count": 27,
     "metadata": {},
     "output_type": "execute_result"
    }
   ],
   "source": [
    "del students[\"Tina\"]\n",
    "students"
   ]
  },
  {
   "cell_type": "markdown",
   "id": "1b95c29f",
   "metadata": {},
   "source": [
    "You should not have multiply key values in a dictionary such as:"
   ]
  },
  {
   "cell_type": "code",
   "execution_count": 28,
   "id": "b7987314",
   "metadata": {},
   "outputs": [],
   "source": [
    "students  = {\"Bob\":12, \"Bob\":14,\"Bob\":16}"
   ]
  },
  {
   "cell_type": "markdown",
   "id": "cc52dab2",
   "metadata": {},
   "source": [
    "You use dictionasries when you have key values, such as names:ages...Anything that has a key value"
   ]
  },
  {
   "cell_type": "markdown",
   "id": "8e1c370d",
   "metadata": {},
   "source": [
    "## Tuples\n"
   ]
  },
  {
   "cell_type": "markdown",
   "id": "a7d9e270",
   "metadata": {},
   "source": [
    "You can't change, add or delete in Tuples. Once it is made it cannot be changed. Tuples are used with () and then you fill it with whatever this items you want."
   ]
  },
  {
   "cell_type": "code",
   "execution_count": 31,
   "id": "281ba37a",
   "metadata": {},
   "outputs": [
    {
     "data": {
      "text/plain": [
       "('Orange', 'Apples', 'Kiwi')"
      ]
     },
     "execution_count": 31,
     "metadata": {},
     "output_type": "execute_result"
    }
   ],
   "source": [
    "tup =(\"Orange\", \"Apples\",\"Kiwi\")\n",
    "tup"
   ]
  },
  {
   "cell_type": "markdown",
   "id": "31b0d158",
   "metadata": {},
   "source": [
    "You can access your items in the tuple:\n",
    "    "
   ]
  },
  {
   "cell_type": "code",
   "execution_count": 32,
   "id": "1f308dc2",
   "metadata": {},
   "outputs": [
    {
     "data": {
      "text/plain": [
       "'Orange'"
      ]
     },
     "execution_count": 32,
     "metadata": {},
     "output_type": "execute_result"
    }
   ],
   "source": [
    "tup[0]"
   ]
  },
  {
   "cell_type": "code",
   "execution_count": 33,
   "id": "36f70700",
   "metadata": {},
   "outputs": [
    {
     "data": {
      "text/plain": [
       "'Apples'"
      ]
     },
     "execution_count": 33,
     "metadata": {},
     "output_type": "execute_result"
    }
   ],
   "source": [
    "tup[1]"
   ]
  },
  {
   "cell_type": "code",
   "execution_count": 36,
   "id": "4afc6db5",
   "metadata": {},
   "outputs": [
    {
     "data": {
      "text/plain": [
       "('Apples', 'Kiwi')"
      ]
     },
     "execution_count": 36,
     "metadata": {},
     "output_type": "execute_result"
    }
   ],
   "source": [
    "tup [1:3]"
   ]
  },
  {
   "cell_type": "code",
   "execution_count": 37,
   "id": "18c92f1d",
   "metadata": {},
   "outputs": [],
   "source": [
    "tup2 =(12,4)"
   ]
  },
  {
   "cell_type": "code",
   "execution_count": 38,
   "id": "82fad064",
   "metadata": {},
   "outputs": [
    {
     "data": {
      "text/plain": [
       "(12, 4)"
      ]
     },
     "execution_count": 38,
     "metadata": {},
     "output_type": "execute_result"
    }
   ],
   "source": [
    "tup2"
   ]
  },
  {
   "cell_type": "markdown",
   "id": "792b3399",
   "metadata": {},
   "source": [
    "You can add multiple tuples together but you cannot modify. You can delete the entire tuple."
   ]
  },
  {
   "cell_type": "code",
   "execution_count": 41,
   "id": "7d5c0c69",
   "metadata": {},
   "outputs": [
    {
     "data": {
      "text/plain": [
       "('Orange', 'Apples', 'Kiwi', 12, 4)"
      ]
     },
     "execution_count": 41,
     "metadata": {},
     "output_type": "execute_result"
    }
   ],
   "source": [
    "tup3 = tup + tup2\n",
    "tup3"
   ]
  },
  {
   "cell_type": "code",
   "execution_count": 42,
   "id": "4b0ac099",
   "metadata": {},
   "outputs": [],
   "source": [
    "del tup3"
   ]
  },
  {
   "cell_type": "markdown",
   "id": "138df50f",
   "metadata": {},
   "source": [
    "Cheking the length of a tuple"
   ]
  },
  {
   "cell_type": "code",
   "execution_count": 44,
   "id": "806dcaa0",
   "metadata": {},
   "outputs": [
    {
     "data": {
      "text/plain": [
       "3"
      ]
     },
     "execution_count": 44,
     "metadata": {},
     "output_type": "execute_result"
    }
   ],
   "source": [
    "len(tup)"
   ]
  },
  {
   "cell_type": "code",
   "execution_count": 45,
   "id": "8a5df928",
   "metadata": {},
   "outputs": [
    {
     "data": {
      "text/plain": [
       "'HiHiHiHi'"
      ]
     },
     "execution_count": 45,
     "metadata": {},
     "output_type": "execute_result"
    }
   ],
   "source": [
    "tup =(\"Hi\")\n",
    "tup * 4"
   ]
  },
  {
   "cell_type": "markdown",
   "id": "7f7be750",
   "metadata": {},
   "source": [
    "You can cancatenate and multiply them"
   ]
  },
  {
   "cell_type": "code",
   "execution_count": null,
   "id": "d23edbc9",
   "metadata": {},
   "outputs": [],
   "source": [
    "tup + tup2 tup*3"
   ]
  },
  {
   "cell_type": "markdown",
   "id": "b7dd5e81",
   "metadata": {},
   "source": [
    "## Conditional Statements"
   ]
  },
  {
   "cell_type": "code",
   "execution_count": 46,
   "id": "b7563d20",
   "metadata": {},
   "outputs": [
    {
     "name": "stdout",
     "output_type": "stream",
     "text": [
      "Hello\n"
     ]
    }
   ],
   "source": [
    "if (5>3):\n",
    "    print(\"Hello\")"
   ]
  },
  {
   "cell_type": "code",
   "execution_count": 47,
   "id": "5ac49c8c",
   "metadata": {},
   "outputs": [
    {
     "name": "stdout",
     "output_type": "stream",
     "text": [
      "This was not true\n"
     ]
    }
   ],
   "source": [
    "if (3<2):\n",
    "    print(\"Hello Again!\")\n",
    "    \n",
    "else:\n",
    "    print(\"This was not true\")"
   ]
  },
  {
   "cell_type": "code",
   "execution_count": 48,
   "id": "104bcdfe",
   "metadata": {},
   "outputs": [
    {
     "data": {
      "text/plain": [
       "True"
      ]
     },
     "execution_count": 48,
     "metadata": {},
     "output_type": "execute_result"
    }
   ],
   "source": [
    "3>2\n"
   ]
  },
  {
   "cell_type": "code",
   "execution_count": 50,
   "id": "54efd2cc",
   "metadata": {},
   "outputs": [
    {
     "data": {
      "text/plain": [
       "False"
      ]
     },
     "execution_count": 50,
     "metadata": {},
     "output_type": "execute_result"
    }
   ],
   "source": [
    "5<4"
   ]
  },
  {
   "cell_type": "code",
   "execution_count": 51,
   "id": "6843f66c",
   "metadata": {},
   "outputs": [
    {
     "data": {
      "text/plain": [
       "True"
      ]
     },
     "execution_count": 51,
     "metadata": {},
     "output_type": "execute_result"
    }
   ],
   "source": [
    "3==3"
   ]
  },
  {
   "cell_type": "markdown",
   "id": "d765368c",
   "metadata": {},
   "source": [
    "Not equal to operator"
   ]
  },
  {
   "cell_type": "code",
   "execution_count": 52,
   "id": "77a8530e",
   "metadata": {},
   "outputs": [
    {
     "data": {
      "text/plain": [
       "True"
      ]
     },
     "execution_count": 52,
     "metadata": {},
     "output_type": "execute_result"
    }
   ],
   "source": [
    "3!= 2"
   ]
  },
  {
   "cell_type": "markdown",
   "id": "ebfb67a7",
   "metadata": {},
   "source": [
    "All of the operators you can use in condtional statements are:"
   ]
  },
  {
   "cell_type": "code",
   "execution_count": null,
   "id": "84d74915",
   "metadata": {},
   "outputs": [],
   "source": [
    "> < >= <= >= == !="
   ]
  },
  {
   "cell_type": "markdown",
   "id": "449eb1fa",
   "metadata": {},
   "source": [
    "else statements:"
   ]
  },
  {
   "cell_type": "code",
   "execution_count": 53,
   "id": "618a2bf5",
   "metadata": {},
   "outputs": [
    {
     "name": "stdout",
     "output_type": "stream",
     "text": [
      "You are a teenager\n"
     ]
    }
   ],
   "source": [
    "age = 16\n",
    "\n",
    "if (age < 13):\n",
    "    print(\"You are young\")\n",
    "elif(age >= 13 and age < 18):\n",
    "    print(\"You are a teenager\")\n",
    "else:\n",
    "    print(\"You are an adult\")"
   ]
  },
  {
   "cell_type": "code",
   "execution_count": 7,
   "id": "2115f6f2",
   "metadata": {},
   "outputs": [
    {
     "name": "stdout",
     "output_type": "stream",
     "text": [
      "Nice\n",
      "Good Job!\n"
     ]
    }
   ],
   "source": [
    "if (5 > 2 and 6 > 3):\n",
    "    print(\"Nice\")\n",
    "if (2<4 or 5==5):\n",
    "    print(\"Good Job!\")\n"
   ]
  },
  {
   "cell_type": "code",
   "execution_count": null,
   "id": "e86250d8",
   "metadata": {},
   "outputs": [],
   "source": []
  }
 ],
 "metadata": {
  "kernelspec": {
   "display_name": "Python 3",
   "language": "python",
   "name": "python3"
  },
  "language_info": {
   "codemirror_mode": {
    "name": "ipython",
    "version": 3
   },
   "file_extension": ".py",
   "mimetype": "text/x-python",
   "name": "python",
   "nbconvert_exporter": "python",
   "pygments_lexer": "ipython3",
   "version": "3.7.11"
  }
 },
 "nbformat": 4,
 "nbformat_minor": 5
}
