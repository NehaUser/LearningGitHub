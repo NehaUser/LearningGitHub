{
 "cells": [
  {
   "cell_type": "markdown",
   "id": "844d514b-4570-4414-886d-7eea0159c24a",
   "metadata": {},
   "source": [
    "## Lesson 9 Hands-On Helper"
   ]
  },
  {
   "cell_type": "markdown",
   "id": "7ab16e6f-944a-43ae-843f-bc9ca439e575",
   "metadata": {},
   "source": [
    "### Create a five element array using numbers!"
   ]
  },
  {
   "cell_type": "code",
   "execution_count": 3,
   "id": "e220d6c1-2c02-4af2-a75c-ba66aa0785aa",
   "metadata": {},
   "outputs": [],
   "source": [
    "import numpy as np"
   ]
  },
  {
   "cell_type": "code",
   "execution_count": 4,
   "id": "ba3a0e59-b928-4243-96b2-bde8690b092a",
   "metadata": {},
   "outputs": [],
   "source": [
    "NumbersAreFun = np.array([2,4,6,7,9,])"
   ]
  },
  {
   "cell_type": "markdown",
   "id": "1a37229d-e8b3-44cf-a561-8db8e06e38ab",
   "metadata": {},
   "source": [
    "### Let's aggregate five functions on your array!"
   ]
  },
  {
   "cell_type": "code",
   "execution_count": 6,
   "id": "a600ae75-4cac-4323-a873-99f5e15b8715",
   "metadata": {},
   "outputs": [
    {
     "data": {
      "text/plain": [
       "9"
      ]
     },
     "execution_count": 6,
     "metadata": {},
     "output_type": "execute_result"
    }
   ],
   "source": [
    "NumbersAreFun.max()"
   ]
  },
  {
   "cell_type": "code",
   "execution_count": 7,
   "id": "43f3f101-3673-46ac-9039-b0374f26f4df",
   "metadata": {},
   "outputs": [
    {
     "data": {
      "text/plain": [
       "2"
      ]
     },
     "execution_count": 7,
     "metadata": {},
     "output_type": "execute_result"
    }
   ],
   "source": [
    "NumbersAreFun.min()"
   ]
  },
  {
   "cell_type": "code",
   "execution_count": 8,
   "id": "ceac86ee-487a-4d82-b3fa-c6a599ef896b",
   "metadata": {},
   "outputs": [
    {
     "data": {
      "text/plain": [
       "5.6"
      ]
     },
     "execution_count": 8,
     "metadata": {},
     "output_type": "execute_result"
    }
   ],
   "source": [
    "NumbersAreFun.mean()"
   ]
  },
  {
   "cell_type": "code",
   "execution_count": 9,
   "id": "c6b4fbfe-7017-4410-b763-cdd4ee1f5199",
   "metadata": {},
   "outputs": [
    {
     "data": {
      "text/plain": [
       "2.4166091947189146"
      ]
     },
     "execution_count": 9,
     "metadata": {},
     "output_type": "execute_result"
    }
   ],
   "source": [
    "NumbersAreFun.std()"
   ]
  },
  {
   "cell_type": "code",
   "execution_count": 10,
   "id": "999013e0-b86b-4cdd-aa11-e1c5a8216394",
   "metadata": {},
   "outputs": [
    {
     "data": {
      "text/plain": [
       "28"
      ]
     },
     "execution_count": 10,
     "metadata": {},
     "output_type": "execute_result"
    }
   ],
   "source": [
    "NumbersAreFun.sum()"
   ]
  },
  {
   "cell_type": "markdown",
   "id": "53695eb4-b38c-421a-9209-035b196a14ad",
   "metadata": {},
   "source": [
    "### Create a five element array with only ones!"
   ]
  },
  {
   "cell_type": "code",
   "execution_count": 14,
   "id": "4b6385dc-b9f3-4da4-93d2-dd2157833df6",
   "metadata": {},
   "outputs": [
    {
     "data": {
      "text/plain": [
       "array([1., 1., 1., 1., 1.])"
      ]
     },
     "execution_count": 14,
     "metadata": {},
     "output_type": "execute_result"
    }
   ],
   "source": [
    "TwoIsAwesome = np.ones(5)\n",
    "TwoIsAwesome "
   ]
  },
  {
   "cell_type": "markdown",
   "id": "58bbe1ff-a939-4013-9d00-fb9d606d6350",
   "metadata": {},
   "source": [
    "### Add both dataframes together"
   ]
  },
  {
   "cell_type": "code",
   "execution_count": 15,
   "id": "72223220-e272-4f84-a7c7-d4ce9824c155",
   "metadata": {},
   "outputs": [
    {
     "data": {
      "text/plain": [
       "array([ 3.,  5.,  7.,  8., 10.])"
      ]
     },
     "execution_count": 15,
     "metadata": {},
     "output_type": "execute_result"
    }
   ],
   "source": [
    "TwoIsAwesome + NumbersAreFun"
   ]
  },
  {
   "cell_type": "markdown",
   "id": "f6f9574b-c76b-4971-942f-8a1134acd19b",
   "metadata": {},
   "source": [
    "### How about multiplying?"
   ]
  },
  {
   "cell_type": "code",
   "execution_count": 16,
   "id": "417b6210-6df1-40cd-9497-8db8fa54d143",
   "metadata": {},
   "outputs": [
    {
     "data": {
      "text/plain": [
       "array([ 4,  8, 12, 14, 18])"
      ]
     },
     "execution_count": 16,
     "metadata": {},
     "output_type": "execute_result"
    }
   ],
   "source": [
    "NumbersAreFun * 2"
   ]
  },
  {
   "cell_type": "markdown",
   "id": "ec83e27d-a19f-4ebf-8914-45c697a4e15b",
   "metadata": {},
   "source": [
    "### Calling the number in the third spot"
   ]
  },
  {
   "cell_type": "code",
   "execution_count": 17,
   "id": "7fecd7a6-5a6f-487a-b1cc-043d6714e1fd",
   "metadata": {},
   "outputs": [
    {
     "data": {
      "text/plain": [
       "7"
      ]
     },
     "execution_count": 17,
     "metadata": {},
     "output_type": "execute_result"
    }
   ],
   "source": [
    "NumbersAreFun[3]"
   ]
  },
  {
   "cell_type": "markdown",
   "id": "2d3debe2-882a-4ea9-9f70-cbeba0934c03",
   "metadata": {},
   "source": [
    "### Four element-Two by Two matrix of numbers"
   ]
  },
  {
   "cell_type": "code",
   "execution_count": 18,
   "id": "3adb019a-38fa-48ad-9421-fd79a735f1d5",
   "metadata": {},
   "outputs": [
    {
     "data": {
      "text/plain": [
       "array([[1, 3],\n",
       "       [6, 4]])"
      ]
     },
     "execution_count": 18,
     "metadata": {},
     "output_type": "execute_result"
    }
   ],
   "source": [
    "MatrixFun = np.array([[1,3], [6, 4]])\n",
    "MatrixFun"
   ]
  },
  {
   "cell_type": "markdown",
   "id": "5a0e5b9e-747c-4824-bdcc-9083aed3b050",
   "metadata": {},
   "source": [
    "### Looking at the upper left in the matrix using indexing"
   ]
  },
  {
   "cell_type": "code",
   "execution_count": 20,
   "id": "8f246be0-67d9-4be6-aa24-e75b3245d9ea",
   "metadata": {},
   "outputs": [
    {
     "data": {
      "text/plain": [
       "1"
      ]
     },
     "execution_count": 20,
     "metadata": {},
     "output_type": "execute_result"
    }
   ],
   "source": [
    "MatrixFun[0,0]"
   ]
  },
  {
   "cell_type": "markdown",
   "id": "743ab2c3-37f5-47e9-bc57-be17fc34a187",
   "metadata": {},
   "source": [
    "### Finding the largest numbers in the Matrix"
   ]
  },
  {
   "cell_type": "code",
   "execution_count": 21,
   "id": "96e8a344-f1e0-4d43-9348-49a9b5b12b9d",
   "metadata": {},
   "outputs": [
    {
     "data": {
      "text/plain": [
       "array([3, 6])"
      ]
     },
     "execution_count": 21,
     "metadata": {},
     "output_type": "execute_result"
    }
   ],
   "source": [
    "MatrixFun.max(axis=1)"
   ]
  },
  {
   "cell_type": "markdown",
   "id": "e3d0ca6c-5eb9-4e52-8c93-182477b59b33",
   "metadata": {},
   "source": [
    "### Reshape the Matrix!"
   ]
  },
  {
   "cell_type": "code",
   "execution_count": 24,
   "id": "4f0bb39c-eb2a-44c6-9926-adb9ec463afd",
   "metadata": {},
   "outputs": [
    {
     "data": {
      "text/plain": [
       "array([[1, 3, 6, 4]])"
      ]
     },
     "execution_count": 24,
     "metadata": {},
     "output_type": "execute_result"
    }
   ],
   "source": [
    "MatrixFun.reshape(1,4)"
   ]
  },
  {
   "cell_type": "code",
   "execution_count": null,
   "id": "8a6aec9d-f4a1-4f30-9648-172d31d116d2",
   "metadata": {},
   "outputs": [],
   "source": []
  }
 ],
 "metadata": {
  "kernelspec": {
   "display_name": "Python 3",
   "language": "python",
   "name": "python3"
  },
  "language_info": {
   "codemirror_mode": {
    "name": "ipython",
    "version": 3
   },
   "file_extension": ".py",
   "mimetype": "text/x-python",
   "name": "python",
   "nbconvert_exporter": "python",
   "pygments_lexer": "ipython3",
   "version": "3.9.7"
  }
 },
 "nbformat": 4,
 "nbformat_minor": 5
}
