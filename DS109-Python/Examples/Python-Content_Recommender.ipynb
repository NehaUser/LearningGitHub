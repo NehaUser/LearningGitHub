{
 "cells": [
  {
   "cell_type": "markdown",
   "metadata": {},
   "source": [
    "# Basic Content Recommender\n",
    "\n",
    "Recommender systems are powerful tools for data science used heavily by companies such as Netflix and Amazon.\n",
    "\n",
    "Every time you see phrases like \"Other customers also bought...\" or \"Viewers like you also watch...\" there is a recommender system at work.\n",
    "\n",
    "A content recommendation system relies on similarties in item descriptions to provide recommendations.\n",
    "\n",
    "Learn more about [Cosine Similarity](https://scikit-learn.org/stable/modules/generated/sklearn.metrics.pairwise.cosine_similarity.html) here!\n",
    "\n",
    "Learn more about the [tf-idf](https://scikit-learn.org/stable/modules/generated/sklearn.feature_extraction.text.TfidfVectorizer.html) here!"
   ]
  },
  {
   "cell_type": "code",
   "execution_count": 1,
   "metadata": {},
   "outputs": [],
   "source": [
    "# Import packages\n",
    "import os\n",
    "import pandas as pd"
   ]
  },
  {
   "cell_type": "markdown",
   "metadata": {},
   "source": [
    "## Import and check data"
   ]
  },
  {
   "cell_type": "code",
   "execution_count": 2,
   "metadata": {},
   "outputs": [],
   "source": [
    "# set up data path\n",
    "data_path = os.path.join('..', 'Data', 'recommender-sample-data.csv')"
   ]
  },
  {
   "cell_type": "code",
   "execution_count": 3,
   "metadata": {},
   "outputs": [],
   "source": [
    "# Read in data\n",
    "df = pd.read_csv(data_path)"
   ]
  },
  {
   "cell_type": "code",
   "execution_count": 4,
   "metadata": {},
   "outputs": [
    {
     "data": {
      "text/html": [
       "<div>\n",
       "<style scoped>\n",
       "    .dataframe tbody tr th:only-of-type {\n",
       "        vertical-align: middle;\n",
       "    }\n",
       "\n",
       "    .dataframe tbody tr th {\n",
       "        vertical-align: top;\n",
       "    }\n",
       "\n",
       "    .dataframe thead th {\n",
       "        text-align: right;\n",
       "    }\n",
       "</style>\n",
       "<table border=\"1\" class=\"dataframe\">\n",
       "  <thead>\n",
       "    <tr style=\"text-align: right;\">\n",
       "      <th></th>\n",
       "      <th>id</th>\n",
       "      <th>description</th>\n",
       "    </tr>\n",
       "  </thead>\n",
       "  <tbody>\n",
       "    <tr>\n",
       "      <th>0</th>\n",
       "      <td>1</td>\n",
       "      <td>Active classic boxers - There's a reason why o...</td>\n",
       "    </tr>\n",
       "    <tr>\n",
       "      <th>1</th>\n",
       "      <td>2</td>\n",
       "      <td>Active sport boxer briefs - Skinning up Glory ...</td>\n",
       "    </tr>\n",
       "    <tr>\n",
       "      <th>2</th>\n",
       "      <td>3</td>\n",
       "      <td>Active sport briefs - These superbreathable no...</td>\n",
       "    </tr>\n",
       "    <tr>\n",
       "      <th>3</th>\n",
       "      <td>4</td>\n",
       "      <td>Alpine guide pants - Skin in, climb ice, switc...</td>\n",
       "    </tr>\n",
       "    <tr>\n",
       "      <th>4</th>\n",
       "      <td>5</td>\n",
       "      <td>Alpine wind jkt - On high ridges, steep ice an...</td>\n",
       "    </tr>\n",
       "    <tr>\n",
       "      <th>...</th>\n",
       "      <td>...</td>\n",
       "      <td>...</td>\n",
       "    </tr>\n",
       "    <tr>\n",
       "      <th>495</th>\n",
       "      <td>496</td>\n",
       "      <td>Cap 2 bottoms - Cut loose from the maddening c...</td>\n",
       "    </tr>\n",
       "    <tr>\n",
       "      <th>496</th>\n",
       "      <td>497</td>\n",
       "      <td>Cap 2 crew - This crew takes the edge off fick...</td>\n",
       "    </tr>\n",
       "    <tr>\n",
       "      <th>497</th>\n",
       "      <td>498</td>\n",
       "      <td>All-time shell - No need to use that morning T...</td>\n",
       "    </tr>\n",
       "    <tr>\n",
       "      <th>498</th>\n",
       "      <td>499</td>\n",
       "      <td>All-wear cargo shorts - All-Wear Cargo Shorts ...</td>\n",
       "    </tr>\n",
       "    <tr>\n",
       "      <th>499</th>\n",
       "      <td>500</td>\n",
       "      <td>All-wear shorts - Time to simplify? Our All-We...</td>\n",
       "    </tr>\n",
       "  </tbody>\n",
       "</table>\n",
       "<p>500 rows × 2 columns</p>\n",
       "</div>"
      ],
      "text/plain": [
       "      id                                        description\n",
       "0      1  Active classic boxers - There's a reason why o...\n",
       "1      2  Active sport boxer briefs - Skinning up Glory ...\n",
       "2      3  Active sport briefs - These superbreathable no...\n",
       "3      4  Alpine guide pants - Skin in, climb ice, switc...\n",
       "4      5  Alpine wind jkt - On high ridges, steep ice an...\n",
       "..   ...                                                ...\n",
       "495  496  Cap 2 bottoms - Cut loose from the maddening c...\n",
       "496  497  Cap 2 crew - This crew takes the edge off fick...\n",
       "497  498  All-time shell - No need to use that morning T...\n",
       "498  499  All-wear cargo shorts - All-Wear Cargo Shorts ...\n",
       "499  500  All-wear shorts - Time to simplify? Our All-We...\n",
       "\n",
       "[500 rows x 2 columns]"
      ]
     },
     "execution_count": 4,
     "metadata": {},
     "output_type": "execute_result"
    }
   ],
   "source": [
    "# View data\n",
    "df"
   ]
  },
  {
   "cell_type": "markdown",
   "metadata": {},
   "source": [
    "## Create tf-idf matrix"
   ]
  },
  {
   "cell_type": "code",
   "execution_count": 5,
   "metadata": {},
   "outputs": [],
   "source": [
    "from sklearn.feature_extraction.text import TfidfVectorizer\n",
    "from sklearn.metrics.pairwise import cosine_similarity"
   ]
  },
  {
   "cell_type": "markdown",
   "metadata": {},
   "source": [
    "Key arguments for TfidfVectorizer\n",
    " * analyzer - level of analysis (i.e., word or character)\n",
    " * ngram_range - range for n-gram inclusion\n",
    " * min_df - minimum document frequency score to be included\n",
    " * stop_words - words to be removed from the matrix"
   ]
  },
  {
   "cell_type": "markdown",
   "metadata": {},
   "source": [
    "### Sample tf-idf"
   ]
  },
  {
   "cell_type": "code",
   "execution_count": 6,
   "metadata": {},
   "outputs": [],
   "source": [
    "# Set up our tf-idf vectorizer\n",
    "sample_tf = TfidfVectorizer(analyzer='word', ngram_range=(1,1), min_df=0, stop_words='english')"
   ]
  },
  {
   "cell_type": "code",
   "execution_count": 7,
   "metadata": {},
   "outputs": [
    {
     "data": {
      "text/html": [
       "<div>\n",
       "<style scoped>\n",
       "    .dataframe tbody tr th:only-of-type {\n",
       "        vertical-align: middle;\n",
       "    }\n",
       "\n",
       "    .dataframe tbody tr th {\n",
       "        vertical-align: top;\n",
       "    }\n",
       "\n",
       "    .dataframe thead th {\n",
       "        text-align: right;\n",
       "    }\n",
       "</style>\n",
       "<table border=\"1\" class=\"dataframe\">\n",
       "  <thead>\n",
       "    <tr style=\"text-align: right;\">\n",
       "      <th></th>\n",
       "      <th>0</th>\n",
       "      <th>id</th>\n",
       "    </tr>\n",
       "  </thead>\n",
       "  <tbody>\n",
       "    <tr>\n",
       "      <th>0</th>\n",
       "      <td>This is an important sentence about cats.</td>\n",
       "      <td>1</td>\n",
       "    </tr>\n",
       "    <tr>\n",
       "      <th>1</th>\n",
       "      <td>Here is another sentence about cats.</td>\n",
       "      <td>2</td>\n",
       "    </tr>\n",
       "    <tr>\n",
       "      <th>2</th>\n",
       "      <td>Important news arrived about dogs.</td>\n",
       "      <td>3</td>\n",
       "    </tr>\n",
       "    <tr>\n",
       "      <th>3</th>\n",
       "      <td>Dogs have learned data science.</td>\n",
       "      <td>4</td>\n",
       "    </tr>\n",
       "  </tbody>\n",
       "</table>\n",
       "</div>"
      ],
      "text/plain": [
       "                                           0  id\n",
       "0  This is an important sentence about cats.   1\n",
       "1       Here is another sentence about cats.   2\n",
       "2         Important news arrived about dogs.   3\n",
       "3            Dogs have learned data science.   4"
      ]
     },
     "execution_count": 7,
     "metadata": {},
     "output_type": "execute_result"
    }
   ],
   "source": [
    "# Create dummy data frame for test example\n",
    "sent_df = pd.DataFrame([['This is an important sentence about cats.'], ['Here is another sentence about cats.'], ['Important news arrived about dogs.'], ['Dogs have learned data science.']])\n",
    "sent_df['id']=[1, 2, 3, 4]\n",
    "sent_df"
   ]
  },
  {
   "cell_type": "code",
   "execution_count": 8,
   "metadata": {},
   "outputs": [],
   "source": [
    "# Apply out tf-idf on the sentence column of the data\n",
    "sample_tfidf = sample_tf.fit_transform(sent_df[0])"
   ]
  },
  {
   "cell_type": "code",
   "execution_count": 9,
   "metadata": {},
   "outputs": [
    {
     "data": {
      "text/plain": [
       "(4, 9)"
      ]
     },
     "execution_count": 9,
     "metadata": {},
     "output_type": "execute_result"
    }
   ],
   "source": [
    "# Check resulting shape\n",
    "sample_tfidf.shape"
   ]
  },
  {
   "cell_type": "code",
   "execution_count": 10,
   "metadata": {},
   "outputs": [
    {
     "data": {
      "text/html": [
       "<div>\n",
       "<style scoped>\n",
       "    .dataframe tbody tr th:only-of-type {\n",
       "        vertical-align: middle;\n",
       "    }\n",
       "\n",
       "    .dataframe tbody tr th {\n",
       "        vertical-align: top;\n",
       "    }\n",
       "\n",
       "    .dataframe thead th {\n",
       "        text-align: right;\n",
       "    }\n",
       "</style>\n",
       "<table border=\"1\" class=\"dataframe\">\n",
       "  <thead>\n",
       "    <tr style=\"text-align: right;\">\n",
       "      <th></th>\n",
       "      <th>(arrived, 0)</th>\n",
       "      <th>(cats, 1)</th>\n",
       "      <th>(data, 2)</th>\n",
       "      <th>(dogs, 3)</th>\n",
       "      <th>(important, 4)</th>\n",
       "      <th>(learned, 5)</th>\n",
       "      <th>(news, 6)</th>\n",
       "      <th>(science, 7)</th>\n",
       "      <th>(sentence, 8)</th>\n",
       "    </tr>\n",
       "  </thead>\n",
       "  <tbody>\n",
       "    <tr>\n",
       "      <th>0</th>\n",
       "      <td>0.000000</td>\n",
       "      <td>0.577350</td>\n",
       "      <td>0.000000</td>\n",
       "      <td>0.000000</td>\n",
       "      <td>0.577350</td>\n",
       "      <td>0.000000</td>\n",
       "      <td>0.000000</td>\n",
       "      <td>0.000000</td>\n",
       "      <td>0.577350</td>\n",
       "    </tr>\n",
       "    <tr>\n",
       "      <th>1</th>\n",
       "      <td>0.000000</td>\n",
       "      <td>0.707107</td>\n",
       "      <td>0.000000</td>\n",
       "      <td>0.000000</td>\n",
       "      <td>0.000000</td>\n",
       "      <td>0.000000</td>\n",
       "      <td>0.000000</td>\n",
       "      <td>0.000000</td>\n",
       "      <td>0.707107</td>\n",
       "    </tr>\n",
       "    <tr>\n",
       "      <th>2</th>\n",
       "      <td>0.555283</td>\n",
       "      <td>0.000000</td>\n",
       "      <td>0.000000</td>\n",
       "      <td>0.437791</td>\n",
       "      <td>0.437791</td>\n",
       "      <td>0.000000</td>\n",
       "      <td>0.555283</td>\n",
       "      <td>0.000000</td>\n",
       "      <td>0.000000</td>\n",
       "    </tr>\n",
       "    <tr>\n",
       "      <th>3</th>\n",
       "      <td>0.000000</td>\n",
       "      <td>0.000000</td>\n",
       "      <td>0.525473</td>\n",
       "      <td>0.414289</td>\n",
       "      <td>0.000000</td>\n",
       "      <td>0.525473</td>\n",
       "      <td>0.000000</td>\n",
       "      <td>0.525473</td>\n",
       "      <td>0.000000</td>\n",
       "    </tr>\n",
       "  </tbody>\n",
       "</table>\n",
       "</div>"
      ],
      "text/plain": [
       "   (arrived, 0)  (cats, 1)  (data, 2)  (dogs, 3)  (important, 4)  \\\n",
       "0      0.000000   0.577350   0.000000   0.000000        0.577350   \n",
       "1      0.000000   0.707107   0.000000   0.000000        0.000000   \n",
       "2      0.555283   0.000000   0.000000   0.437791        0.437791   \n",
       "3      0.000000   0.000000   0.525473   0.414289        0.000000   \n",
       "\n",
       "   (learned, 5)  (news, 6)  (science, 7)  (sentence, 8)  \n",
       "0      0.000000   0.000000      0.000000       0.577350  \n",
       "1      0.000000   0.000000      0.000000       0.707107  \n",
       "2      0.000000   0.555283      0.000000       0.000000  \n",
       "3      0.525473   0.000000      0.525473       0.000000  "
      ]
     },
     "execution_count": 10,
     "metadata": {},
     "output_type": "execute_result"
    }
   ],
   "source": [
    "# Put data back into a df to view whats happening.\n",
    "pd.DataFrame(sample_tfidf.todense(), columns=sorted(sample_tf.vocabulary_.items(), key=lambda item: item[1]))"
   ]
  },
  {
   "cell_type": "markdown",
   "metadata": {},
   "source": [
    "### Sentences have been vectorized into an array\n",
    "\n",
    "Notice the 4 sentences (0-3), have broken down by whether they contain a specific word or not.\n",
    "\n",
    "Notice some words, known as stop words, have been removed (e.g, this, have, about).\n",
    "\n",
    "This sparse matrix can now be used to generate metrics of similarity such as cosine similarity. "
   ]
  },
  {
   "attachments": {
    "8c66656a-51f2-45c6-8393-6b5f3db515b5.png": {
     "image/png": "[encoded data removed]"
    }
   },
   "cell_type": "markdown",
   "metadata": {},
   "source": [
    "![cos_sim.png](attachment:8c66656a-51f2-45c6-8393-6b5f3db515b5.png)"
   ]
  },
  {
   "cell_type": "code",
   "execution_count": 11,
   "metadata": {},
   "outputs": [],
   "source": [
    "# Calculate cosine similarities\n",
    "sample_cosine_similarities = cosine_similarity(sample_tfidf) "
   ]
  },
  {
   "cell_type": "code",
   "execution_count": 12,
   "metadata": {},
   "outputs": [
    {
     "data": {
      "text/plain": [
       "array([[1.        , 0.81649658, 0.25275889, 0.        ],\n",
       "       [0.81649658, 1.        , 0.        , 0.        ],\n",
       "       [0.25275889, 0.        , 1.        , 0.18137198],\n",
       "       [0.        , 0.        , 0.18137198, 1.        ]])"
      ]
     },
     "execution_count": 12,
     "metadata": {},
     "output_type": "execute_result"
    }
   ],
   "source": [
    "# View cosine similarities\n",
    "sample_cosine_similarities"
   ]
  },
  {
   "cell_type": "code",
   "execution_count": 13,
   "metadata": {},
   "outputs": [],
   "source": [
    "# Create empty dictionary to hold results\n",
    "sample_results = {}"
   ]
  },
  {
   "cell_type": "code",
   "execution_count": 14,
   "metadata": {},
   "outputs": [],
   "source": [
    "# Iterate over df and find closest matches\n",
    "for idx, row in sent_df.iterrows():\n",
    "   similar_indices = sample_cosine_similarities[idx].argsort()[:-100:-1] \n",
    "   similar_items = [(sample_cosine_similarities[idx][i], sent_df['id'][i]) for i in similar_indices] \n",
    "   sample_results[row[0]] = similar_items[1:]"
   ]
  },
  {
   "cell_type": "code",
   "execution_count": 15,
   "metadata": {},
   "outputs": [
    {
     "data": {
      "text/plain": [
       "{'This is an important sentence about cats.': [(0.816496580927726, 2),\n",
       "  (0.252758885116426, 3),\n",
       "  (0.0, 4)],\n",
       " 'Here is another sentence about cats.': [(0.816496580927726, 1),\n",
       "  (0.0, 4),\n",
       "  (0.0, 3)],\n",
       " 'Important news arrived about dogs.': [(0.252758885116426, 1),\n",
       "  (0.18137198239804392, 4),\n",
       "  (0.0, 2)],\n",
       " 'Dogs have learned data science.': [(0.18137198239804392, 3),\n",
       "  (0.0, 2),\n",
       "  (0.0, 1)]}"
      ]
     },
     "execution_count": 15,
     "metadata": {},
     "output_type": "execute_result"
    }
   ],
   "source": [
    "# View results for each sentence\n",
    "sample_results"
   ]
  },
  {
   "cell_type": "code",
   "execution_count": 16,
   "metadata": {},
   "outputs": [
    {
     "data": {
      "text/plain": [
       "dict_keys(['This is an important sentence about cats.', 'Here is another sentence about cats.', 'Important news arrived about dogs.', 'Dogs have learned data science.'])"
      ]
     },
     "execution_count": 16,
     "metadata": {},
     "output_type": "execute_result"
    }
   ],
   "source": [
    "# keys are the sentences in this example\n",
    "sample_results.keys()"
   ]
  },
  {
   "cell_type": "code",
   "execution_count": 17,
   "metadata": {},
   "outputs": [],
   "source": [
    "# Just reads the results out of the dictionary\n",
    "def sample_recommend(sentence, num):\n",
    "    print(\"Recommending \" + str(num) + \" products similar to \" + str(sentence) + \"...\")   \n",
    "    print(\"-------\")    \n",
    "    recs = sample_results[sentence][:num]   \n",
    "    for rec in recs: \n",
    "       print(\"Recommended: \" + str(rec[1]) + \" (score:\" +      str(rec[0]) + \")\")"
   ]
  },
  {
   "cell_type": "code",
   "execution_count": 18,
   "metadata": {},
   "outputs": [
    {
     "name": "stdout",
     "output_type": "stream",
     "text": [
      "Recommending 3 products similar to This is an important sentence about cats....\n",
      "-------\n",
      "Recommended: 2 (score:0.816496580927726)\n",
      "Recommended: 3 (score:0.252758885116426)\n",
      "Recommended: 4 (score:0.0)\n"
     ]
    }
   ],
   "source": [
    "sample_recommend('This is an important sentence about cats.', 3)"
   ]
  },
  {
   "cell_type": "code",
   "execution_count": 19,
   "metadata": {},
   "outputs": [
    {
     "name": "stdout",
     "output_type": "stream",
     "text": [
      "Recommending 3 products similar to Dogs have learned data science....\n",
      "-------\n",
      "Recommended: 3 (score:0.18137198239804392)\n",
      "Recommended: 2 (score:0.0)\n",
      "Recommended: 1 (score:0.0)\n"
     ]
    }
   ],
   "source": [
    "sample_recommend('Dogs have learned data science.', 3)"
   ]
  },
  {
   "cell_type": "markdown",
   "metadata": {},
   "source": [
    "## Full tf-idf with real data"
   ]
  },
  {
   "cell_type": "code",
   "execution_count": 20,
   "metadata": {},
   "outputs": [
    {
     "data": {
      "text/html": [
       "<div>\n",
       "<style scoped>\n",
       "    .dataframe tbody tr th:only-of-type {\n",
       "        vertical-align: middle;\n",
       "    }\n",
       "\n",
       "    .dataframe tbody tr th {\n",
       "        vertical-align: top;\n",
       "    }\n",
       "\n",
       "    .dataframe thead th {\n",
       "        text-align: right;\n",
       "    }\n",
       "</style>\n",
       "<table border=\"1\" class=\"dataframe\">\n",
       "  <thead>\n",
       "    <tr style=\"text-align: right;\">\n",
       "      <th></th>\n",
       "      <th>id</th>\n",
       "      <th>description</th>\n",
       "    </tr>\n",
       "  </thead>\n",
       "  <tbody>\n",
       "    <tr>\n",
       "      <th>0</th>\n",
       "      <td>1</td>\n",
       "      <td>Active classic boxers - There's a reason why o...</td>\n",
       "    </tr>\n",
       "    <tr>\n",
       "      <th>1</th>\n",
       "      <td>2</td>\n",
       "      <td>Active sport boxer briefs - Skinning up Glory ...</td>\n",
       "    </tr>\n",
       "    <tr>\n",
       "      <th>2</th>\n",
       "      <td>3</td>\n",
       "      <td>Active sport briefs - These superbreathable no...</td>\n",
       "    </tr>\n",
       "    <tr>\n",
       "      <th>3</th>\n",
       "      <td>4</td>\n",
       "      <td>Alpine guide pants - Skin in, climb ice, switc...</td>\n",
       "    </tr>\n",
       "    <tr>\n",
       "      <th>4</th>\n",
       "      <td>5</td>\n",
       "      <td>Alpine wind jkt - On high ridges, steep ice an...</td>\n",
       "    </tr>\n",
       "  </tbody>\n",
       "</table>\n",
       "</div>"
      ],
      "text/plain": [
       "   id                                        description\n",
       "0   1  Active classic boxers - There's a reason why o...\n",
       "1   2  Active sport boxer briefs - Skinning up Glory ...\n",
       "2   3  Active sport briefs - These superbreathable no...\n",
       "3   4  Alpine guide pants - Skin in, climb ice, switc...\n",
       "4   5  Alpine wind jkt - On high ridges, steep ice an..."
      ]
     },
     "execution_count": 20,
     "metadata": {},
     "output_type": "execute_result"
    }
   ],
   "source": [
    "# View real data again\n",
    "df.head()"
   ]
  },
  {
   "cell_type": "code",
   "execution_count": 21,
   "metadata": {},
   "outputs": [
    {
     "data": {
      "text/plain": [
       "'Active classic boxers - There\\'s a reason why our boxers are a cult favorite - they keep their cool, especially in sticky situations. The quick-drying, lightweight underwear takes up minimal space in a travel pack. An exposed, brushed waistband offers next-to-skin softness, five-panel construction with a traditional boxer back for a classic fit, and a functional fly. Made of 3.7-oz 100% recycled polyester with moisture-wicking performance. Inseam (size M) is 4 1/2\". Recyclable through the Common Threads Recycling Program.<br><br><b>Details:</b><ul> <li>\"Silky Capilene 1 fabric is ultralight, breathable and quick-to-dry\"</li> <li>\"Exposed, brushed elastic waistband for comfort\"</li> <li>5-panel construction with traditional boxer back</li> <li>\"Inseam (size M) is 4 1/2\"\"\"</li></ul><br><br><b>Fabric: </b>3.7-oz 100% all-recycled polyester with Gladiodor natural odor control for the garment. Recyclable through the Common Threads Recycling Program<br><br><b>Weight: </b>99 g (3.5 oz)<br><br>Made in Mexico.'"
      ]
     },
     "execution_count": 21,
     "metadata": {},
     "output_type": "execute_result"
    }
   ],
   "source": [
    "# see example description\n",
    "df.description[0]"
   ]
  },
  {
   "cell_type": "code",
   "execution_count": 22,
   "metadata": {},
   "outputs": [],
   "source": [
    "# Create tfidf vectorizer and apply it on description column of df\n",
    "tf = TfidfVectorizer(analyzer='word', ngram_range=(1, 3), min_df=0, stop_words='english')\n",
    "tfidf_matrix = tf.fit_transform(df['description'])"
   ]
  },
  {
   "cell_type": "code",
   "execution_count": 23,
   "metadata": {},
   "outputs": [
    {
     "data": {
      "text/plain": [
       "(500, 52262)"
      ]
     },
     "execution_count": 23,
     "metadata": {},
     "output_type": "execute_result"
    }
   ],
   "source": [
    "tfidf_matrix.shape"
   ]
  },
  {
   "cell_type": "markdown",
   "metadata": {
    "tags": []
   },
   "source": [
    "## Create similarity matrix and rank items"
   ]
  },
  {
   "cell_type": "code",
   "execution_count": 24,
   "metadata": {},
   "outputs": [],
   "source": [
    "# Calculate cosine similarity\n",
    "cosine_similarities = cosine_similarity(tfidf_matrix) "
   ]
  },
  {
   "cell_type": "code",
   "execution_count": 25,
   "metadata": {},
   "outputs": [
    {
     "data": {
      "text/plain": [
       "(500, 500)"
      ]
     },
     "execution_count": 25,
     "metadata": {},
     "output_type": "execute_result"
    }
   ],
   "source": [
    "# Check shape of matrix\n",
    "cosine_similarities.shape"
   ]
  },
  {
   "cell_type": "code",
   "execution_count": 26,
   "metadata": {},
   "outputs": [],
   "source": [
    "# New empty dictionary to hold results\n",
    "results = {}"
   ]
  },
  {
   "cell_type": "code",
   "execution_count": 27,
   "metadata": {},
   "outputs": [],
   "source": [
    "# Iterate over dataframe, get similarities and select top 100 of them\n",
    "for idx, row in df.iterrows():\n",
    "   similar_indices = cosine_similarities[idx].argsort()[:-100:-1] \n",
    "   similar_items = [(cosine_similarities[idx][i], df['id'][i]) for i in similar_indices] \n",
    "   results[row['id']] = similar_items[1:] # ignore first because it is self"
   ]
  },
  {
   "cell_type": "code",
   "execution_count": 28,
   "metadata": {},
   "outputs": [
    {
     "data": {
      "text/plain": [
       "dict_keys([1, 2, 3, 4, 5, 6, 7, 8, 9, 10, 11, 12, 13, 14, 15, 16, 17, 18, 19, 20, 21, 22, 23, 24, 25, 26, 27, 28, 29, 30, 31, 32, 33, 34, 35, 36, 37, 38, 39, 40, 41, 42, 43, 44, 45, 46, 47, 48, 49, 50, 51, 52, 53, 54, 55, 56, 57, 58, 59, 60, 61, 62, 63, 64, 65, 66, 67, 68, 69, 70, 71, 72, 73, 74, 75, 76, 77, 78, 79, 80, 81, 82, 83, 84, 85, 86, 87, 88, 89, 90, 91, 92, 93, 94, 95, 96, 97, 98, 99, 100, 101, 102, 103, 104, 105, 106, 107, 108, 109, 110, 111, 112, 113, 114, 115, 116, 117, 118, 119, 120, 121, 122, 123, 124, 125, 126, 127, 128, 129, 130, 131, 132, 133, 134, 135, 136, 137, 138, 139, 140, 141, 142, 143, 144, 145, 146, 147, 148, 149, 150, 151, 152, 153, 154, 155, 156, 157, 158, 159, 160, 161, 162, 163, 164, 165, 166, 167, 168, 169, 170, 171, 172, 173, 174, 175, 176, 177, 178, 179, 180, 181, 182, 183, 184, 185, 186, 187, 188, 189, 190, 191, 192, 193, 194, 195, 196, 197, 198, 199, 200, 201, 202, 203, 204, 205, 206, 207, 208, 209, 210, 211, 212, 213, 214, 215, 216, 217, 218, 219, 220, 221, 222, 223, 224, 225, 226, 227, 228, 229, 230, 231, 232, 233, 234, 235, 236, 237, 238, 239, 240, 241, 242, 243, 244, 245, 246, 247, 248, 249, 250, 251, 252, 253, 254, 255, 256, 257, 258, 259, 260, 261, 262, 263, 264, 265, 266, 267, 268, 269, 270, 271, 272, 273, 274, 275, 276, 277, 278, 279, 280, 281, 282, 283, 284, 285, 286, 287, 288, 289, 290, 291, 292, 293, 294, 295, 296, 297, 298, 299, 300, 301, 302, 303, 304, 305, 306, 307, 308, 309, 310, 311, 312, 313, 314, 315, 316, 317, 318, 319, 320, 321, 322, 323, 324, 325, 326, 327, 328, 329, 330, 331, 332, 333, 334, 335, 336, 337, 338, 339, 340, 341, 342, 343, 344, 345, 346, 347, 348, 349, 350, 351, 352, 353, 354, 355, 356, 357, 358, 359, 360, 361, 362, 363, 364, 365, 366, 367, 368, 369, 370, 371, 372, 373, 374, 375, 376, 377, 378, 379, 380, 381, 382, 383, 384, 385, 386, 387, 388, 389, 390, 391, 392, 393, 394, 395, 396, 397, 398, 399, 400, 401, 402, 403, 404, 405, 406, 407, 408, 409, 410, 411, 412, 413, 414, 415, 416, 417, 418, 419, 420, 421, 422, 423, 424, 425, 426, 427, 428, 429, 430, 431, 432, 433, 434, 435, 436, 437, 438, 439, 440, 441, 442, 443, 444, 445, 446, 447, 448, 449, 450, 451, 452, 453, 454, 455, 456, 457, 458, 459, 460, 461, 462, 463, 464, 465, 466, 467, 468, 469, 470, 471, 472, 473, 474, 475, 476, 477, 478, 479, 480, 481, 482, 483, 484, 485, 486, 487, 488, 489, 490, 491, 492, 493, 494, 495, 496, 497, 498, 499, 500])"
      ]
     },
     "execution_count": 28,
     "metadata": {},
     "output_type": "execute_result"
    }
   ],
   "source": [
    "# Notice there is a key for each sentence\n",
    "results.keys()"
   ]
  },
  {
   "cell_type": "code",
   "execution_count": 29,
   "metadata": {},
   "outputs": [
    {
     "data": {
      "text/plain": [
       "{1: [(0.2203792147261748, 19),\n",
       "  (0.16938950913002382, 494),\n",
       "  (0.16769458065321569, 18),\n",
       "  (0.16485527745622983, 172),\n",
       "  (0.14812615460586387, 442),\n",
       "  (0.1457786328436755, 171),\n",
       "  (0.14137642365361253, 21),\n",
       "  (0.13884463426216992, 495),\n",
       "  (0.13879533331363045, 25),\n",
       "  (0.13813550299091384, 496),\n",
       "  (0.13481110970996837, 487),\n",
       "  (0.1322532961383362, 20),\n",
       "  (0.13028260329762054, 341),\n",
       "  (0.1276874354010329, 176),\n",
       "  (0.126716228684137, 488),\n",
       "  (0.12319623660641396, 365),\n",
       "  (0.12155681060658892, 340),\n",
       "  (0.11800704948227399, 60),\n",
       "  (0.11786722607586679, 440),\n",
       "  (0.11657908072337522, 497),\n",
       "  (0.11184896270837247, 173),\n",
       "  (0.11069752245804719, 441),\n",
       "  (0.1085768539256295, 413),\n",
       "  (0.10572078621963342, 443),\n",
       "  (0.10553058093119787, 174),\n",
       "  (0.10403103809186284, 359),\n",
       "  (0.103380355527708, 22),\n",
       "  (0.10290746221687971, 61),\n",
       "  (0.10286246471301824, 312),\n",
       "  (0.10166673618893808, 23),\n",
       "  (0.10110641701157393, 2),\n",
       "  (0.1008241850828255, 360),\n",
       "  (0.09914029968349497, 175),\n",
       "  (0.09882976519938362, 329),\n",
       "  (0.09677082647987278, 24),\n",
       "  (0.09627616966125926, 406),\n",
       "  (0.09060941376749769, 266),\n",
       "  (0.08563221607573802, 277),\n",
       "  (0.08466667169280147, 214),\n",
       "  (0.08429894638410562, 236),\n",
       "  (0.08230891100340934, 446),\n",
       "  (0.07789334481759963, 450),\n",
       "  (0.07686251499850769, 414),\n",
       "  (0.07655475035921251, 100),\n",
       "  (0.07594048353601753, 469),\n",
       "  (0.07533296630164904, 259),\n",
       "  (0.07407951202035765, 419),\n",
       "  (0.07386056647864331, 331),\n",
       "  (0.07367417592453399, 12),\n",
       "  (0.07352178595307964, 358),\n",
       "  (0.07252834040858276, 325),\n",
       "  (0.07107727615338158, 303),\n",
       "  (0.07060869369117258, 260),\n",
       "  (0.0701306017397646, 147),\n",
       "  (0.0698743008280853, 328),\n",
       "  (0.06955608347586367, 500),\n",
       "  (0.06937850998469025, 265),\n",
       "  (0.0693121209430157, 92),\n",
       "  (0.06918205506947783, 89),\n",
       "  (0.06914916083851888, 392),\n",
       "  (0.06899816682854343, 110),\n",
       "  (0.06877237211112412, 391),\n",
       "  (0.06862621981057018, 46),\n",
       "  (0.06858676902096729, 62),\n",
       "  (0.06806653904338004, 200),\n",
       "  (0.06784833009261766, 201),\n",
       "  (0.06784000844259326, 88),\n",
       "  (0.06700899285279996, 330),\n",
       "  (0.06685486733138744, 180),\n",
       "  (0.06546914020981132, 499),\n",
       "  (0.06545195434599752, 64),\n",
       "  (0.06535800903455234, 335),\n",
       "  (0.06532572963033058, 9),\n",
       "  (0.06521721972256558, 302),\n",
       "  (0.06509601138903157, 324),\n",
       "  (0.0648842318412931, 416),\n",
       "  (0.06487353232334099, 3),\n",
       "  (0.0643476414897097, 204),\n",
       "  (0.06404367746801126, 164),\n",
       "  (0.06391186329525861, 326),\n",
       "  (0.06346354324482051, 202),\n",
       "  (0.0633980835646129, 407),\n",
       "  (0.06318266228009901, 466),\n",
       "  (0.063149258625162, 87),\n",
       "  (0.06308506407842493, 276),\n",
       "  (0.06304273650896185, 90),\n",
       "  (0.062292849113804324, 483),\n",
       "  (0.06215714214595041, 209),\n",
       "  (0.0619653339852199, 482),\n",
       "  (0.061906577499956476, 481),\n",
       "  (0.061765044271794176, 37),\n",
       "  (0.06172938104362672, 34),\n",
       "  (0.0616479660489316, 415),\n",
       "  (0.06156666892784105, 57),\n",
       "  (0.061419260731851985, 105),\n",
       "  (0.06135291668274843, 138),\n",
       "  (0.06130608710774858, 287),\n",
       "  (0.06106536274246939, 168)],\n",
       " 2: [(0.4181663992161573, 3),\n",
       "  (0.1154638209862757, 19),\n",
       "  (0.113033922454002, 494),\n",
       "  (0.112478545210916, 300),\n",
       "  (0.11147017924424411, 299),\n",
       "  (0.10110641701157393, 1),\n",
       "  (0.09912196647155448, 318),\n",
       "  (0.08829013849890897, 155),\n",
       "  (0.0882217484489226, 214),\n",
       "  (0.0873103968644247, 301),\n",
       "  (0.08654629095498342, 156),\n",
       "  (0.0855442976159701, 18),\n",
       "  (0.08479025469789578, 164),\n",
       "  (0.08261819374152105, 273),\n",
       "  (0.08254165530350714, 258),\n",
       "  (0.08207498768140595, 259),\n",
       "  (0.08196194871503425, 329),\n",
       "  (0.07960052786230809, 165),\n",
       "  (0.07834380778000205, 205),\n",
       "  (0.07771630263620004, 328),\n",
       "  (0.0765350503412083, 287),\n",
       "  (0.07605183549277712, 450),\n",
       "  (0.07472953865141795, 496),\n",
       "  (0.07208176231477813, 495),\n",
       "  (0.07087049298579122, 173),\n",
       "  (0.070849545042157, 168),\n",
       "  (0.06965420938931648, 330),\n",
       "  (0.06936413935429259, 499),\n",
       "  (0.06867209089092027, 365),\n",
       "  (0.06831677436153784, 312),\n",
       "  (0.06823512521378082, 470),\n",
       "  (0.06774894592748384, 223),\n",
       "  (0.06768881376633175, 411),\n",
       "  (0.06722925592482712, 467),\n",
       "  (0.06601992544916481, 476),\n",
       "  (0.06572998488290156, 213),\n",
       "  (0.0654818287466619, 324),\n",
       "  (0.06542748953424778, 146),\n",
       "  (0.06534479562104083, 316),\n",
       "  (0.06504436226885432, 224),\n",
       "  (0.06500157684278196, 11),\n",
       "  (0.06492049438885421, 306),\n",
       "  (0.06482508570323889, 25),\n",
       "  (0.06480537842539744, 500),\n",
       "  (0.06449726943690437, 115),\n",
       "  (0.06426895823673051, 187),\n",
       "  (0.0642415906227486, 471),\n",
       "  (0.0641452181852018, 209),\n",
       "  (0.06339524469012955, 16),\n",
       "  (0.06275237176678213, 419),\n",
       "  (0.062149648081403386, 34),\n",
       "  (0.062017939799404766, 326),\n",
       "  (0.06124133491909579, 171),\n",
       "  (0.06047515629368169, 485),\n",
       "  (0.06034868797127002, 201),\n",
       "  (0.06026252576492851, 303),\n",
       "  (0.0601884496141958, 395),\n",
       "  (0.059438414614231924, 462),\n",
       "  (0.059356842610316374, 463),\n",
       "  (0.05928730264962937, 32),\n",
       "  (0.05916557534969422, 480),\n",
       "  (0.05889761239080424, 147),\n",
       "  (0.05866680124371953, 308),\n",
       "  (0.05860758732528363, 92),\n",
       "  (0.058538889574904766, 277),\n",
       "  (0.05850385578101161, 15),\n",
       "  (0.0584531632704734, 105),\n",
       "  (0.05834020998290548, 5),\n",
       "  (0.058007336409129445, 272),\n",
       "  (0.05798329096967575, 176),\n",
       "  (0.05796204291308147, 331),\n",
       "  (0.05784477350684669, 62),\n",
       "  (0.057463830078851676, 361),\n",
       "  (0.057426970524614755, 77),\n",
       "  (0.05690553159011151, 402),\n",
       "  (0.05683652467318861, 75),\n",
       "  (0.05681761170624399, 325),\n",
       "  (0.056623082740300486, 446),\n",
       "  (0.05629605669022431, 442),\n",
       "  (0.056256345764938265, 188),\n",
       "  (0.05623737243016755, 483),\n",
       "  (0.05622841387007698, 343),\n",
       "  (0.05622224338703578, 305),\n",
       "  (0.05619718721486845, 417),\n",
       "  (0.05619561771204678, 193),\n",
       "  (0.05610286355354758, 159),\n",
       "  (0.05606576562266303, 484),\n",
       "  (0.055758945238841576, 264),\n",
       "  (0.055738662735240696, 106),\n",
       "  (0.05572378318935024, 454),\n",
       "  (0.0556327708768261, 70),\n",
       "  (0.05556910996592947, 290),\n",
       "  (0.05555524298136237, 112),\n",
       "  (0.055190709249994314, 58),\n",
       "  (0.05505872997396346, 400),\n",
       "  (0.05496158804156569, 63),\n",
       "  (0.05485522756610829, 23),\n",
       "  (0.05463143436149674, 64)]}"
      ]
     },
     "execution_count": 29,
     "metadata": {},
     "output_type": "execute_result"
    }
   ],
   "source": [
    "# We can look at the results of the first 2 items in the dictionary\n",
    "dict(list(results.items())[0:2])"
   ]
  },
  {
   "cell_type": "code",
   "execution_count": 30,
   "metadata": {},
   "outputs": [
    {
     "data": {
      "text/plain": [
       "98"
      ]
     },
     "execution_count": 30,
     "metadata": {},
     "output_type": "execute_result"
    }
   ],
   "source": [
    "# Check number of matches for first item in dictionary\n",
    "top_results_for_item_1 = results[1]\n",
    "len(top_results_for_item_1)"
   ]
  },
  {
   "cell_type": "code",
   "execution_count": 31,
   "metadata": {},
   "outputs": [],
   "source": [
    "# Convenience function for using id to get a description of the item\n",
    "def item(id):  \n",
    "  return df.loc[df['id'] == id]['description'].tolist()[0].split(' - ')[0] "
   ]
  },
  {
   "cell_type": "code",
   "execution_count": 32,
   "metadata": {},
   "outputs": [],
   "source": [
    "# Just reads the results out of the dictionary.def \n",
    "def recommend(item_id, num):\n",
    "    print(\"Recommending \" + str(num) + \" products similar to \" + item(item_id) + \"...\")   \n",
    "    print(\"-------\")    \n",
    "    recs = results[item_id][:num]   \n",
    "    for rec in recs: \n",
    "       print(\"Recommended: \" + item(rec[1]) + \" (score:\" +      str(rec[0]) + \")\")"
   ]
  },
  {
   "cell_type": "markdown",
   "metadata": {},
   "source": [
    "## Test Recommender"
   ]
  },
  {
   "cell_type": "code",
   "execution_count": 33,
   "metadata": {},
   "outputs": [
    {
     "name": "stdout",
     "output_type": "stream",
     "text": [
      "Recommending 5 products similar to Baby sunshade top...\n",
      "-------\n",
      "Recommended: Sunshade hoody (score:0.2133029602108503)\n",
      "Recommended: Baby baggies apron dress (score:0.10975311296284804)\n",
      "Recommended: Runshade t-shirt (score:0.09988151262780731)\n",
      "Recommended: Runshade t-shirt (score:0.09530698241688208)\n",
      "Recommended: Runshade top (score:0.08510550093018408)\n"
     ]
    }
   ],
   "source": [
    "recommend(item_id=11, num=5)"
   ]
  },
  {
   "cell_type": "code",
   "execution_count": 34,
   "metadata": {},
   "outputs": [
    {
     "name": "stdout",
     "output_type": "stream",
     "text": [
      "Recommending 10 products similar to Guidewater duffle...\n",
      "-------\n",
      "Recommended: Guidewater duffle (score:0.6895541163108568)\n",
      "Recommended: Stormfront pack (score:0.15347519932710635)\n",
      "Recommended: Great divider (score:0.15269530355511318)\n",
      "Recommended: Sub divider (score:0.1502147795912542)\n",
      "Recommended: Pack vest (score:0.13448346517160553)\n",
      "Recommended: Hip pack (score:0.10191093186146363)\n",
      "Recommended: Single shot (score:0.09937077698422052)\n",
      "Recommended: Atom (score:0.09719552205229985)\n",
      "Recommended: Hip chest pack (score:0.09583801428070755)\n",
      "Recommended: Lw travel courier (score:0.09241100964485276)\n"
     ]
    }
   ],
   "source": [
    "recommend(item_id=50, num=10)"
   ]
  },
  {
   "cell_type": "code",
   "execution_count": 35,
   "metadata": {},
   "outputs": [
    {
     "name": "stdout",
     "output_type": "stream",
     "text": [
      "Recommending 100 products similar to Active classic boxers...\n",
      "-------\n",
      "Recommended: Cap 1 boxer briefs (score:0.2203792147261748)\n",
      "Recommended: Active boxer briefs (score:0.16938950913002382)\n",
      "Recommended: Cap 1 bottoms (score:0.16769458065321569)\n",
      "Recommended: Cap 1 t-shirt (score:0.16485527745622983)\n",
      "Recommended: Cap 3 bottoms (score:0.14812615460586387)\n",
      "Recommended: Cap 1 bottoms (score:0.1457786328436755)\n",
      "Recommended: Cap 1 t-shirt (score:0.14137642365361253)\n",
      "Recommended: Active briefs (score:0.13884463426216992)\n",
      "Recommended: Cap 4 bottoms (score:0.13879533331363045)\n",
      "Recommended: Cap 2 bottoms (score:0.13813550299091384)\n",
      "Recommended: Cap 1 crew (score:0.13481110970996837)\n",
      "Recommended: Cap 1 graphic t-shirt (score:0.1322532961383362)\n",
      "Recommended: Cap 1 scoop (score:0.13028260329762054)\n",
      "Recommended: Cap 4 bottoms (score:0.1276874354010329)\n",
      "Recommended: Cap 1 graphic crew (score:0.126716228684137)\n",
      "Recommended: Organic cotton boxers (score:0.12319623660641396)\n",
      "Recommended: Cap 1 graphic t-shirt (score:0.12155681060658892)\n",
      "Recommended: Cap 1 graphic tee (score:0.11800704948227399)\n",
      "Recommended: Cap 3 bottoms (score:0.11786722607586679)\n",
      "Recommended: Cap 2 crew (score:0.11657908072337522)\n",
      "Recommended: Cap 2 bottoms (score:0.11184896270837247)\n",
      "Recommended: Cap 3 crew (score:0.11069752245804719)\n",
      "Recommended: Cap 3 crew (score:0.1085768539256295)\n",
      "Recommended: Cap 3 crew (score:0.10572078621963342)\n",
      "Recommended: Cap 2 v-neck (score:0.10553058093119787)\n",
      "Recommended: Cap 2 cap sleeve (score:0.10403103809186284)\n",
      "Recommended: Cap 2 t-shirt (score:0.103380355527708)\n",
      "Recommended: Cap 3 bottoms (score:0.10290746221687971)\n",
      "Recommended: Baggies shorts (score:0.10286246471301824)\n",
      "Recommended: Cap 2 zip neck (score:0.10166673618893808)\n",
      "Recommended: Active sport boxer briefs (score:0.10110641701157393)\n",
      "Recommended: Cap 2 t-shirt (score:0.1008241850828255)\n",
      "Recommended: Cap 2 zip neck (score:0.09914029968349497)\n",
      "Recommended: Borderless shorts (score:0.09882976519938362)\n",
      "Recommended: Cap 3 zip neck (score:0.09677082647987278)\n",
      "Recommended: Merino 2 bottoms (score:0.09627616966125926)\n",
      "Recommended: Merino 2 bottoms (score:0.09060941376749769)\n",
      "Recommended: Cap 4 zip neck (score:0.08563221607573802)\n",
      "Recommended: Rock guide shorts (score:0.08466667169280147)\n",
      "Recommended: Vitaliti tank (score:0.08429894638410562)\n",
      "Recommended: Cap 4 zip neck (score:0.08230891100340934)\n",
      "Recommended: Long haul runners (score:0.07789334481759963)\n",
      "Recommended: Duality jkt (score:0.07686251499850769)\n",
      "Recommended: Paddler board shorts (score:0.07655475035921251)\n",
      "Recommended: Baby duality jkt (score:0.07594048353601753)\n",
      "Recommended: Meridian board shorts (score:0.07533296630164904)\n",
      "Recommended: Sunshade hoody (score:0.07407951202035765)\n",
      "Recommended: Traverse pants (score:0.07386056647864331)\n",
      "Recommended: Baggies shorts (score:0.07367417592453399)\n",
      "Recommended: S/s el ray shirt (score:0.07352178595307964)\n",
      "Recommended: Wavefarer board shorts (score:0.07252834040858276)\n",
      "Recommended: All-wear capris (score:0.07107727615338158)\n",
      "Recommended: Merino 1 crew (score:0.07060869369117258)\n",
      "Recommended: Ultra shorts (score:0.0701306017397646)\n",
      "Recommended: Borderless pants (score:0.0698743008280853)\n",
      "Recommended: All-wear shorts (score:0.06955608347586367)\n",
      "Recommended: Merino 1 t-shirt (score:0.06937850998469025)\n",
      "Recommended: Minimalist board shorts-19 in. (score:0.0693121209430157)\n",
      "Recommended: Merino 2 polo (score:0.06918205506947783)\n",
      "Recommended: Relax fit organic ctn jeans-reg (score:0.06914916083851888)\n",
      "Recommended: Relax fit organic ctn jeans-shor (score:0.06899816682854343)\n",
      "Recommended: Relax fit organic ctn jeans-long (score:0.06877237211112412)\n",
      "Recommended: Girl's boardie shorts (score:0.06862621981057018)\n",
      "Recommended: El cap jkt (score:0.06858676902096729)\n",
      "Recommended: Merino 1 graphic t-shirt (score:0.06806653904338004)\n",
      "Recommended: Merino 1 tank (score:0.06784833009261766)\n",
      "Recommended: Merino 1 t-shirt (score:0.06784000844259326)\n",
      "Recommended: Borderless zip-off pants (score:0.06700899285279996)\n",
      "Recommended: El cap jkt (score:0.06685486733138744)\n",
      "Recommended: All-wear cargo shorts (score:0.06546914020981132)\n",
      "Recommended: Gpiw classic t-shirt (score:0.06545195434599752)\n",
      "Recommended: Live simply guitar t-shirt (score:0.06535800903455234)\n",
      "Recommended: Baby micro d-luxe cardigan (score:0.06532572963033058)\n",
      "Recommended: All-time shell (score:0.06521721972256558)\n",
      "Recommended: Vitalti pants (score:0.06509601138903157)\n",
      "Recommended: Micro puff vest (score:0.0648842318412931)\n",
      "Recommended: Active sport briefs (score:0.06487353232334099)\n",
      "Recommended: Micro puff vest (score:0.0643476414897097)\n",
      "Recommended: Bandha top (score:0.06404367746801126)\n",
      "Recommended: Thrift shorts (score:0.06391186329525861)\n",
      "Recommended: Merino 2 crew (score:0.06346354324482051)\n",
      "Recommended: Merino 2 crew (score:0.0633980835646129)\n",
      "Recommended: Baby baggies shorts (score:0.06318266228009901)\n",
      "Recommended: Merino 1 crew (score:0.063149258625162)\n",
      "Recommended: Trampoli t-shirt (score:0.06308506407842493)\n",
      "Recommended: Merino 2 t-shirt (score:0.06304273650896185)\n",
      "Recommended: Duck shorts (score:0.062292849113804324)\n",
      "Recommended: Nine trails shorts (score:0.06215714214595041)\n",
      "Recommended: Duck pants (score:0.0619653339852199)\n",
      "Recommended: Duck pants (score:0.061906577499956476)\n",
      "Recommended: Duck pants (score:0.061765044271794176)\n",
      "Recommended: Delivery shorts (score:0.06172938104362672)\n",
      "Recommended: Microburst jkt (score:0.0616479660489316)\n",
      "Recommended: Insulator pants (score:0.06156666892784105)\n",
      "Recommended: R1 hoody (score:0.061419260731851985)\n",
      "Recommended: Text logo t-shirt (score:0.06135291668274843)\n",
      "Recommended: Girona board shorts (score:0.06130608710774858)\n",
      "Recommended: Borderless capris (score:0.06106536274246939)\n"
     ]
    }
   ],
   "source": [
    "recommend(item_id=1, num=100)"
   ]
  },
  {
   "cell_type": "markdown",
   "metadata": {},
   "source": [
    "## You've now successfully built a content recommendation system!\n",
    "\n",
    "Next steps would be to repeat this process with another data source.\n",
    "\n",
    "Or extend you knowledge of recommenders by exploring [colloborative recommendation](https://pub.towardsai.net/recommendation-system-in-depth-tutorial-with-python-for-netflix-using-collaborative-filtering-533ff8a0e444) systems."
   ]
  },
  {
   "cell_type": "code",
   "execution_count": null,
   "metadata": {},
   "outputs": [],
   "source": []
  }
 ],
 "metadata": {
  "kernelspec": {
   "display_name": "Python 3 (ipykernel)",
   "language": "python",
   "name": "python3"
  },
  "language_info": {
   "codemirror_mode": {
    "name": "ipython",
    "version": 3
   },
   "file_extension": ".py",
   "mimetype": "text/x-python",
   "name": "python",
   "nbconvert_exporter": "python",
   "pygments_lexer": "ipython3",
   "version": "3.9.7"
  }
 },
 "nbformat": 4,
 "nbformat_minor": 4
}
