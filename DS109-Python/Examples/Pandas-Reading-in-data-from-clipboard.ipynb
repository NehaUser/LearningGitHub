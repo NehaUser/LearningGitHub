{
 "cells": [
  {
   "cell_type": "markdown",
   "id": "94f1e8e1-0821-406f-b3b8-0c73ba28793d",
   "metadata": {},
   "source": [
    "# Reading in data from your clipboard Using Pandas\n",
    "By Matthew Gerardino\n",
    "\n",
    "**Before You Begin:** [Copy data from here](https://github.com/woz-u/DS-Student-Resources/blob/main/DS109-Python/Data/BisonTracking.csv)"
   ]
  },
  {
   "cell_type": "code",
   "execution_count": 1,
   "id": "69bb8fac-1609-4ab8-a978-718b8accb3fc",
   "metadata": {},
   "outputs": [],
   "source": [
    "#import packages\n",
    "import pandas as pd\n",
    "import seaborn as sns\n",
    "import matplotlib.pyplot as plt"
   ]
  },
  {
   "cell_type": "code",
   "execution_count": 2,
   "id": "d66c58a1-da99-4d2e-ae0a-503a6c10e507",
   "metadata": {},
   "outputs": [],
   "source": [
    "#this will read in what ever was last copied as a dataframe\n",
    "df = pd.read_clipboard()"
   ]
  },
  {
   "cell_type": "code",
   "execution_count": 3,
   "id": "c3107e3e-ac22-4cea-b8b0-1333da527ef0",
   "metadata": {},
   "outputs": [
    {
     "data": {
      "text/html": [
       "<div>\n",
       "<style scoped>\n",
       "    .dataframe tbody tr th:only-of-type {\n",
       "        vertical-align: middle;\n",
       "    }\n",
       "\n",
       "    .dataframe tbody tr th {\n",
       "        vertical-align: top;\n",
       "    }\n",
       "\n",
       "    .dataframe thead th {\n",
       "        text-align: right;\n",
       "    }\n",
       "</style>\n",
       "<table border=\"1\" class=\"dataframe\">\n",
       "  <thead>\n",
       "    <tr style=\"text-align: right;\">\n",
       "      <th></th>\n",
       "      <th>Collection/Population Locality</th>\n",
       "      <th>SpecimenNumber</th>\n",
       "      <th>Genus</th>\n",
       "      <th>Species</th>\n",
       "      <th>Length</th>\n",
       "    </tr>\n",
       "  </thead>\n",
       "  <tbody>\n",
       "    <tr>\n",
       "      <th>0</th>\n",
       "      <td>12 Mile Creek</td>\n",
       "      <td>112916</td>\n",
       "      <td>Bison</td>\n",
       "      <td>antiquus</td>\n",
       "      <td>8</td>\n",
       "    </tr>\n",
       "    <tr>\n",
       "      <th>1</th>\n",
       "      <td>12 Mile Creek</td>\n",
       "      <td>112917</td>\n",
       "      <td>Bison</td>\n",
       "      <td>antiquus</td>\n",
       "      <td>7</td>\n",
       "    </tr>\n",
       "    <tr>\n",
       "      <th>2</th>\n",
       "      <td>12 Mile Creek</td>\n",
       "      <td>112918</td>\n",
       "      <td>Bison</td>\n",
       "      <td>antiquus</td>\n",
       "      <td>7</td>\n",
       "    </tr>\n",
       "    <tr>\n",
       "      <th>3</th>\n",
       "      <td>12 Mile Creek</td>\n",
       "      <td>112919</td>\n",
       "      <td>Bison</td>\n",
       "      <td>antiquus</td>\n",
       "      <td>8</td>\n",
       "    </tr>\n",
       "    <tr>\n",
       "      <th>4</th>\n",
       "      <td>12 Mile Creek</td>\n",
       "      <td>112921</td>\n",
       "      <td>Bison</td>\n",
       "      <td>antiquus</td>\n",
       "      <td>9</td>\n",
       "    </tr>\n",
       "  </tbody>\n",
       "</table>\n",
       "</div>"
      ],
      "text/plain": [
       "  Collection/Population Locality SpecimenNumber  Genus   Species  Length\n",
       "0                  12 Mile Creek         112916  Bison  antiquus       8\n",
       "1                  12 Mile Creek         112917  Bison  antiquus       7\n",
       "2                  12 Mile Creek         112918  Bison  antiquus       7\n",
       "3                  12 Mile Creek         112919  Bison  antiquus       8\n",
       "4                  12 Mile Creek         112921  Bison  antiquus       9"
      ]
     },
     "execution_count": 3,
     "metadata": {},
     "output_type": "execute_result"
    }
   ],
   "source": [
    "df.head()"
   ]
  },
  {
   "cell_type": "code",
   "execution_count": 4,
   "id": "16c5ccf7-1c69-4b8d-bfde-731a16f8dec3",
   "metadata": {},
   "outputs": [
    {
     "name": "stdout",
     "output_type": "stream",
     "text": [
      "<class 'pandas.core.frame.DataFrame'>\n",
      "RangeIndex: 1107 entries, 0 to 1106\n",
      "Data columns (total 5 columns):\n",
      " #   Column                          Non-Null Count  Dtype \n",
      "---  ------                          --------------  ----- \n",
      " 0   Collection/Population Locality  1107 non-null   object\n",
      " 1   SpecimenNumber                  1107 non-null   object\n",
      " 2   Genus                           1107 non-null   object\n",
      " 3   Species                         1107 non-null   object\n",
      " 4   Length                          1107 non-null   int64 \n",
      "dtypes: int64(1), object(4)\n",
      "memory usage: 43.4+ KB\n"
     ]
    }
   ],
   "source": [
    "df.info()"
   ]
  },
  {
   "cell_type": "code",
   "execution_count": 5,
   "id": "371f85d7-7744-404b-b739-3804526de8e7",
   "metadata": {},
   "outputs": [
    {
     "data": {
      "text/plain": [
       "antiquus        633\n",
       "bison           435\n",
       "occidentalis     39\n",
       "Name: Species, dtype: int64"
      ]
     },
     "execution_count": 5,
     "metadata": {},
     "output_type": "execute_result"
    }
   ],
   "source": [
    "df[\"Species\"].value_counts()"
   ]
  },
  {
   "cell_type": "code",
   "execution_count": 6,
   "id": "0e85effa-fb57-422a-a3b8-46f1961b98a0",
   "metadata": {},
   "outputs": [
    {
     "data": {
      "text/plain": [
       "Collection/Population Locality    0\n",
       "SpecimenNumber                    0\n",
       "Genus                             0\n",
       "Species                           0\n",
       "Length                            0\n",
       "dtype: int64"
      ]
     },
     "execution_count": 6,
     "metadata": {},
     "output_type": "execute_result"
    }
   ],
   "source": [
    "df.isnull().sum()"
   ]
  },
  {
   "cell_type": "code",
   "execution_count": 7,
   "id": "deb7e9ab-4c30-4662-aa23-49cadea6f61e",
   "metadata": {},
   "outputs": [
    {
     "data": {
      "text/plain": [
       "antiquus        633\n",
       "bison           435\n",
       "occidentalis     39\n",
       "Name: Species, dtype: int64"
      ]
     },
     "execution_count": 7,
     "metadata": {},
     "output_type": "execute_result"
    }
   ],
   "source": [
    "df[\"Species\"].value_counts()"
   ]
  },
  {
   "cell_type": "code",
   "execution_count": 8,
   "id": "d77f732d-dc00-4ab1-aa2c-c4516abd94c1",
   "metadata": {},
   "outputs": [
    {
     "data": {
      "text/plain": [
       "<seaborn.axisgrid.FacetGrid at 0x2d62e830c40>"
      ]
     },
     "execution_count": 8,
     "metadata": {},
     "output_type": "execute_result"
    },
    {
     "data": {
      "image/png": "[encoded data removed]",
      "text/plain": [
       "<Figure size 360x360 with 1 Axes>"
      ]
     },
     "metadata": {
      "needs_background": "light"
     },
     "output_type": "display_data"
    }
   ],
   "source": [
    "sns.catplot(x=\"Species\", kind=\"count\", palette=\"ch:.25\", data=df)"
   ]
  },
  {
   "cell_type": "code",
   "execution_count": 9,
   "id": "8da050cd-098c-498e-9ea0-2371012ee79f",
   "metadata": {},
   "outputs": [
    {
     "data": {
      "text/plain": [
       "<AxesSubplot:xlabel='count', ylabel='Species'>"
      ]
     },
     "execution_count": 9,
     "metadata": {},
     "output_type": "execute_result"
    },
    {
     "data": {
      "image/png": "[encoded data removed]",
      "text/plain": [
       "<Figure size 504x216 with 1 Axes>"
      ]
     },
     "metadata": {
      "needs_background": "light"
     },
     "output_type": "display_data"
    }
   ],
   "source": [
    "f, ax = plt.subplots(figsize=(7, 3))\n",
    "sns.countplot(y=\"Species\", data=df, color=\"c\")"
   ]
  },
  {
   "cell_type": "code",
   "execution_count": null,
   "id": "02177198-7968-41ae-912b-796127f88076",
   "metadata": {},
   "outputs": [],
   "source": []
  }
 ],
 "metadata": {
  "kernelspec": {
   "display_name": "Python 3 (ipykernel)",
   "language": "python",
   "name": "python3"
  },
  "language_info": {
   "codemirror_mode": {
    "name": "ipython",
    "version": 3
   },
   "file_extension": ".py",
   "mimetype": "text/x-python",
   "name": "python",
   "nbconvert_exporter": "python",
   "pygments_lexer": "ipython3",
   "version": "3.9.7"
  }
 },
 "nbformat": 4,
 "nbformat_minor": 5
}
