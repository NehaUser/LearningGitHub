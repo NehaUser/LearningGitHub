{
 "cells": [
  {
   "cell_type": "code",
   "execution_count": 4,
   "id": "b48e96f0-47ab-4663-950d-5095b51d7b63",
   "metadata": {},
   "outputs": [
    {
     "name": "stdout",
     "output_type": "stream",
     "text": [
      "Wednesday\n",
      "Friday\n"
     ]
    }
   ],
   "source": [
    "# Implement Python Switch Case Statement using a Dictionary\n",
    "\n",
    "def Monday():\n",
    "    return \"Monday\"\n",
    "def Tuesday():\n",
    "    return \"Tuesday\"\n",
    "def Wednesday():\n",
    "    return \"Wednesday\"\n",
    "def Thursday():\n",
    "    return \"Thursday\"\n",
    "def Friday():\n",
    "    return \"Friday\"\n",
    "def Saturday():\n",
    "    return \"Saturday\"\n",
    "def Sunday():\n",
    "    return \"Sunday\"\n",
    "def default():\n",
    "    return \"Incorrect day\"\n",
    "\n",
    "switcher = {\n",
    "    1: Monday,\n",
    "    2: Tuesday,\n",
    "    3: Wednesday,\n",
    "    4: Thursday,\n",
    "    5: Friday,\n",
    "    6: Saturday,\n",
    "    7: Sunday\n",
    "    }\n",
    "\n",
    "def switch(dayOfWeek):\n",
    "    return switcher.get(dayOfWeek, default)()\n",
    "\n",
    "print(switch(3))\n",
    "print(switch(5))"
   ]
  },
  {
   "cell_type": "code",
   "execution_count": null,
   "id": "b513339a-30e4-49dc-8796-744fb8e6a2d3",
   "metadata": {},
   "outputs": [],
   "source": []
  }
 ],
 "metadata": {
  "kernelspec": {
   "display_name": "Python 3 (ipykernel)",
   "language": "python",
   "name": "python3"
  },
  "language_info": {
   "codemirror_mode": {
    "name": "ipython",
    "version": 3
   },
   "file_extension": ".py",
   "mimetype": "text/x-python",
   "name": "python",
   "nbconvert_exporter": "python",
   "pygments_lexer": "ipython3",
   "version": "3.9.7"
  }
 },
 "nbformat": 4,
 "nbformat_minor": 5
}
