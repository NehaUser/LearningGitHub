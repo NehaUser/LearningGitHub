{
 "cells": [
  {
   "cell_type": "markdown",
   "id": "1216f38c-0431-446d-90ca-3dbb7fd36522",
   "metadata": {},
   "source": [
    "# Python Classes"
   ]
  },
  {
   "cell_type": "code",
   "execution_count": 14,
   "id": "ec267e1c-4f18-4f8d-8cbc-b8d4fed6358b",
   "metadata": {},
   "outputs": [],
   "source": [
    "class Classroom:\n",
    "    \"This class describes a classroom\"\n",
    "    def __init__(self, name, capacity):\n",
    "        self.name = name\n",
    "        self.capacity = capacity\n",
    "        \n",
    "    def describe_classroom(self):\n",
    "        print(f'This class is named {self.name}')\n",
    "        print(f'It holds {self.capacity} people.')\n",
    "        \n",
    "    def lecture_given(self, lecture):\n",
    "        print(\"The following lecture was given in this classroom: \" + lecture)\n",
    "\n",
    "    def open_seats(self, seats):\n",
    "        print(f\"There are {seats} seats available for today's lecture\")"
   ]
  },
  {
   "cell_type": "code",
   "execution_count": 15,
   "id": "159e9cc6-8049-4406-a104-abf5efdc4a0f",
   "metadata": {},
   "outputs": [],
   "source": [
    "classroom = Classroom(name='Science Room', capacity=45)"
   ]
  },
  {
   "cell_type": "code",
   "execution_count": 16,
   "id": "33b99184-7b56-4e7d-988c-5d50b32cd51d",
   "metadata": {},
   "outputs": [
    {
     "name": "stdout",
     "output_type": "stream",
     "text": [
      "This class is named Science Room\n",
      "It holds 45 people.\n"
     ]
    }
   ],
   "source": [
    "classroom.describe_classroom()"
   ]
  },
  {
   "cell_type": "code",
   "execution_count": 17,
   "id": "133c2bbe-c794-4460-8a36-7fa3805e4dc8",
   "metadata": {},
   "outputs": [
    {
     "name": "stdout",
     "output_type": "stream",
     "text": [
      "The following lecture was given in this classroom: Data Science\n"
     ]
    }
   ],
   "source": [
    "classroom.lecture_given('Data Science')"
   ]
  },
  {
   "cell_type": "code",
   "execution_count": 18,
   "id": "00de8170-b211-4fd4-84ee-cfe715461d1c",
   "metadata": {},
   "outputs": [
    {
     "name": "stdout",
     "output_type": "stream",
     "text": [
      "There are 10 seats available for today's lecture\n"
     ]
    }
   ],
   "source": [
    "classroom.open_seats(10)"
   ]
  },
  {
   "cell_type": "code",
   "execution_count": null,
   "id": "4c410f31-43c5-430e-9552-f315ee5be0eb",
   "metadata": {},
   "outputs": [],
   "source": []
  }
 ],
 "metadata": {
  "kernelspec": {
   "display_name": "Python 3 (ipykernel)",
   "language": "python",
   "name": "python3"
  },
  "language_info": {
   "codemirror_mode": {
    "name": "ipython",
    "version": 3
   },
   "file_extension": ".py",
   "mimetype": "text/x-python",
   "name": "python",
   "nbconvert_exporter": "python",
   "pygments_lexer": "ipython3",
   "version": "3.9.7"
  }
 },
 "nbformat": 4,
 "nbformat_minor": 5
}
