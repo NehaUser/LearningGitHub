{
 "cells": [
  {
   "cell_type": "markdown",
   "id": "2eb54548-a7de-4cbf-ba6d-791834a4fde1",
   "metadata": {},
   "source": [
    "# DS109 Lesson 5 Hands-on Solution"
   ]
  },
  {
   "cell_type": "code",
   "execution_count": 1,
   "id": "17aac330-a380-4e6a-bca8-0e02f696754c",
   "metadata": {},
   "outputs": [
    {
     "name": "stdout",
     "output_type": "stream",
     "text": [
      "6\n",
      "108\n",
      "6.666666666666667\n"
     ]
    }
   ],
   "source": [
    "# Part 1\n",
    "\n",
    "def sum_function(num1, num2, num3):\n",
    "    return num1 + num2 + num3\n",
    "\n",
    "print(sum_function(1, 2, 3))\n",
    "\n",
    "def product_function(number1, number2, number3):\n",
    "    return number1 * number2 * number3\n",
    "\n",
    "print(product_function(4, 3, 9))\n",
    "\n",
    "def average_function(int1, int2, int3):\n",
    "    return (int1 + int2 + int3)/3\n",
    "\n",
    "print(average_function(4, 9, 7))\n",
    "\n"
   ]
  },
  {
   "cell_type": "code",
   "execution_count": 2,
   "id": "f6dbaf94-e927-4fd9-9e6b-2a627d555073",
   "metadata": {},
   "outputs": [
    {
     "name": "stdout",
     "output_type": "stream",
     "text": [
      "44\n",
      "266\n",
      "4.333333333333333\n"
     ]
    }
   ],
   "source": [
    "# Part 2\n",
    "\n",
    "add_numbers = lambda numb1, numb2, numb3 : numb1 + numb2 + numb3\n",
    "\n",
    "print(add_numbers(22, 12, 10))\n",
    "\n",
    "multiply_numbers = lambda numbr1, numbr2, numbr3 : numbr1 * numbr2 * numbr3\n",
    "\n",
    "print(multiply_numbers(2, 7, 19))\n",
    "\n",
    "average_numbers = lambda integer1, integer2, integer3 : (integer1 + integer2 + integer3)/3\n",
    "\n",
    "print(average_numbers(2, 3, 8))\n",
    "\n"
   ]
  },
  {
   "cell_type": "code",
   "execution_count": 3,
   "id": "ec97b35d-4489-4b1d-abc5-158115dccefa",
   "metadata": {},
   "outputs": [
    {
     "name": "stdout",
     "output_type": "stream",
     "text": [
      "[28.0, 20.0, 65.0, 11.0]\n"
     ]
    }
   ],
   "source": [
    "# Part 3\n",
    "\n",
    "list_one = [4, 6, 88, 24]\n",
    "list_two = [17, 34, 9, 5]\n",
    "list_three = [63, 20, 98, 4]\n",
    "\n",
    "average_maker = lambda num1, num2, num3: (num1 + num2 + num3)/3\n",
    "\n",
    "map_results = map(average_maker, list_one, list_two, list_three)\n",
    "\n",
    "print(list(map_results))\n",
    "\n"
   ]
  },
  {
   "cell_type": "code",
   "execution_count": null,
   "id": "85bf335c-9ea5-4700-93af-c0cf60be9c21",
   "metadata": {},
   "outputs": [],
   "source": []
  }
 ],
 "metadata": {
  "kernelspec": {
   "display_name": "Python 3 (ipykernel)",
   "language": "python",
   "name": "python3"
  },
  "language_info": {
   "codemirror_mode": {
    "name": "ipython",
    "version": 3
   },
   "file_extension": ".py",
   "mimetype": "text/x-python",
   "name": "python",
   "nbconvert_exporter": "python",
   "pygments_lexer": "ipython3",
   "version": "3.9.7"
  }
 },
 "nbformat": 4,
 "nbformat_minor": 5
}
