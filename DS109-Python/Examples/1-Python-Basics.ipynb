{
 "cells": [
  {
   "cell_type": "markdown",
   "id": "ea77a5ca-6eca-4357-8802-3b81a528b49d",
   "metadata": {},
   "source": [
    "<img src=\"https://www.python.org/static/img/python-logo@2x.png\" align=\"left\" alt=\"Python image\" width = \"300\">"
   ]
  },
  {
   "cell_type": "markdown",
   "id": "7916f62b-0715-4590-a505-f3ab2dd0360d",
   "metadata": {},
   "source": [
    "[Home](https://www.python.org/)\n",
    "[About](https://www.python.org/about/)\n",
    "[Downloads](https://www.python.org/downloads/)\n",
    "[Community](https://www.python.org/community/)\n",
    "[Success-Stories](https://www.python.org/success-stories/)\n",
    "[News](https://www.python.org/blogs/)\n",
    "[Events](https://www.python.org/events/)\n",
    "[Free-Books](https://pythonbooks.org/free-books/)\n",
    "***"
   ]
  },
  {
   "cell_type": "markdown",
   "id": "e6ffc23a-5cfb-4ca2-b3ec-61f084f6726b",
   "metadata": {},
   "source": [
    "## Check your Python version that Jupyter uses"
   ]
  },
  {
   "cell_type": "code",
   "execution_count": 7,
   "id": "f03a885e-1ab4-44a9-809f-d1a38531bc38",
   "metadata": {},
   "outputs": [
    {
     "name": "stdout",
     "output_type": "stream",
     "text": [
      "3.9.13 (main, May 24 2022, 21:28:44) \n",
      "[Clang 13.0.0 (clang-1300.0.29.30)]\n"
     ]
    }
   ],
   "source": [
    "import sys\n",
    "print(sys.version)\n"
   ]
  },
  {
   "cell_type": "markdown",
   "id": "e2c9565e-eec3-46ee-8677-0c849359c30e",
   "metadata": {},
   "source": [
    "## List your installed kernels"
   ]
  },
  {
   "cell_type": "code",
   "execution_count": 8,
   "id": "89172d05-db5b-470a-acb7-df7b72b709f3",
   "metadata": {},
   "outputs": [
    {
     "name": "stdout",
     "output_type": "stream",
     "text": [
      "Available kernels:\n",
      "  ir           /Users/jsr/Library/Jupyter/kernels/ir\n",
      "  julia-1.6    /Users/jsr/Library/Jupyter/kernels/julia-1.6\n",
      "  python3      /Users/jsr/Library/Jupyter/kernels/python3\n",
      "  stata        /Users/jsr/Library/Jupyter/kernels/stata\n"
     ]
    }
   ],
   "source": [
    "!jupyter kernelspec list  "
   ]
  },
  {
   "cell_type": "markdown",
   "id": "8fd0bab0-e85c-4af8-9aaf-04db172ee42a",
   "metadata": {},
   "source": [
    "# Check Your Python Path"
   ]
  },
  {
   "cell_type": "code",
   "execution_count": 9,
   "id": "b192a1e2-9943-458e-b651-1f4e253b21be",
   "metadata": {},
   "outputs": [
    {
     "name": "stdout",
     "output_type": "stream",
     "text": [
      "['/Users/jsr/Documents/GitHub/DS-Student-Resources/DS109-Python/Examples', '/usr/local/Cellar/python@3.9/3.9.13_1/Frameworks/Python.framework/Versions/3.9/lib/python39.zip', '/usr/local/Cellar/python@3.9/3.9.13_1/Frameworks/Python.framework/Versions/3.9/lib/python3.9', '/usr/local/Cellar/python@3.9/3.9.13_1/Frameworks/Python.framework/Versions/3.9/lib/python3.9/lib-dynload', '', '/Users/jsr/Library/Python/3.9/lib/python/site-packages', '/usr/local/lib/python3.9/site-packages']\n"
     ]
    }
   ],
   "source": [
    "print(sys.path)"
   ]
  },
  {
   "cell_type": "code",
   "execution_count": 10,
   "id": "9ea65538-cbed-4ed8-9a74-16f11289955a",
   "metadata": {},
   "outputs": [
    {
     "name": "stdout",
     "output_type": "stream",
     "text": [
      "sys.version_info(major=3, minor=9, micro=13, releaselevel='final', serial=0)\n"
     ]
    }
   ],
   "source": [
    "print(sys.version_info)"
   ]
  },
  {
   "cell_type": "code",
   "execution_count": 12,
   "id": "ce9dc0c4-650c-44b9-bf5c-56d9713f49d2",
   "metadata": {},
   "outputs": [],
   "source": [
    "#print(sys.modules)"
   ]
  },
  {
   "cell_type": "code",
   "execution_count": 13,
   "id": "e4b7cdb9-ffb3-4906-b7dd-396ddfea76ae",
   "metadata": {},
   "outputs": [
    {
     "data": {
      "text/plain": [
       "\u001b[0;31mType:\u001b[0m        module\n",
       "\u001b[0;31mString form:\u001b[0m <module 'sys' (built-in)>\n",
       "\u001b[0;31mDocstring:\u001b[0m  \n",
       "This module provides access to some objects used or maintained by the\n",
       "interpreter and to functions that interact strongly with the interpreter.\n",
       "\n",
       "Dynamic objects:\n",
       "\n",
       "argv -- command line arguments; argv[0] is the script pathname if known\n",
       "path -- module search path; path[0] is the script directory, else ''\n",
       "modules -- dictionary of loaded modules\n",
       "\n",
       "displayhook -- called to show results in an interactive session\n",
       "excepthook -- called to handle any uncaught exception other than SystemExit\n",
       "  To customize printing in an interactive session or to install a custom\n",
       "  top-level exception handler, assign other functions to replace these.\n",
       "\n",
       "stdin -- standard input file object; used by input()\n",
       "stdout -- standard output file object; used by print()\n",
       "stderr -- standard error object; used for error messages\n",
       "  By assigning other file objects (or objects that behave like files)\n",
       "  to these, it is possible to redirect all of the interpreter's I/O.\n",
       "\n",
       "last_type -- type of last uncaught exception\n",
       "last_value -- value of last uncaught exception\n",
       "last_traceback -- traceback of last uncaught exception\n",
       "  These three are only available in an interactive session after a\n",
       "  traceback has been printed.\n",
       "\n",
       "Static objects:\n",
       "\n",
       "builtin_module_names -- tuple of module names built into this interpreter\n",
       "copyright -- copyright notice pertaining to this interpreter\n",
       "exec_prefix -- prefix used to find the machine-specific Python library\n",
       "executable -- absolute path of the executable binary of the Python interpreter\n",
       "float_info -- a named tuple with information about the float implementation.\n",
       "float_repr_style -- string indicating the style of repr() output for floats\n",
       "hash_info -- a named tuple with information about the hash algorithm.\n",
       "hexversion -- version information encoded as a single integer\n",
       "implementation -- Python implementation information.\n",
       "int_info -- a named tuple with information about the int implementation.\n",
       "maxsize -- the largest supported length of containers.\n",
       "maxunicode -- the value of the largest Unicode code point\n",
       "platform -- platform identifier\n",
       "prefix -- prefix used to find the Python library\n",
       "thread_info -- a named tuple with information about the thread implementation.\n",
       "version -- the version of this interpreter as a string\n",
       "version_info -- version information as a named tuple\n",
       "__stdin__ -- the original stdin; don't touch!\n",
       "__stdout__ -- the original stdout; don't touch!\n",
       "__stderr__ -- the original stderr; don't touch!\n",
       "__displayhook__ -- the original displayhook; don't touch!\n",
       "__excepthook__ -- the original excepthook; don't touch!\n",
       "\n",
       "Functions:\n",
       "\n",
       "displayhook() -- print an object to the screen, and save it in builtins._\n",
       "excepthook() -- print an exception and its traceback to sys.stderr\n",
       "exc_info() -- return thread-safe information about the current exception\n",
       "exit() -- exit the interpreter by raising SystemExit\n",
       "getdlopenflags() -- returns flags to be used for dlopen() calls\n",
       "getprofile() -- get the global profiling function\n",
       "getrefcount() -- return the reference count for an object (plus one :-)\n",
       "getrecursionlimit() -- return the max recursion depth for the interpreter\n",
       "getsizeof() -- return the size of an object in bytes\n",
       "gettrace() -- get the global debug tracing function\n",
       "setdlopenflags() -- set the flags to be used for dlopen() calls\n",
       "setprofile() -- set the global profiling function\n",
       "setrecursionlimit() -- set the max recursion depth for the interpreter\n",
       "settrace() -- set the global debug tracing function\n"
      ]
     },
     "metadata": {},
     "output_type": "display_data"
    }
   ],
   "source": [
    "sys?"
   ]
  },
  {
   "cell_type": "code",
   "execution_count": null,
   "id": "487e40d0-c6e0-41bf-bbdd-c03b876e9d50",
   "metadata": {},
   "outputs": [],
   "source": []
  }
 ],
 "metadata": {
  "kernelspec": {
   "display_name": "Python 3 (ipykernel)",
   "language": "python",
   "name": "python3"
  },
  "language_info": {
   "codemirror_mode": {
    "name": "ipython",
    "version": 3
   },
   "file_extension": ".py",
   "mimetype": "text/x-python",
   "name": "python",
   "nbconvert_exporter": "python",
   "pygments_lexer": "ipython3",
   "version": "3.9.9"
  }
 },
 "nbformat": 4,
 "nbformat_minor": 5
}
