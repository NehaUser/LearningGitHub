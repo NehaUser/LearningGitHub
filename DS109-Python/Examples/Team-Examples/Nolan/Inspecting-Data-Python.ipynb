{
 "cells": [
  {
   "cell_type": "markdown",
   "id": "cd5ce5d5-6d89-4a1c-9434-f79c9adc687b",
   "metadata": {},
   "source": [
    "## Methods to Inspect Data in Python"
   ]
  },
  {
   "cell_type": "code",
   "execution_count": 1,
   "id": "f340a7b1-567a-4c2d-bc77-9697febaff8d",
   "metadata": {},
   "outputs": [
    {
     "data": {
      "text/html": [
       "\n",
       "        <iframe\n",
       "            width=\"720\"\n",
       "            height=\"480\"\n",
       "            src=\"https://player.vimeo.com/video/641242908\"\n",
       "            frameborder=\"0\"\n",
       "            allowfullscreen\n",
       "            \n",
       "        ></iframe>\n",
       "        "
      ],
      "text/plain": [
       "<IPython.lib.display.VimeoVideo at 0x108628c10>"
      ]
     },
     "execution_count": 1,
     "metadata": {},
     "output_type": "execute_result"
    }
   ],
   "source": [
    "from IPython.display import VimeoVideo\n",
    "# Tutorial Video Name: Inspect Data in Python\n",
    "VimeoVideo('641242908', width=720, height=480)"
   ]
  },
  {
   "cell_type": "markdown",
   "id": "520768a3-9f4d-4eee-8e89-01d230ca36c1",
   "metadata": {},
   "source": [
    "https://vimeo.com/641242908"
   ]
  },
  {
   "cell_type": "code",
   "execution_count": 1,
   "id": "68fe5d93-d505-45b6-b0e7-d0bf6443697b",
   "metadata": {},
   "outputs": [],
   "source": [
    "## import packages\n",
    "import pandas as pd"
   ]
  },
  {
   "cell_type": "code",
   "execution_count": 2,
   "id": "c5002ada-5d96-4693-aa37-24cf945392d5",
   "metadata": {},
   "outputs": [],
   "source": [
    "## load data\n",
    "data = pd.read_csv('../../../Data/BisonTracking.csv')"
   ]
  },
  {
   "cell_type": "code",
   "execution_count": 3,
   "id": "ad0d16f9-1b42-438b-b5da-57c00c66bfae",
   "metadata": {},
   "outputs": [
    {
     "data": {
      "text/html": [
       "<div>\n",
       "<style scoped>\n",
       "    .dataframe tbody tr th:only-of-type {\n",
       "        vertical-align: middle;\n",
       "    }\n",
       "\n",
       "    .dataframe tbody tr th {\n",
       "        vertical-align: top;\n",
       "    }\n",
       "\n",
       "    .dataframe thead th {\n",
       "        text-align: right;\n",
       "    }\n",
       "</style>\n",
       "<table border=\"1\" class=\"dataframe\">\n",
       "  <thead>\n",
       "    <tr style=\"text-align: right;\">\n",
       "      <th></th>\n",
       "      <th>Collection/Population Locality</th>\n",
       "      <th>SpecimenNumber</th>\n",
       "      <th>Genus</th>\n",
       "      <th>Species</th>\n",
       "      <th>Length</th>\n",
       "    </tr>\n",
       "  </thead>\n",
       "  <tbody>\n",
       "    <tr>\n",
       "      <th>0</th>\n",
       "      <td>12 Mile Creek</td>\n",
       "      <td>112916</td>\n",
       "      <td>Bison</td>\n",
       "      <td>antiquus</td>\n",
       "      <td>8</td>\n",
       "    </tr>\n",
       "    <tr>\n",
       "      <th>1</th>\n",
       "      <td>12 Mile Creek</td>\n",
       "      <td>112917</td>\n",
       "      <td>Bison</td>\n",
       "      <td>antiquus</td>\n",
       "      <td>7</td>\n",
       "    </tr>\n",
       "    <tr>\n",
       "      <th>2</th>\n",
       "      <td>12 Mile Creek</td>\n",
       "      <td>112918</td>\n",
       "      <td>Bison</td>\n",
       "      <td>antiquus</td>\n",
       "      <td>7</td>\n",
       "    </tr>\n",
       "    <tr>\n",
       "      <th>3</th>\n",
       "      <td>12 Mile Creek</td>\n",
       "      <td>112919</td>\n",
       "      <td>Bison</td>\n",
       "      <td>antiquus</td>\n",
       "      <td>8</td>\n",
       "    </tr>\n",
       "    <tr>\n",
       "      <th>4</th>\n",
       "      <td>12 Mile Creek</td>\n",
       "      <td>112921</td>\n",
       "      <td>Bison</td>\n",
       "      <td>antiquus</td>\n",
       "      <td>9</td>\n",
       "    </tr>\n",
       "  </tbody>\n",
       "</table>\n",
       "</div>"
      ],
      "text/plain": [
       "  Collection/Population Locality SpecimenNumber  Genus   Species  Length\n",
       "0                  12 Mile Creek         112916  Bison  antiquus       8\n",
       "1                  12 Mile Creek         112917  Bison  antiquus       7\n",
       "2                  12 Mile Creek         112918  Bison  antiquus       7\n",
       "3                  12 Mile Creek         112919  Bison  antiquus       8\n",
       "4                  12 Mile Creek         112921  Bison  antiquus       9"
      ]
     },
     "execution_count": 3,
     "metadata": {},
     "output_type": "execute_result"
    }
   ],
   "source": [
    "## first 5 rows\n",
    "data.head()"
   ]
  },
  {
   "cell_type": "code",
   "execution_count": 37,
   "id": "58612518-586f-409b-b4ed-b906dcaded30",
   "metadata": {},
   "outputs": [
    {
     "data": {
      "text/html": [
       "<div>\n",
       "<style scoped>\n",
       "    .dataframe tbody tr th:only-of-type {\n",
       "        vertical-align: middle;\n",
       "    }\n",
       "\n",
       "    .dataframe tbody tr th {\n",
       "        vertical-align: top;\n",
       "    }\n",
       "\n",
       "    .dataframe thead th {\n",
       "        text-align: right;\n",
       "    }\n",
       "</style>\n",
       "<table border=\"1\" class=\"dataframe\">\n",
       "  <thead>\n",
       "    <tr style=\"text-align: right;\">\n",
       "      <th></th>\n",
       "      <th>Collection/Population Locality</th>\n",
       "      <th>SpecimenNumber</th>\n",
       "      <th>Genus</th>\n",
       "      <th>Species</th>\n",
       "      <th>Length</th>\n",
       "    </tr>\n",
       "  </thead>\n",
       "  <tbody>\n",
       "    <tr>\n",
       "      <th>1090</th>\n",
       "      <td>Simonsen</td>\n",
       "      <td>AGOGINO #11</td>\n",
       "      <td>Bison</td>\n",
       "      <td>antiquus</td>\n",
       "      <td>9</td>\n",
       "    </tr>\n",
       "    <tr>\n",
       "      <th>1091</th>\n",
       "      <td>Simonsen</td>\n",
       "      <td>Agogino #11</td>\n",
       "      <td>Bison</td>\n",
       "      <td>antiquus</td>\n",
       "      <td>7</td>\n",
       "    </tr>\n",
       "    <tr>\n",
       "      <th>1092</th>\n",
       "      <td>Simonsen</td>\n",
       "      <td>ISU 31</td>\n",
       "      <td>Bison</td>\n",
       "      <td>antiquus</td>\n",
       "      <td>8</td>\n",
       "    </tr>\n",
       "    <tr>\n",
       "      <th>1093</th>\n",
       "      <td>Simonsen</td>\n",
       "      <td>ISUAL:10:31</td>\n",
       "      <td>Bison</td>\n",
       "      <td>antiquus</td>\n",
       "      <td>7</td>\n",
       "    </tr>\n",
       "    <tr>\n",
       "      <th>1094</th>\n",
       "      <td>Simonsen</td>\n",
       "      <td>SE37 #45/51</td>\n",
       "      <td>Bison</td>\n",
       "      <td>antiquus</td>\n",
       "      <td>9</td>\n",
       "    </tr>\n",
       "    <tr>\n",
       "      <th>1095</th>\n",
       "      <td>Simonsen</td>\n",
       "      <td>SE37 45/51</td>\n",
       "      <td>Bison</td>\n",
       "      <td>antiquus</td>\n",
       "      <td>8</td>\n",
       "    </tr>\n",
       "    <tr>\n",
       "      <th>1096</th>\n",
       "      <td>Simonsen</td>\n",
       "      <td>SEC. 8 E2 #bb</td>\n",
       "      <td>Bison</td>\n",
       "      <td>antiquus</td>\n",
       "      <td>9</td>\n",
       "    </tr>\n",
       "    <tr>\n",
       "      <th>1097</th>\n",
       "      <td>Simonsen</td>\n",
       "      <td>SEC. 8, 30\", E2, #bb</td>\n",
       "      <td>Bison</td>\n",
       "      <td>antiquus</td>\n",
       "      <td>8</td>\n",
       "    </tr>\n",
       "    <tr>\n",
       "      <th>1098</th>\n",
       "      <td>Simonsen</td>\n",
       "      <td>SW15 #3</td>\n",
       "      <td>Bison</td>\n",
       "      <td>antiquus</td>\n",
       "      <td>8</td>\n",
       "    </tr>\n",
       "    <tr>\n",
       "      <th>1099</th>\n",
       "      <td>Simonsen</td>\n",
       "      <td>SW15 #3</td>\n",
       "      <td>Bison</td>\n",
       "      <td>antiquus</td>\n",
       "      <td>7</td>\n",
       "    </tr>\n",
       "    <tr>\n",
       "      <th>1100</th>\n",
       "      <td>Simonsen</td>\n",
       "      <td>SW37 #9</td>\n",
       "      <td>Bison</td>\n",
       "      <td>antiquus</td>\n",
       "      <td>9</td>\n",
       "    </tr>\n",
       "    <tr>\n",
       "      <th>1101</th>\n",
       "      <td>Simonsen</td>\n",
       "      <td>SW37 #9</td>\n",
       "      <td>Bison</td>\n",
       "      <td>antiquus</td>\n",
       "      <td>8</td>\n",
       "    </tr>\n",
       "    <tr>\n",
       "      <th>1102</th>\n",
       "      <td>Terapa</td>\n",
       "      <td>TERA 403</td>\n",
       "      <td>Bison</td>\n",
       "      <td>antiquus</td>\n",
       "      <td>7</td>\n",
       "    </tr>\n",
       "    <tr>\n",
       "      <th>1103</th>\n",
       "      <td>Terapa</td>\n",
       "      <td>TERA 404</td>\n",
       "      <td>Bison</td>\n",
       "      <td>antiquus</td>\n",
       "      <td>8</td>\n",
       "    </tr>\n",
       "    <tr>\n",
       "      <th>1104</th>\n",
       "      <td>Terapa</td>\n",
       "      <td>TERA 426</td>\n",
       "      <td>Bison</td>\n",
       "      <td>antiquus</td>\n",
       "      <td>9</td>\n",
       "    </tr>\n",
       "    <tr>\n",
       "      <th>1105</th>\n",
       "      <td>WICA</td>\n",
       "      <td>422F7A5179</td>\n",
       "      <td>Bison</td>\n",
       "      <td>bison</td>\n",
       "      <td>7</td>\n",
       "    </tr>\n",
       "    <tr>\n",
       "      <th>1106</th>\n",
       "      <td>WICA</td>\n",
       "      <td>AVID*074*597*636</td>\n",
       "      <td>Bison</td>\n",
       "      <td>bison</td>\n",
       "      <td>7</td>\n",
       "    </tr>\n",
       "  </tbody>\n",
       "</table>\n",
       "</div>"
      ],
      "text/plain": [
       "     Collection/Population Locality        SpecimenNumber  Genus   Species  \\\n",
       "1090                       Simonsen           AGOGINO #11  Bison  antiquus   \n",
       "1091                       Simonsen           Agogino #11  Bison  antiquus   \n",
       "1092                       Simonsen                ISU 31  Bison  antiquus   \n",
       "1093                       Simonsen           ISUAL:10:31  Bison  antiquus   \n",
       "1094                       Simonsen           SE37 #45/51  Bison  antiquus   \n",
       "1095                       Simonsen            SE37 45/51  Bison  antiquus   \n",
       "1096                       Simonsen         SEC. 8 E2 #bb  Bison  antiquus   \n",
       "1097                       Simonsen  SEC. 8, 30\", E2, #bb  Bison  antiquus   \n",
       "1098                       Simonsen               SW15 #3  Bison  antiquus   \n",
       "1099                       Simonsen               SW15 #3  Bison  antiquus   \n",
       "1100                       Simonsen               SW37 #9  Bison  antiquus   \n",
       "1101                       Simonsen               SW37 #9  Bison  antiquus   \n",
       "1102                         Terapa              TERA 403  Bison  antiquus   \n",
       "1103                         Terapa              TERA 404  Bison  antiquus   \n",
       "1104                         Terapa              TERA 426  Bison  antiquus   \n",
       "1105                           WICA            422F7A5179  Bison     bison   \n",
       "1106                           WICA      AVID*074*597*636  Bison     bison   \n",
       "\n",
       "      Length  \n",
       "1090       9  \n",
       "1091       7  \n",
       "1092       8  \n",
       "1093       7  \n",
       "1094       9  \n",
       "1095       8  \n",
       "1096       9  \n",
       "1097       8  \n",
       "1098       8  \n",
       "1099       7  \n",
       "1100       9  \n",
       "1101       8  \n",
       "1102       7  \n",
       "1103       8  \n",
       "1104       9  \n",
       "1105       7  \n",
       "1106       7  "
      ]
     },
     "execution_count": 37,
     "metadata": {},
     "output_type": "execute_result"
    }
   ],
   "source": [
    "## last 17 rows\n",
    "data.tail(17)"
   ]
  },
  {
   "cell_type": "code",
   "execution_count": 38,
   "id": "6b35c9bb-5d74-4822-8350-468fffc23d20",
   "metadata": {},
   "outputs": [
    {
     "data": {
      "text/plain": [
       "Index(['Collection/Population Locality', 'SpecimenNumber', 'Genus', 'Species',\n",
       "       'Length'],\n",
       "      dtype='object')"
      ]
     },
     "execution_count": 38,
     "metadata": {},
     "output_type": "execute_result"
    }
   ],
   "source": [
    "## columns\n",
    "data.columns"
   ]
  },
  {
   "cell_type": "code",
   "execution_count": 39,
   "id": "1a0a5ea8-dab2-4802-92e9-e010db8be2b4",
   "metadata": {},
   "outputs": [
    {
     "data": {
      "text/plain": [
       "['Collection/Population Locality',\n",
       " 'SpecimenNumber',\n",
       " 'Genus',\n",
       " 'Species',\n",
       " 'Length']"
      ]
     },
     "execution_count": 39,
     "metadata": {},
     "output_type": "execute_result"
    }
   ],
   "source": [
    "## list of columns\n",
    "list(data.columns)"
   ]
  },
  {
   "cell_type": "code",
   "execution_count": 40,
   "id": "8cdb1280-e2e7-48fa-8ba5-4f71d6ff1e01",
   "metadata": {},
   "outputs": [
    {
     "data": {
      "text/plain": [
       "(1107, 5)"
      ]
     },
     "execution_count": 40,
     "metadata": {},
     "output_type": "execute_result"
    }
   ],
   "source": [
    "## shape of rows and columns\n",
    "data.shape"
   ]
  },
  {
   "cell_type": "code",
   "execution_count": 41,
   "id": "27d8b18b-3e54-4fc3-ab8d-a5913989c3a0",
   "metadata": {},
   "outputs": [
    {
     "data": {
      "text/plain": [
       "1107"
      ]
     },
     "execution_count": 41,
     "metadata": {},
     "output_type": "execute_result"
    }
   ],
   "source": [
    "## shape of only rows\n",
    "data.shape[0]"
   ]
  },
  {
   "cell_type": "code",
   "execution_count": 42,
   "id": "36ee4ffa-d584-484f-b0a6-d51865de2cae",
   "metadata": {},
   "outputs": [
    {
     "data": {
      "text/plain": [
       "array(['antiquus', 'bison', 'occidentalis'], dtype=object)"
      ]
     },
     "execution_count": 42,
     "metadata": {},
     "output_type": "execute_result"
    }
   ],
   "source": [
    "## unique\n",
    "data.Species.unique()"
   ]
  },
  {
   "cell_type": "code",
   "execution_count": 45,
   "id": "fbfa6ee8-889a-4590-acda-d17176cfe747",
   "metadata": {},
   "outputs": [
    {
     "data": {
      "text/plain": [
       "antiquus        633\n",
       "bison           435\n",
       "occidentalis     39\n",
       "Name: Species, dtype: int64"
      ]
     },
     "execution_count": 45,
     "metadata": {},
     "output_type": "execute_result"
    }
   ],
   "source": [
    "## value counts\n",
    "data.Species.value_counts()"
   ]
  },
  {
   "cell_type": "code",
   "execution_count": 46,
   "id": "cc2ef16c-3461-4543-9e7d-95b4c7b44d58",
   "metadata": {},
   "outputs": [
    {
     "name": "stdout",
     "output_type": "stream",
     "text": [
      "<class 'pandas.core.frame.DataFrame'>\n",
      "RangeIndex: 1107 entries, 0 to 1106\n",
      "Data columns (total 5 columns):\n",
      " #   Column                          Non-Null Count  Dtype \n",
      "---  ------                          --------------  ----- \n",
      " 0   Collection/Population Locality  1107 non-null   object\n",
      " 1   SpecimenNumber                  1107 non-null   object\n",
      " 2   Genus                           1107 non-null   object\n",
      " 3   Species                         1107 non-null   object\n",
      " 4   Length                          1107 non-null   int64 \n",
      "dtypes: int64(1), object(4)\n",
      "memory usage: 43.4+ KB\n"
     ]
    }
   ],
   "source": [
    "## information on dataset\n",
    "data.info()"
   ]
  },
  {
   "cell_type": "code",
   "execution_count": 47,
   "id": "7f82939b-aa0d-4b36-8eba-ccb193e8f026",
   "metadata": {},
   "outputs": [
    {
     "data": {
      "text/html": [
       "<div>\n",
       "<style scoped>\n",
       "    .dataframe tbody tr th:only-of-type {\n",
       "        vertical-align: middle;\n",
       "    }\n",
       "\n",
       "    .dataframe tbody tr th {\n",
       "        vertical-align: top;\n",
       "    }\n",
       "\n",
       "    .dataframe thead th {\n",
       "        text-align: right;\n",
       "    }\n",
       "</style>\n",
       "<table border=\"1\" class=\"dataframe\">\n",
       "  <thead>\n",
       "    <tr style=\"text-align: right;\">\n",
       "      <th></th>\n",
       "      <th>Length</th>\n",
       "    </tr>\n",
       "  </thead>\n",
       "  <tbody>\n",
       "    <tr>\n",
       "      <th>count</th>\n",
       "      <td>1107.000000</td>\n",
       "    </tr>\n",
       "    <tr>\n",
       "      <th>mean</th>\n",
       "      <td>7.981030</td>\n",
       "    </tr>\n",
       "    <tr>\n",
       "      <th>std</th>\n",
       "      <td>0.808299</td>\n",
       "    </tr>\n",
       "    <tr>\n",
       "      <th>min</th>\n",
       "      <td>7.000000</td>\n",
       "    </tr>\n",
       "    <tr>\n",
       "      <th>25%</th>\n",
       "      <td>7.000000</td>\n",
       "    </tr>\n",
       "    <tr>\n",
       "      <th>50%</th>\n",
       "      <td>8.000000</td>\n",
       "    </tr>\n",
       "    <tr>\n",
       "      <th>75%</th>\n",
       "      <td>9.000000</td>\n",
       "    </tr>\n",
       "    <tr>\n",
       "      <th>max</th>\n",
       "      <td>9.000000</td>\n",
       "    </tr>\n",
       "  </tbody>\n",
       "</table>\n",
       "</div>"
      ],
      "text/plain": [
       "            Length\n",
       "count  1107.000000\n",
       "mean      7.981030\n",
       "std       0.808299\n",
       "min       7.000000\n",
       "25%       7.000000\n",
       "50%       8.000000\n",
       "75%       9.000000\n",
       "max       9.000000"
      ]
     },
     "execution_count": 47,
     "metadata": {},
     "output_type": "execute_result"
    }
   ],
   "source": [
    "## descriptive summary stats\n",
    "data.describe()"
   ]
  },
  {
   "cell_type": "code",
   "execution_count": null,
   "id": "15b943eb-e5ea-4957-882c-10d3d9cca6b8",
   "metadata": {},
   "outputs": [],
   "source": []
  }
 ],
 "metadata": {
  "kernelspec": {
   "display_name": "Python 3 (ipykernel)",
   "language": "python",
   "name": "python3"
  },
  "language_info": {
   "codemirror_mode": {
    "name": "ipython",
    "version": 3
   },
   "file_extension": ".py",
   "mimetype": "text/x-python",
   "name": "python",
   "nbconvert_exporter": "python",
   "pygments_lexer": "ipython3",
   "version": "3.9.7"
  }
 },
 "nbformat": 4,
 "nbformat_minor": 5
}
