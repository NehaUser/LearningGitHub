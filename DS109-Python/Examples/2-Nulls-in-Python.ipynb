{
 "cells": [
  {
   "cell_type": "markdown",
   "id": "5e64a654-30ee-4d1e-8620-09be6996978c",
   "metadata": {},
   "source": [
    "# Comparison of Null, None and np.NaN in Python"
   ]
  },
  {
   "cell_type": "markdown",
   "id": "4beea759-f5b1-4b3b-b581-751b04dd492b",
   "metadata": {},
   "source": [
    "* Null: Not a keyword in Python (often used in SQL and other languages)\n",
    "* None: Internal Python type\n",
    "* NaN: Numeric value defined as being \"not a number\" "
   ]
  },
  {
   "cell_type": "markdown",
   "id": "31a40013-8f22-41e8-97c2-46471dfca44f",
   "metadata": {},
   "source": [
    "## Comparison of usage in pandas"
   ]
  },
  {
   "cell_type": "code",
   "execution_count": 2,
   "id": "48d4c7bd-7e3e-4157-9393-dfd17f726138",
   "metadata": {},
   "outputs": [],
   "source": [
    "import numpy as np\n",
    "import pandas as pd"
   ]
  },
  {
   "cell_type": "code",
   "execution_count": 17,
   "id": "00b900b8-dfdd-4ecf-8a77-4a619eaf3aba",
   "metadata": {},
   "outputs": [],
   "source": [
    "data_dict = {\n",
    "    'a': [1, 2, 3, 4, 5],\n",
    "}"
   ]
  },
  {
   "cell_type": "code",
   "execution_count": 18,
   "id": "c7e3ff9c-14ec-4406-b192-48e6d18d4ff9",
   "metadata": {},
   "outputs": [
    {
     "data": {
      "text/html": [
       "<div>\n",
       "<style scoped>\n",
       "    .dataframe tbody tr th:only-of-type {\n",
       "        vertical-align: middle;\n",
       "    }\n",
       "\n",
       "    .dataframe tbody tr th {\n",
       "        vertical-align: top;\n",
       "    }\n",
       "\n",
       "    .dataframe thead th {\n",
       "        text-align: right;\n",
       "    }\n",
       "</style>\n",
       "<table border=\"1\" class=\"dataframe\">\n",
       "  <thead>\n",
       "    <tr style=\"text-align: right;\">\n",
       "      <th></th>\n",
       "      <th>a</th>\n",
       "    </tr>\n",
       "  </thead>\n",
       "  <tbody>\n",
       "    <tr>\n",
       "      <th>0</th>\n",
       "      <td>1</td>\n",
       "    </tr>\n",
       "    <tr>\n",
       "      <th>1</th>\n",
       "      <td>2</td>\n",
       "    </tr>\n",
       "    <tr>\n",
       "      <th>2</th>\n",
       "      <td>3</td>\n",
       "    </tr>\n",
       "    <tr>\n",
       "      <th>3</th>\n",
       "      <td>4</td>\n",
       "    </tr>\n",
       "    <tr>\n",
       "      <th>4</th>\n",
       "      <td>5</td>\n",
       "    </tr>\n",
       "  </tbody>\n",
       "</table>\n",
       "</div>"
      ],
      "text/plain": [
       "   a\n",
       "0  1\n",
       "1  2\n",
       "2  3\n",
       "3  4\n",
       "4  5"
      ]
     },
     "execution_count": 18,
     "metadata": {},
     "output_type": "execute_result"
    }
   ],
   "source": [
    "df = pd.DataFrame(data_dict)\n",
    "df.head()"
   ]
  },
  {
   "cell_type": "code",
   "execution_count": 19,
   "id": "cd51fe69-24dd-4d8c-887c-2adafe28c467",
   "metadata": {},
   "outputs": [],
   "source": [
    "df['a'][0] = None\n",
    "df['a'][1] = np.NaN"
   ]
  },
  {
   "cell_type": "code",
   "execution_count": 20,
   "id": "9cbb6e03-b7fb-4172-a20a-c3869c78e92c",
   "metadata": {},
   "outputs": [
    {
     "data": {
      "text/html": [
       "<div>\n",
       "<style scoped>\n",
       "    .dataframe tbody tr th:only-of-type {\n",
       "        vertical-align: middle;\n",
       "    }\n",
       "\n",
       "    .dataframe tbody tr th {\n",
       "        vertical-align: top;\n",
       "    }\n",
       "\n",
       "    .dataframe thead th {\n",
       "        text-align: right;\n",
       "    }\n",
       "</style>\n",
       "<table border=\"1\" class=\"dataframe\">\n",
       "  <thead>\n",
       "    <tr style=\"text-align: right;\">\n",
       "      <th></th>\n",
       "      <th>a</th>\n",
       "    </tr>\n",
       "  </thead>\n",
       "  <tbody>\n",
       "    <tr>\n",
       "      <th>0</th>\n",
       "      <td>NaN</td>\n",
       "    </tr>\n",
       "    <tr>\n",
       "      <th>1</th>\n",
       "      <td>NaN</td>\n",
       "    </tr>\n",
       "    <tr>\n",
       "      <th>2</th>\n",
       "      <td>3.0</td>\n",
       "    </tr>\n",
       "    <tr>\n",
       "      <th>3</th>\n",
       "      <td>4.0</td>\n",
       "    </tr>\n",
       "    <tr>\n",
       "      <th>4</th>\n",
       "      <td>5.0</td>\n",
       "    </tr>\n",
       "  </tbody>\n",
       "</table>\n",
       "</div>"
      ],
      "text/plain": [
       "     a\n",
       "0  NaN\n",
       "1  NaN\n",
       "2  3.0\n",
       "3  4.0\n",
       "4  5.0"
      ]
     },
     "execution_count": 20,
     "metadata": {},
     "output_type": "execute_result"
    }
   ],
   "source": [
    "df"
   ]
  },
  {
   "cell_type": "markdown",
   "id": "5fd74dbf-ed33-4c19-adc7-4cbd87377068",
   "metadata": {},
   "source": [
    "**Notice both values are stored as NaN in pandas**"
   ]
  },
  {
   "cell_type": "code",
   "execution_count": 21,
   "id": "ad35ecf2-bf98-443c-af80-36ad20231a1d",
   "metadata": {},
   "outputs": [
    {
     "data": {
      "text/plain": [
       "2"
      ]
     },
     "execution_count": 21,
     "metadata": {},
     "output_type": "execute_result"
    }
   ],
   "source": [
    "df['a'].isnull().sum()"
   ]
  },
  {
   "cell_type": "markdown",
   "id": "62488889-40ae-4206-8250-6b5903d78650",
   "metadata": {},
   "source": [
    "## Comparison of functions"
   ]
  },
  {
   "cell_type": "code",
   "execution_count": 22,
   "id": "78d43b28-259e-49ac-a776-a832d4d1ad4f",
   "metadata": {},
   "outputs": [],
   "source": [
    "def my_func(my_arg=None):\n",
    "    if my_arg:\n",
    "        print(f'Argument is set as: {my_arg}')\n",
    "    else:\n",
    "        print(f'Argument not found')"
   ]
  },
  {
   "cell_type": "code",
   "execution_count": 23,
   "id": "a5778a2f-d46a-4e7d-9876-28667290e5b6",
   "metadata": {},
   "outputs": [
    {
     "name": "stdout",
     "output_type": "stream",
     "text": [
      "Argument not found\n"
     ]
    }
   ],
   "source": [
    "my_func()"
   ]
  },
  {
   "cell_type": "code",
   "execution_count": 24,
   "id": "36aff264-df02-4e9e-a986-63165ffdb274",
   "metadata": {},
   "outputs": [
    {
     "name": "stdout",
     "output_type": "stream",
     "text": [
      "Argument is set as: nan\n"
     ]
    }
   ],
   "source": [
    "my_func(my_arg=np.NaN)"
   ]
  },
  {
   "cell_type": "markdown",
   "id": "4bc4c4e8-5a3f-44f4-aa98-fcf83b97af3b",
   "metadata": {},
   "source": [
    "**Notice None here represents a value that has not been set, whereas np.NaN is a set value that is not a number**"
   ]
  },
  {
   "cell_type": "code",
   "execution_count": 25,
   "id": "17b1f8fa-b300-4a01-8d3c-e1323655ed0e",
   "metadata": {},
   "outputs": [],
   "source": [
    "a = None\n",
    "b = np.NaN"
   ]
  },
  {
   "cell_type": "code",
   "execution_count": 26,
   "id": "cba04e25-2c26-4d6b-bc26-eb7e096c2d37",
   "metadata": {},
   "outputs": [
    {
     "data": {
      "text/plain": [
       "False"
      ]
     },
     "execution_count": 26,
     "metadata": {},
     "output_type": "execute_result"
    }
   ],
   "source": [
    "a == b"
   ]
  }
 ],
 "metadata": {
  "kernelspec": {
   "display_name": "Python 3 (ipykernel)",
   "language": "python",
   "name": "python3"
  },
  "language_info": {
   "codemirror_mode": {
    "name": "ipython",
    "version": 3
   },
   "file_extension": ".py",
   "mimetype": "text/x-python",
   "name": "python",
   "nbconvert_exporter": "python",
   "pygments_lexer": "ipython3",
   "version": "3.9.7"
  }
 },
 "nbformat": 4,
 "nbformat_minor": 5
}
