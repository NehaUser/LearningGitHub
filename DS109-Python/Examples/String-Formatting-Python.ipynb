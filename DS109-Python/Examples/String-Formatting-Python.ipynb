{
 "cells": [
  {
   "cell_type": "markdown",
   "id": "19e072d4-e795-408e-8103-7f791ff820b8",
   "metadata": {
    "tags": []
   },
   "source": [
    "# String formatting in Python"
   ]
  },
  {
   "cell_type": "code",
   "execution_count": 1,
   "id": "3601b62f-9d77-4ff4-8de0-1eb51d72ea74",
   "metadata": {},
   "outputs": [
    {
     "data": {
      "text/html": [
       "\n",
       "        <iframe\n",
       "            width=\"720\"\n",
       "            height=\"480\"\n",
       "            src=\"https://player.vimeo.com/video/633334265\"\n",
       "            frameborder=\"0\"\n",
       "            allowfullscreen\n",
       "            \n",
       "        ></iframe>\n",
       "        "
      ],
      "text/plain": [
       "<IPython.lib.display.VimeoVideo at 0x106689610>"
      ]
     },
     "execution_count": 1,
     "metadata": {},
     "output_type": "execute_result"
    }
   ],
   "source": [
    "from IPython.display import VimeoVideo\n",
    "# Tutorial Video Name: String formatting in Python\n",
    "VimeoVideo('633334265', width=720, height=480)"
   ]
  },
  {
   "cell_type": "markdown",
   "id": "fc5dbb43-734f-44c9-ae92-f33b7acf5880",
   "metadata": {},
   "source": [
    "https://vimeo.com/633334265"
   ]
  },
  {
   "cell_type": "markdown",
   "id": "0651a16a-0080-4ba0-86ee-b35dabc02b11",
   "metadata": {},
   "source": [
    "Strings can be manipulated in Python in several ways.\n",
    "\n",
    "This notebook reviews 4 methods for formatting strings:\n",
    "* Basic string formatting\n",
    "* Join method\n",
    "* .format\n",
    "* f-strings"
   ]
  },
  {
   "cell_type": "code",
   "execution_count": 4,
   "id": "1743424f-d313-4bfa-9f51-561c1a09f18a",
   "metadata": {},
   "outputs": [],
   "source": [
    "a = 'I'\n",
    "b = 'can'\n",
    "c = 'code'\n",
    "d = 'Python!'"
   ]
  },
  {
   "cell_type": "markdown",
   "id": "23444882-b802-462c-b611-67fec3950775",
   "metadata": {},
   "source": [
    "## String Concat"
   ]
  },
  {
   "cell_type": "code",
   "execution_count": 6,
   "id": "03ae832f-026a-4062-b7aa-126ae56ec8f1",
   "metadata": {},
   "outputs": [
    {
     "name": "stdout",
     "output_type": "stream",
     "text": [
      "I can code Python!\n"
     ]
    }
   ],
   "source": [
    "combined_str = a + ' ' + b + ' ' + c + ' ' + d\n",
    "print(combined_str)"
   ]
  },
  {
   "cell_type": "markdown",
   "id": "0e133ac0-b9ec-4efd-9231-53b013d60f35",
   "metadata": {},
   "source": [
    "## Basic Formatting\n",
    "\n",
    "The string will be set up using `%s` to denote a string and arguments placed after the string will be used in order.\n",
    "\n",
    "Notice the `%` following the final `\"` of the string. "
   ]
  },
  {
   "cell_type": "code",
   "execution_count": 2,
   "id": "09589591-7b91-4bc0-8282-e51789520fa3",
   "metadata": {},
   "outputs": [
    {
     "name": "stdout",
     "output_type": "stream",
     "text": [
      "I can code Python!\n"
     ]
    }
   ],
   "source": [
    "print(\"%s %s %s %s\"% (a, b, c, d))"
   ]
  },
  {
   "cell_type": "markdown",
   "id": "cbb20dbc-df97-4796-bb53-4e7408500279",
   "metadata": {},
   "source": [
    "## Joining Strings\n",
    "\n",
    "A list of strings can be concatenated using the join method.\n",
    "\n",
    "The type of join is specified, followed by what to join. "
   ]
  },
  {
   "cell_type": "code",
   "execution_count": 9,
   "id": "25b01077-7a43-4939-91fe-8bd04c20c6fa",
   "metadata": {},
   "outputs": [
    {
     "name": "stdout",
     "output_type": "stream",
     "text": [
      "I can code Python!\n"
     ]
    }
   ],
   "source": [
    "print(' '.join([a, b, c, d]))"
   ]
  },
  {
   "cell_type": "code",
   "execution_count": 10,
   "id": "56ea3755-1d3b-46e2-a0b4-0eb585fb90fd",
   "metadata": {},
   "outputs": [
    {
     "name": "stdout",
     "output_type": "stream",
     "text": [
      "I_can_code_Python!\n"
     ]
    }
   ],
   "source": [
    "print('_'.join([a, b, c, d]))"
   ]
  },
  {
   "cell_type": "markdown",
   "id": "b0b558b8-0ccf-4a00-8b2e-ba03a8caa435",
   "metadata": {},
   "source": [
    "## Format Method\n",
    "\n",
    "The format method can be called on a string and then named arguments can be passed to it."
   ]
  },
  {
   "cell_type": "code",
   "execution_count": 4,
   "id": "c1c9b24c-3146-4476-8947-4165ccbf2008",
   "metadata": {},
   "outputs": [
    {
     "name": "stdout",
     "output_type": "stream",
     "text": [
      "I can code Python!\n"
     ]
    }
   ],
   "source": [
    "print(\"{one} {two} {three} {four}\".format(one=a, two=b, three=c, four=d))"
   ]
  },
  {
   "cell_type": "code",
   "execution_count": 24,
   "id": "7f0e04bb-802c-4d59-80e6-3a0b8178a343",
   "metadata": {},
   "outputs": [
    {
     "name": "stdout",
     "output_type": "stream",
     "text": [
      "I want to code R!\n"
     ]
    }
   ],
   "source": [
    "print(\"{one} {two} {three} {four}\".format(one=a, two='want to', three=c, four='R!'))"
   ]
  },
  {
   "cell_type": "markdown",
   "id": "b1110470-0893-4fc2-b362-fd90e0845600",
   "metadata": {},
   "source": [
    "## F Strings\n",
    "\n",
    "F strings are a powerful way to manipulate strings. \n",
    "\n",
    "Notice the `f` before the string. This allows the use of python variables to be called using `{var_name}`."
   ]
  },
  {
   "cell_type": "code",
   "execution_count": 5,
   "id": "1cfcf114-6204-43ae-99c6-33b8332ceeaf",
   "metadata": {},
   "outputs": [
    {
     "name": "stdout",
     "output_type": "stream",
     "text": [
      "I can code Python!\n"
     ]
    }
   ],
   "source": [
    "print(f\"{a} {b} {c} {d}\")"
   ]
  },
  {
   "cell_type": "code",
   "execution_count": 7,
   "id": "8f736102-9d59-47df-bea2-bf2ddfbd405a",
   "metadata": {},
   "outputs": [
    {
     "name": "stdout",
     "output_type": "stream",
     "text": [
      "I can code Python! And R too!\n"
     ]
    }
   ],
   "source": [
    "print(f\"{a} {b} {c} {d} And R too!\")"
   ]
  },
  {
   "cell_type": "markdown",
   "id": "6a327444-e1d0-4399-bd76-85fd529a0c49",
   "metadata": {},
   "source": [
    "# Numeric String operations"
   ]
  },
  {
   "cell_type": "code",
   "execution_count": 1,
   "id": "05f59cd3-5a93-4e31-af7c-dc41cc7d8279",
   "metadata": {},
   "outputs": [],
   "source": [
    "my_num = 42"
   ]
  },
  {
   "cell_type": "code",
   "execution_count": 9,
   "id": "81ac1c2e-fcd7-494a-932c-f731b6378241",
   "metadata": {},
   "outputs": [
    {
     "ename": "TypeError",
     "evalue": "can only concatenate str (not \"int\") to str",
     "output_type": "error",
     "traceback": [
      "\u001b[0;31m---------------------------------------------------------------------------\u001b[0m",
      "\u001b[0;31mTypeError\u001b[0m                                 Traceback (most recent call last)",
      "\u001b[0;32m/var/folders/9q/yp0trhm570d82rk1lfh67tq00000gn/T/ipykernel_29211/2652475968.py\u001b[0m in \u001b[0;36m<module>\u001b[0;34m\u001b[0m\n\u001b[1;32m      1\u001b[0m \u001b[0;31m# Notice this fails because python can not combine strings with ints\u001b[0m\u001b[0;34m\u001b[0m\u001b[0;34m\u001b[0m\u001b[0m\n\u001b[0;32m----> 2\u001b[0;31m \u001b[0mprint\u001b[0m\u001b[0;34m(\u001b[0m\u001b[0;34m'The magic number is:'\u001b[0m \u001b[0;34m+\u001b[0m \u001b[0mmy_num\u001b[0m\u001b[0;34m)\u001b[0m\u001b[0;34m\u001b[0m\u001b[0;34m\u001b[0m\u001b[0m\n\u001b[0m",
      "\u001b[0;31mTypeError\u001b[0m: can only concatenate str (not \"int\") to str"
     ]
    }
   ],
   "source": [
    "# Notice this fails because python can not combine strings with ints\n",
    "print('The magic number is:' + my_num)"
   ]
  },
  {
   "cell_type": "code",
   "execution_count": 11,
   "id": "996e487d-a5e6-47af-b379-f4672e1c842d",
   "metadata": {},
   "outputs": [
    {
     "name": "stdout",
     "output_type": "stream",
     "text": [
      "The magic number is: 42\n"
     ]
    }
   ],
   "source": [
    "# To resolve the issue, call str(number) to convert it to a string\n",
    "print('The magic number is: ' + str(my_num))"
   ]
  },
  {
   "cell_type": "code",
   "execution_count": 12,
   "id": "7d23070c-61c5-462e-84a7-776aa2e3fe4b",
   "metadata": {},
   "outputs": [
    {
     "name": "stdout",
     "output_type": "stream",
     "text": [
      "The magic number is: 42\n"
     ]
    }
   ],
   "source": [
    "# Notice that f string formatting will automatically convert the int to a string\n",
    "print(f'The magic number is: {my_num}')"
   ]
  },
  {
   "cell_type": "code",
   "execution_count": 13,
   "id": "d294ade5-af7e-480b-8924-61c200dcb2b1",
   "metadata": {},
   "outputs": [],
   "source": [
    "my_float = 0.123456789"
   ]
  },
  {
   "cell_type": "code",
   "execution_count": 14,
   "id": "63486369-ff11-44cc-95dd-333a97483a26",
   "metadata": {},
   "outputs": [
    {
     "name": "stdout",
     "output_type": "stream",
     "text": [
      "The magic number is: 0.12\n"
     ]
    }
   ],
   "source": [
    "print(f'The magic number is: {my_float}')"
   ]
  },
  {
   "cell_type": "code",
   "execution_count": 22,
   "id": "5f5ebcfa-6ab9-4a83-b5da-1c2ce3dc28df",
   "metadata": {},
   "outputs": [
    {
     "name": "stdout",
     "output_type": "stream",
     "text": [
      "The magic number is:  0.123\n"
     ]
    }
   ],
   "source": [
    "# Floats can be rounded to a desired number of decimal places\n",
    "# Notice the .3 following my_float\n",
    "print(f'The magic number is: {my_float: .3}')"
   ]
  },
  {
   "cell_type": "code",
   "execution_count": 23,
   "id": "6595c788-1596-4afc-9e10-92dc10afa146",
   "metadata": {},
   "outputs": [
    {
     "name": "stdout",
     "output_type": "stream",
     "text": [
      "A floating value can be formatted by 0.123\n"
     ]
    }
   ],
   "source": [
    "# This will round the float to 3 decimal places\n",
    "print('A floating value can be formatted by %.3f' % my_float)"
   ]
  },
  {
   "cell_type": "markdown",
   "id": "572974e4-110d-46d9-ad85-6e3bf535531d",
   "metadata": {},
   "source": [
    "## Stings and lists"
   ]
  },
  {
   "cell_type": "code",
   "execution_count": 27,
   "id": "b12bfa73-79a5-4cb1-b626-9aed4f55695e",
   "metadata": {},
   "outputs": [],
   "source": [
    "my_list = ['A', 'B']"
   ]
  },
  {
   "cell_type": "code",
   "execution_count": 28,
   "id": "9c21a029-e8ee-4240-8b1b-4e39fdd0ee17",
   "metadata": {},
   "outputs": [
    {
     "data": {
      "text/plain": [
       "\"['A', 'B']\""
      ]
     },
     "execution_count": 28,
     "metadata": {},
     "output_type": "execute_result"
    }
   ],
   "source": [
    "str(my_list)"
   ]
  },
  {
   "cell_type": "code",
   "execution_count": 29,
   "id": "2e94a950-c05a-4ddd-8139-97b2b711b7a5",
   "metadata": {},
   "outputs": [
    {
     "data": {
      "text/plain": [
       "'A B'"
      ]
     },
     "execution_count": 29,
     "metadata": {},
     "output_type": "execute_result"
    }
   ],
   "source": [
    "(' ').join(my_list)"
   ]
  },
  {
   "cell_type": "code",
   "execution_count": 30,
   "id": "6451ba16-f023-423c-a836-fb42a8c3e135",
   "metadata": {},
   "outputs": [],
   "source": [
    "num_list = [1, 2, 3]"
   ]
  },
  {
   "cell_type": "code",
   "execution_count": 31,
   "id": "c8f49a64-ce7e-4b73-8115-3cb39c747af8",
   "metadata": {},
   "outputs": [
    {
     "data": {
      "text/plain": [
       "'[1, 2, 3]'"
      ]
     },
     "execution_count": 31,
     "metadata": {},
     "output_type": "execute_result"
    }
   ],
   "source": [
    "str(num_list)"
   ]
  },
  {
   "cell_type": "code",
   "execution_count": 32,
   "id": "d5ad379b-6321-4002-ac43-fc392bb4eb13",
   "metadata": {},
   "outputs": [
    {
     "ename": "TypeError",
     "evalue": "sequence item 0: expected str instance, int found",
     "output_type": "error",
     "traceback": [
      "\u001b[0;31m---------------------------------------------------------------------------\u001b[0m",
      "\u001b[0;31mTypeError\u001b[0m                                 Traceback (most recent call last)",
      "\u001b[0;32m/var/folders/9q/yp0trhm570d82rk1lfh67tq00000gn/T/ipykernel_29211/2724508872.py\u001b[0m in \u001b[0;36m<module>\u001b[0;34m\u001b[0m\n\u001b[0;32m----> 1\u001b[0;31m \u001b[0;34m(\u001b[0m\u001b[0;34m'+'\u001b[0m\u001b[0;34m)\u001b[0m\u001b[0;34m.\u001b[0m\u001b[0mjoin\u001b[0m\u001b[0;34m(\u001b[0m\u001b[0mnum_list\u001b[0m\u001b[0;34m)\u001b[0m\u001b[0;34m\u001b[0m\u001b[0;34m\u001b[0m\u001b[0m\n\u001b[0m",
      "\u001b[0;31mTypeError\u001b[0m: sequence item 0: expected str instance, int found"
     ]
    }
   ],
   "source": [
    "# Note: this fails because ints can NOT be concatenated the same way strings are\n",
    "('+').join(num_list)"
   ]
  },
  {
   "cell_type": "code",
   "execution_count": 36,
   "id": "90b75904-6bef-47a9-9930-8ec03e89c3f9",
   "metadata": {},
   "outputs": [
    {
     "data": {
      "text/plain": [
       "'1+2+3'"
      ]
     },
     "execution_count": 36,
     "metadata": {},
     "output_type": "execute_result"
    }
   ],
   "source": [
    "# Solution is to convert the list to strings before concatenation\n",
    "('+').join(str(x) for x in num_list)"
   ]
  },
  {
   "cell_type": "code",
   "execution_count": null,
   "id": "18dc6d01-caa4-4b52-8805-3d0660a1bfb3",
   "metadata": {},
   "outputs": [],
   "source": []
  }
 ],
 "metadata": {
  "kernelspec": {
   "display_name": "Python 3 (ipykernel)",
   "language": "python",
   "name": "python3"
  },
  "language_info": {
   "codemirror_mode": {
    "name": "ipython",
    "version": 3
   },
   "file_extension": ".py",
   "mimetype": "text/x-python",
   "name": "python",
   "nbconvert_exporter": "python",
   "pygments_lexer": "ipython3",
   "version": "3.9.7"
  }
 },
 "nbformat": 4,
 "nbformat_minor": 5
}
