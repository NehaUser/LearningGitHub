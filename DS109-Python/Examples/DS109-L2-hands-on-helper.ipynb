{
 "cells": [
  {
   "cell_type": "markdown",
   "id": "dc6abf88-d0c1-4f2f-82a7-3b5854fb9243",
   "metadata": {},
   "source": [
    "---\n",
    "## Part 1\n",
    "\n",
    "Create a program that will concatenate string variables together to form your the date.\n",
    "\n",
    "1. Create three variables named `day`, `month` and `year`"
   ]
  },
  {
   "cell_type": "code",
   "execution_count": 1,
   "id": "1787e221-dd9f-4756-8437-63724ae949c8",
   "metadata": {},
   "outputs": [],
   "source": [
    "day = \"First\"\n",
    "month = \"December\"\n",
    "year = \"1999\""
   ]
  },
  {
   "cell_type": "markdown",
   "id": "1a02c814-c2d7-4717-82bd-f6f846150280",
   "metadata": {},
   "source": [
    "2. Concatenate each of these variables to create your date."
   ]
  },
  {
   "cell_type": "code",
   "execution_count": 2,
   "id": "66bf5351-43c4-4941-91e9-8150c850e0cc",
   "metadata": {},
   "outputs": [
    {
     "data": {
      "text/plain": [
       "'FirstDecember1999'"
      ]
     },
     "execution_count": 2,
     "metadata": {},
     "output_type": "execute_result"
    }
   ],
   "source": [
    "day + month + year"
   ]
  },
  {
   "cell_type": "markdown",
   "id": "621d3a72-553f-4369-8dee-76a0d0aff84c",
   "metadata": {},
   "source": [
    "3. Assign the concatenation to a fourth variable named `my_date`. "
   ]
  },
  {
   "cell_type": "code",
   "execution_count": 3,
   "id": "544a708c-5866-4782-b5c6-72a0fbfb362c",
   "metadata": {},
   "outputs": [],
   "source": [
    "my_date = day + month + year"
   ]
  },
  {
   "cell_type": "markdown",
   "id": "95f47c5f-dada-40b6-8df8-a7214934d594",
   "metadata": {},
   "source": [
    "4. Finally, `print` the variable `my_date` to see if you have the format identical to the one in the example below:\n",
    "    - For example, if the date is on November 11th of 1991, then the format/output should be `December First, 1999`"
   ]
  },
  {
   "cell_type": "code",
   "execution_count": 4,
   "id": "47f7a969-fbdb-4a6d-b219-e582b8b88913",
   "metadata": {},
   "outputs": [
    {
     "data": {
      "text/plain": [
       "'FirstDecember1999'"
      ]
     },
     "execution_count": 4,
     "metadata": {},
     "output_type": "execute_result"
    }
   ],
   "source": [
    "my_date"
   ]
  },
  {
   "cell_type": "markdown",
   "id": "9a3b023d-3b6f-46d6-8769-6c836e29ff08",
   "metadata": {},
   "source": [
    "oooh we need some spaces"
   ]
  },
  {
   "cell_type": "code",
   "execution_count": 5,
   "id": "e0bd504f-e896-4848-a600-9b78cbe1efd4",
   "metadata": {},
   "outputs": [],
   "source": [
    "my_date = day + \" \" + month + \" \" + year"
   ]
  },
  {
   "cell_type": "code",
   "execution_count": 6,
   "id": "f9e4ed09-b876-4e1c-9a80-8a0d118309da",
   "metadata": {},
   "outputs": [
    {
     "data": {
      "text/plain": [
       "'First December 1999'"
      ]
     },
     "execution_count": 6,
     "metadata": {},
     "output_type": "execute_result"
    }
   ],
   "source": [
    "my_date"
   ]
  },
  {
   "cell_type": "code",
   "execution_count": 9,
   "id": "80dc1cda-26d8-4131-a3dd-9a5628f75a51",
   "metadata": {},
   "outputs": [],
   "source": [
    "my_date =  month + \" \" + day + \" \" + year"
   ]
  },
  {
   "cell_type": "code",
   "execution_count": 10,
   "id": "49f7f21e-037e-490f-801a-34b83305fccc",
   "metadata": {},
   "outputs": [
    {
     "data": {
      "text/plain": [
       "'December First 1999'"
      ]
     },
     "execution_count": 10,
     "metadata": {},
     "output_type": "execute_result"
    }
   ],
   "source": [
    "my_date"
   ]
  },
  {
   "cell_type": "markdown",
   "id": "89daf141-78f5-4078-9e8b-2ae1c661a4de",
   "metadata": {},
   "source": [
    "we need a comma!"
   ]
  },
  {
   "cell_type": "code",
   "execution_count": 11,
   "id": "a27d78a1-808a-4b81-b805-e47256c95090",
   "metadata": {},
   "outputs": [],
   "source": [
    "my_date =  month + \" \" + day + \", \" + year"
   ]
  },
  {
   "cell_type": "code",
   "execution_count": 12,
   "id": "55229e6c-e48e-4cbb-8ddd-7a216f807366",
   "metadata": {},
   "outputs": [
    {
     "data": {
      "text/plain": [
       "'December First, 1999'"
      ]
     },
     "execution_count": 12,
     "metadata": {},
     "output_type": "execute_result"
    }
   ],
   "source": [
    "my_date"
   ]
  },
  {
   "cell_type": "code",
   "execution_count": 3,
   "id": "ca585b0f-fa8f-433a-b9a8-ad2ab97e2ffc",
   "metadata": {},
   "outputs": [],
   "source": [
    "age =12"
   ]
  },
  {
   "cell_type": "markdown",
   "id": "9e741b77-2f32-4104-97a6-8ee77104b7b2",
   "metadata": {},
   "source": [
    "---\n",
    "## Part 2\n",
    "\n",
    "1. Concatenate the variables `a`, `b`, `c`, and `d` and set this concatenation to the variable `final`:\n",
    "    ```python\n",
    "    a = \"I\"\n",
    "    b = \"Can\"\n",
    "    c = \"Code\"\n",
    "    d = \"Python\"\n",
    "\n",
    "    final =\n",
    "    ```\n",
    "2. Print the `final` variable, but all words should be uppercase. \n",
    "3. Run this code in the VSCode terminal. \n",
    "    - The output should be `I CAN CODE PYTHON`."
   ]
  },
  {
   "cell_type": "code",
   "execution_count": 13,
   "id": "70f25f8c-6576-4315-bf67-65f587aa162e",
   "metadata": {},
   "outputs": [],
   "source": [
    "a = \"I\"\n",
    "b = \"Can\"\n",
    "c = \"Code\"\n",
    "d = \"Python\""
   ]
  },
  {
   "cell_type": "code",
   "execution_count": 18,
   "id": "bf299f46-7802-4806-afb9-f54a41f0417a",
   "metadata": {},
   "outputs": [],
   "source": [
    "final = (' ').join([a,b,c,d])"
   ]
  },
  {
   "cell_type": "code",
   "execution_count": 19,
   "id": "07e890d3-d84f-4adc-9760-f6522cae7180",
   "metadata": {},
   "outputs": [
    {
     "data": {
      "text/plain": [
       "'I Can Code Python'"
      ]
     },
     "execution_count": 19,
     "metadata": {},
     "output_type": "execute_result"
    }
   ],
   "source": [
    "final"
   ]
  },
  {
   "cell_type": "code",
   "execution_count": 20,
   "id": "86949b2e-6521-4591-aded-6e42c66431ca",
   "metadata": {},
   "outputs": [
    {
     "data": {
      "text/plain": [
       "'I CAN CODE PYTHON'"
      ]
     },
     "execution_count": 20,
     "metadata": {},
     "output_type": "execute_result"
    }
   ],
   "source": [
    "final.upper()"
   ]
  },
  {
   "cell_type": "markdown",
   "id": "d1ef50dc-4703-4a8d-860d-68845adf80c3",
   "metadata": {},
   "source": [
    "---\n",
    "## Part 3\n",
    "\n",
    "Finally, add code to your program that determines temperature. There should be four possible outputs:\n",
    "\n",
    "- If the temperature reads under 32, print `it is freezing`\n",
    "- If the temperature is over 32 but under 60, print `it's getting warmer`\n",
    "- If the temperature is 60 or over, print `ahhh Spring is in the Air`\n",
    "- If the temperature is over 80, print `Summer is here!`\n",
    "\n",
    "Below is some code to get you started:\n",
    "\n",
    "```python\n",
    "temp = 32\n",
    "\n",
    "if temp < 32:\n",
    "    print('it is freezing')\n",
    "elif temp > 32 and temp < 60:\n",
    "    print('it's getting warmer')\n",
    "elif temp => 60:\n",
    "    print('ahhh Spring is in the Air')\n",
    "else:\n",
    "    print('Summer is here!')\n",
    "\n",
    "```\n",
    "\n",
    "<div class=\"panel panel-info\">\n",
    "    <div class=\"panel-heading\">\n",
    "        <h3 class=\"panel-title\">Tip!</h3>\n",
    "    </div>\n",
    "    <div class=\"panel-body\">\n",
    "        <p>You made need more than one <code>elif</code> statement to capture each condition, and the sequence matters.</p>\n",
    "    </div>\n",
    "</div>\n",
    "\n",
    "<div class=\"panel panel-danger\">\n",
    "    <div class=\"panel-heading\">\n",
    "        <h3 class=\"panel-title\">Caution!</h3>\n",
    "    </div>\n",
    "    <div class=\"panel-body\">\n",
    "        <p>Be sure to zip and submit your entire <code>lesson_two_handson</code> directory when finished!</p>\n",
    "    </div>\n",
    "</div>"
   ]
  },
  {
   "cell_type": "code",
   "execution_count": 25,
   "id": "6de751e1-bb88-48a5-a609-0240459ea850",
   "metadata": {},
   "outputs": [
    {
     "name": "stdout",
     "output_type": "stream",
     "text": [
      "it is freezing\n"
     ]
    }
   ],
   "source": [
    "temp = 32\n",
    "\n",
    "if temp <= 32:\n",
    "    print('it is freezing')\n",
    "elif temp > 32 and temp < 60:\n",
    "    print('it is getting warmer')\n",
    "elif temp >= 60:\n",
    "    print('ahhh Spring is in the Air')\n",
    "else:\n",
    "    print('Summer is here!')"
   ]
  },
  {
   "cell_type": "code",
   "execution_count": null,
   "id": "e4fe2713-3c21-439e-b206-0b28b5ed5118",
   "metadata": {},
   "outputs": [],
   "source": []
  }
 ],
 "metadata": {
  "kernelspec": {
   "display_name": "Python 3 (ipykernel)",
   "language": "python",
   "name": "python3"
  },
  "language_info": {
   "codemirror_mode": {
    "name": "ipython",
    "version": 3
   },
   "file_extension": ".py",
   "mimetype": "text/x-python",
   "name": "python",
   "nbconvert_exporter": "python",
   "pygments_lexer": "ipython3",
   "version": "3.9.7"
  }
 },
 "nbformat": 4,
 "nbformat_minor": 5
}
