{
 "cells": [
  {
   "cell_type": "markdown",
   "id": "d3ebbb0c-28a4-4983-92bd-34c171d1e3a8",
   "metadata": {},
   "source": [
    "# Python Automation Tools"
   ]
  },
  {
   "cell_type": "markdown",
   "id": "c18338c3-09c7-4ff5-a6d8-a40ac192b419",
   "metadata": {},
   "source": [
    "Python is one of the most growing computer languages in recent times due to its easiness and demand. Every time we write a script, we need to execute it but if we use Automation then we don’t need to execute scripts every time, it’ll be done by Automation in a specific time period which s set by us according to our requirement. In this article, you’ll find some Python libraries which can make Automation easy.\n",
    "\n",
    "## 1. Requests:\n",
    "Usually, when you want to automate something, you might across APIs. Requests is a simple to use HTTP library for Python users that allows you to make requests and interact with APIs. To replicate a request easily, you need to open the network tab in Google Chrome, select the request you want to repeat, click Copy as cURL and then paste the cURL command to some converter and get the Python code you need.\n",
    "You can refer to its documentation: https://docs.python-requests.org/en/latest/\n",
    "\n",
    "## 2. APScheduler (Task Scheduling Library):\n",
    "When you make some API requests, you usually want to run it periodically like every fifteen minutes or so. For this kind of case, you need to use a package or library called Advance Python Scheduler. This library has very nice documentation as well, which will allow you to take it into use very fast. I used APScheduler when building screenshot automation using Python and Google Calendar Projects.\n",
    "You can refer to its documentation: https://apscheduler.readthedocs.io/en/3.x/\n",
    "\n",
    "## 3. CSV:\n",
    "CSV stands for Comma-Separated Values and it is one of the most common for spreadsheets. This package or library can be very handy when you try to fill your tax papers, while doing some basic accounting, data processing, working on excel sheets, and so on. There are many possibilities, and the format allows you to open the file on programs like Excel, Google Sheets, etc.\n",
    "You can refer to its documentation: https://docs.python.org/3/library/csv.html\n",
    "\n",
    "## 4. Watchdog:\n",
    "How often do you want to observe some folder and do action based on that? watchdog is a module that allows us to watch the file system. Got messy Desktop? Use watchdog.\n",
    "You can refer to its documentation: https://pypi.org/project/watchdog/\n",
    "\n",
    "## 5. Selenium, BeautifulSoup, Scrapy:\n",
    "It’s hard to imagine automation without web scraping. For example, let’s say you want to keep track of prices on Amazon or automate ordering food from a restaurant. For these kinds of cases, it might be better to use web scraping tools.\n",
    "\n",
    "Since Selenium is also used for test automation, you can use it for doing actions on websites such as filling forms, clicking buttons, etc. BeautifulSoup is good for simple projects.\n",
    "Scrapy might seem a bit complex to learn but keep in mind that it suits complex projects and is significantly faster. So do your research and find which one fits your needs.\n",
    "You can refer to its documentation: For BeautifulSoup, https://www.crummy.com/software/BeautifulSoup/bs4/doc/\n",
    "For Scrapy, https://scrapy.org/\n",
    "For Selenium, https://selenium-python.readthedocs.io/\n",
    "\n",
    "## 6. TWILIO:\n",
    "Let’s say you build automation to track prices. How would you get informed when prices are at the level that you want them to be? In these kinds of cases, you can use the Twilio library which allows sending text messages and making calls.\n",
    "You can refer to its documentation: https://www.twilio.com/docs/libraries/python\n",
    "\n",
    "## 7. RANDOM USER AGENT:\n",
    "The last interesting library for automation is called Random User Agent. This library allows you to add random user agents to your requests. Using random user agents should help a bit so that you don’t get caught while scraping data or sending many requests.\n",
    "You can refer to its documentation: https://pypi.org/project/random-user-agent/"
   ]
  },
  {
   "cell_type": "code",
   "execution_count": null,
   "id": "0eb77cf3-a6f3-4b42-a0bb-25108fd9de92",
   "metadata": {},
   "outputs": [],
   "source": []
  }
 ],
 "metadata": {
  "kernelspec": {
   "display_name": "Python 3 (ipykernel)",
   "language": "python",
   "name": "python3"
  },
  "language_info": {
   "codemirror_mode": {
    "name": "ipython",
    "version": 3
   },
   "file_extension": ".py",
   "mimetype": "text/x-python",
   "name": "python",
   "nbconvert_exporter": "python",
   "pygments_lexer": "ipython3",
   "version": "3.9.10"
  }
 },
 "nbformat": 4,
 "nbformat_minor": 5
}
