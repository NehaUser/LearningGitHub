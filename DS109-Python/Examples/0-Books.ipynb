{
 "cells": [
  {
   "cell_type": "markdown",
   "id": "a0053cc3-aaf8-42a1-a1bd-420c66f7a140",
   "metadata": {},
   "source": [
    "# Books, Books, and more Books!"
   ]
  },
  {
   "cell_type": "markdown",
   "id": "dc2d1904-d68d-4833-9a89-e41c7e2f2a8f",
   "metadata": {},
   "source": [
    "- [Learn Python the right way ](../Books/learn-python-the-right-way.pdf)\n",
    "- [Hands On Machine Learning with Scikit-Learn, Keras and TensorFlow](../Books/Hands-On-Machine-Learning.pdf)\n",
    "- [pandas: powerful Python data analysis toolkit](../Books/pandas.pdf)\n",
    "- [Practical Statistics for Data Scientists](../Books/Practical-Statistics-for-Data-Scientists.pdf)\n",
    "- [Python Data Science Handbook](https://github.com/jakevdp/PythonDataScienceHandbook)"
   ]
  },
  {
   "cell_type": "code",
   "execution_count": null,
   "id": "aaa979e3-6263-499e-807c-0396683a1f9a",
   "metadata": {},
   "outputs": [],
   "source": []
  }
 ],
 "metadata": {
  "kernelspec": {
   "display_name": "Python 3 (ipykernel)",
   "language": "python",
   "name": "python3"
  },
  "language_info": {
   "codemirror_mode": {
    "name": "ipython",
    "version": 3
   },
   "file_extension": ".py",
   "mimetype": "text/x-python",
   "name": "python",
   "nbconvert_exporter": "python",
   "pygments_lexer": "ipython3",
   "version": "3.9.10"
  }
 },
 "nbformat": 4,
 "nbformat_minor": 5
}
